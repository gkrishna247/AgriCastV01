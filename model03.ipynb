{
 "cells": [
  {
   "cell_type": "code",
   "execution_count": null,
   "metadata": {},
   "outputs": [],
   "source": [
    "\"\"\"\n",
    "This program is designed to build a machine learning model that predicts the price of various agriculture products.\n",
    "The dataset used for training the model is in CSV format and has the following structure:\n",
    "       Date     Rice    Wheat  Atta (Wheat)  Gram Dal  Tur/Arhar Dal  Urad Dal  Moong Dal  Masoor Dal   Sugar  ...  Vanaspati (Packed)  Soya Oil (Packed)  Sunflower Oil (Packed)  Palm Oil (Packed)     Gur  Tea Loose  Salt Pack (Iodised)  Potato   Onion  Tomato\n",
    "0  2016-01-01   29.50   30.50        26.67     70.50         155.00     160.00    105.75       90.00   32.75  ...              79.25               88.0                    92.25             59.25   43.00      215.0               16.25   20.50   23.25    29.5\n",
    "1  2016-01-02   29.60   31.40        27.50     71.40         154.60     161.20    108.20       92.50   33.00  ...              82.00               88.0                    92.00             59.00   45.00      216.0               16.60   20.40   23.60    32.0\n",
    "2  2016-01-03   29.60   31.40        27.50     71.40         154.00     161.20    108.20       92.50   33.00  ...              82.00               88.0                    92.00             59.00   45.00      216.0               16.60   20.40   23.60    35.0\n",
    "3  2016-01-04   29.60   31.40        27.50     71.40         151.60     160.20    107.20       90.50   34.40  ...              82.00               88.0                    92.00             59.00   45.00      216.0               16.60   21.40   23.00    41.4\n",
    "4  2016-01-05   29.50   31.75        27.50     71.75         151.50     161.50    107.50       90.50   34.25  ...              80.25               88.0                    91.75             58.75   45.75      215.0               17.00   21.25   22.75    41.0\n",
    "[6 rows x 23 columns]\n",
    "\"\"\""
   ]
  },
  {
   "cell_type": "code",
   "execution_count": null,
   "metadata": {},
   "outputs": [],
   "source": []
  }
 ],
 "metadata": {
  "kernelspec": {
   "display_name": "Python 3",
   "language": "python",
   "name": "python3"
  },
  "language_info": {
   "name": "python",
   "version": "3.12.6"
  }
 },
 "nbformat": 4,
 "nbformat_minor": 2
}

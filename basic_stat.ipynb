{
 "cells": [
  {
   "cell_type": "code",
   "execution_count": null,
   "metadata": {},
   "outputs": [],
   "source": [
    "# Program to read the data from the csv file and calculate the mean, median and mode of the data saved in the csv file\n",
    "'''data columns are: Index(['Day', 'Month', 'Year', 'States/UTs', 'Rice', 'Wheat', 'Atta (Wheat)',\n",
    "       'Gram Dal', 'Tur/Arhar Dal', 'Urad Dal', 'Moong Dal', 'Masoor Dal',\n",
    "       'Sugar', 'Milk @', 'Groundnut Oil (Packed)', 'Mustard Oil (Packed)',\n",
    "       'Vanaspati (Packed)', 'Soya Oil (Packed)', 'Sunflower Oil (Packed)',\n",
    "       'Palm Oil (Packed)', 'Gur', 'Tea Loose', 'Salt Pack (Iodised)',\n",
    "       'Potato', 'Onion', 'Tomato'],\n",
    "      dtype='object')'''\n"
   ]
  },
  {
   "cell_type": "code",
   "execution_count": 3,
   "metadata": {},
   "outputs": [],
   "source": [
    "# Importing the required libraries\n",
    "import statistics\n",
    "import numpy as np\n",
    "import pandas as pd"
   ]
  },
  {
   "cell_type": "code",
   "execution_count": 14,
   "metadata": {},
   "outputs": [],
   "source": [
    "# Function to calculate the mean, mode and median of the data\n",
    "def calculate_daily_stat(data, days):\n",
    "    results_list = []\n",
    "    for i in range(days.shape[0]):\n",
    "        temp = data[(data['Day'] == days['Day'][i]) & \n",
    "                    (data['Month'] == days['Month'][i]) & \n",
    "                    (data['Year'] == days['Year'][i])]\n",
    "\n",
    "        # Calculate mean for each column\n",
    "        daily_result = {}\n",
    "        for j in temp.columns:\n",
    "            temp1 = temp[j].dropna()\n",
    "            if temp1.dtype == 'int64' or temp1.dtype == 'float64':\n",
    "                daily_result[j] = temp1.mean()\n",
    "            else:\n",
    "                daily_result[j] = 'mean'  # Placeholder for non-numerical columns\n",
    "        results_list.append(daily_result)\n",
    "\n",
    "        # Calculate mode for each column\n",
    "        daily_result = {}\n",
    "        for j in temp.columns:\n",
    "            temp1 = temp[j].dropna()\n",
    "            if temp1.dtype == 'int64' or temp1.dtype == 'float64':\n",
    "                daily_result[j] = statistics.mode(temp1) #default mode function does not work for multiple modes\n",
    "            else:\n",
    "                daily_result[j] = 'mode'  # Placeholder for non-numerical columns\n",
    "        results_list.append(daily_result)\n",
    "\n",
    "        # Calculate median for each column\n",
    "        daily_result = {}\n",
    "        for j in temp.columns:\n",
    "            temp1 = temp[j].dropna()\n",
    "            if temp1.dtype == 'int64' or temp1.dtype == 'float64':\n",
    "                daily_result[j] = np.median(temp1)\n",
    "            else:\n",
    "                daily_result[j] = 'median'  # Placeholder for non-numerical columns\n",
    "        results_list.append(daily_result)\n",
    "\n",
    "    return results_list"
   ]
  },
  {
   "cell_type": "code",
   "execution_count": 4,
   "metadata": {},
   "outputs": [],
   "source": [
    "# Function to count the number of data types in each row\n",
    "def count_datatypes_per_row(df):\n",
    "  counts = []\n",
    "  for _, row in df.iterrows():\n",
    "    type_counts = {}\n",
    "    for value in row.values:\n",
    "      value_type = type(value).__name__  # Get the name of the data type\n",
    "      type_counts[value_type] = type_counts.get(value_type, 0) + 1\n",
    "    counts.append(type_counts)\n",
    "\n",
    "  return pd.DataFrame(counts, index=df.index)"
   ]
  },
  {
   "cell_type": "code",
   "execution_count": null,
   "metadata": {},
   "outputs": [],
   "source": [
    "# defining the path of the csv files\n",
    "path_r='data/cleansing/data_r.csv'\n",
    "path_w='data/cleansing/data_w.csv'\n",
    "op_path_r='data/cleansing/stat_r.csv'\n",
    "op_path_w='data/cleansing/stat_w.csv'\n",
    "\n",
    "# reading the data from the csv files and storing it in the dataframes\n",
    "data_r=pd.read_csv(path_r)\n",
    "data_w=pd.read_csv(path_w)\n",
    "\n",
    "# create a new dataframe of unique days from the dataframes\n",
    "days_r=data_r[['Day', 'Month', 'Year']].drop_duplicates().reset_index(drop=True)\n",
    "days_w=data_w[['Day', 'Month', 'Year']].drop_duplicates().reset_index(drop=True)\n",
    "\n",
    "# print shape of 4 dataframes\n",
    "print('data_r shape:',data_r.shape)\n",
    "print('data_w shape:',data_w.shape)\n",
    "print('days_r shape:',days_r.shape)\n",
    "print('days_w shape:',days_w.shape)\n"
   ]
  },
  {
   "cell_type": "code",
   "execution_count": 4,
   "metadata": {},
   "outputs": [],
   "source": [
    "# call the function to calculate the mean, mode and median of each day\n",
    "results_list_r = calculate_daily_stat(data_r, days_r)\n",
    "results_list_w = calculate_daily_stat(data_w, days_w)"
   ]
  },
  {
   "cell_type": "code",
   "execution_count": null,
   "metadata": {},
   "outputs": [],
   "source": [
    "# Convert the list of daily results to a DataFrame\n",
    "result_r = pd.DataFrame(results_list_r)\n",
    "result_w = pd.DataFrame(results_list_w)\n",
    "\n",
    "# Save the DataFrame to a CSV file\n",
    "result_r.to_csv(op_path_r, index=False)\n",
    "result_w.to_csv(op_path_w, index=False)"
   ]
  },
  {
   "cell_type": "code",
   "execution_count": 7,
   "metadata": {},
   "outputs": [],
   "source": [
    "# count the number of data types in each row\n",
    "result_r_counts = count_datatypes_per_row(data_r)\n",
    "result_w_counts = count_datatypes_per_row(data_w)"
   ]
  },
  {
   "cell_type": "code",
   "execution_count": null,
   "metadata": {},
   "outputs": [],
   "source": [
    "# print the data types count\n",
    "print('result_r_counts:',result_r_counts)\n",
    "print('result_w_counts:',result_w_counts)"
   ]
  },
  {
   "cell_type": "code",
   "execution_count": 11,
   "metadata": {},
   "outputs": [],
   "source": [
    "# convert the data types count to csv file if required\n",
    "result_r_counts.to_csv('data/cleansing/result_r_counts.csv', index=False)\n",
    "result_w_counts.to_csv('data/cleansing/result_w_counts.csv', index=False)"
   ]
  }
 ],
 "metadata": {
  "kernelspec": {
   "display_name": "Python 3",
   "language": "python",
   "name": "python3"
  },
  "language_info": {
   "codemirror_mode": {
    "name": "ipython",
    "version": 3
   },
   "file_extension": ".py",
   "mimetype": "text/x-python",
   "name": "python",
   "nbconvert_exporter": "python",
   "pygments_lexer": "ipython3",
   "version": "3.12.5"
  }
 },
 "nbformat": 4,
 "nbformat_minor": 2
}

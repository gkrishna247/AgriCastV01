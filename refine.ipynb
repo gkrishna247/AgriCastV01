{
 "cells": [
  {
   "cell_type": "code",
   "execution_count": 1,
   "metadata": {},
   "outputs": [],
   "source": [
    "import pandas as pd"
   ]
  },
  {
   "cell_type": "code",
   "execution_count": 2,
   "metadata": {},
   "outputs": [],
   "source": [
    "df=pd.read_csv('data/cleansing/filled/data.csv')"
   ]
  },
  {
   "cell_type": "code",
   "execution_count": 3,
   "metadata": {},
   "outputs": [],
   "source": [
    "df=df[df['Year']>2022]"
   ]
  },
  {
   "cell_type": "code",
   "execution_count": 4,
   "metadata": {},
   "outputs": [],
   "source": [
    "'''Rajasthan              614\n",
    "Karnataka              614\n",
    "Uttar Pradesh          614\n",
    "Punjab                 614\n",
    "Odisha                 614\n",
    "West Bengal            614\n",
    "Meghalaya              614\n",
    "Maharashtra            614\n",
    "Madhya Pradesh         614\n",
    "Jharkhand              614\n",
    "Tamil Nadu             614\n",
    "Himachal Pradesh       614\n",
    "Haryana                614\n",
    "Gujarat                614\n",
    "Delhi                  614\n",
    "Chhattisgarh           614\n",
    "Bihar                  614\n",
    "Assam                  614\n",
    "Telangana '''\n",
    "df=df[df['States/UTs'].isin(['Rajasthan','Karnataka','Uttar Pradesh','Punjab','Odisha','West Bengal','Meghalaya','Maharashtra','Madhya Pradesh','Jharkhand','Tamil Nadu','Himachal Pradesh','Haryana','Gujarat','Delhi','Chhattisgarh','Bihar','Assam','Telangana'])]"
   ]
  },
  {
   "cell_type": "code",
   "execution_count": 4,
   "metadata": {},
   "outputs": [
    {
     "data": {
      "text/plain": [
       "array(['Assam', 'Bihar', 'Chhattisgarh', 'Delhi', 'Gujarat', 'Haryana',\n",
       "       'Himachal Pradesh', 'Jharkhand', 'Karnataka', 'Madhya Pradesh',\n",
       "       'Maharashtra', 'Meghalaya', 'Odisha', 'Punjab', 'Rajasthan',\n",
       "       'Tamil Nadu', 'Telangana', 'Uttar Pradesh', 'West Bengal'],\n",
       "      dtype=object)"
      ]
     },
     "execution_count": 4,
     "metadata": {},
     "output_type": "execute_result"
    }
   ],
   "source": [
    "df['States/UTs'].unique()"
   ]
  },
  {
   "cell_type": "code",
   "execution_count": null,
   "metadata": {},
   "outputs": [],
   "source": []
  },
  {
   "cell_type": "code",
   "execution_count": 5,
   "metadata": {},
   "outputs": [
    {
     "data": {
      "text/plain": [
       "States/UTs\n",
       "Assam               614\n",
       "Maharashtra         614\n",
       "Uttar Pradesh       614\n",
       "Telangana           614\n",
       "Tamil Nadu          614\n",
       "Rajasthan           614\n",
       "Punjab              614\n",
       "Odisha              614\n",
       "Meghalaya           614\n",
       "Madhya Pradesh      614\n",
       "Bihar               614\n",
       "Karnataka           614\n",
       "Jharkhand           614\n",
       "Himachal Pradesh    614\n",
       "Haryana             614\n",
       "Gujarat             614\n",
       "Delhi               614\n",
       "Chhattisgarh        614\n",
       "West Bengal         614\n",
       "Name: count, dtype: int64"
      ]
     },
     "execution_count": 5,
     "metadata": {},
     "output_type": "execute_result"
    }
   ],
   "source": [
    "# count each state\n",
    "df['States/UTs'].value_counts()"
   ]
  },
  {
   "cell_type": "code",
   "execution_count": 7,
   "metadata": {},
   "outputs": [],
   "source": [
    "# save to csv\n",
    "df.to_csv('data/cleansing/filled/data.csv',index=False)"
   ]
  }
 ],
 "metadata": {
  "kernelspec": {
   "display_name": "Python 3",
   "language": "python",
   "name": "python3"
  },
  "language_info": {
   "codemirror_mode": {
    "name": "ipython",
    "version": 3
   },
   "file_extension": ".py",
   "mimetype": "text/x-python",
   "name": "python",
   "nbconvert_exporter": "python",
   "pygments_lexer": "ipython3",
   "version": "3.12.6"
  }
 },
 "nbformat": 4,
 "nbformat_minor": 2
}

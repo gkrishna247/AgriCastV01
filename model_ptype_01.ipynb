{
  "cells": [
    {
      "cell_type": "code",
      "execution_count": 1,
      "metadata": {
        "id": "5ncTnK8IGcE2"
      },
      "outputs": [],
      "source": [
        "import pandas as pd\n",
        "import numpy as np\n",
        "import tensorflow\n",
        "import matplotlib.pyplot as plt\n",
        "from sklearn.model_selection import train_test_split\n",
        "from sklearn.preprocessing import MinMaxScaler\n",
        "from tensorflow.keras.models import Sequential\n",
        "from tensorflow.keras.layers import LSTM, Dense"
      ]
    },
    {
      "cell_type": "code",
      "execution_count": 2,
      "metadata": {},
      "outputs": [
        {
          "data": {
            "text/plain": [
              "\"data columns are: Index(['Day', 'Month', 'Year', 'States/UTs', 'Rice', 'Wheat', 'Atta (Wheat)',\\n       'Gram Dal', 'Tur/Arhar Dal', 'Urad Dal', 'Moong Dal', 'Masoor Dal',\\n       'Sugar', 'Milk @', 'Groundnut Oil (Packed)', 'Mustard Oil (Packed)',\\n       'Vanaspati (Packed)', 'Soya Oil (Packed)', 'Sunflower Oil (Packed)',\\n       'Palm Oil (Packed)', 'Gur', 'Tea Loose', 'Salt Pack (Iodised)',\\n       'Potato', 'Onion', 'Tomato'],\\n      dtype='object')\""
            ]
          },
          "execution_count": 2,
          "metadata": {},
          "output_type": "execute_result"
        }
      ],
      "source": [
        "'''data columns are: Index(['Day', 'Month', 'Year', 'States/UTs', 'Rice', 'Wheat', 'Atta (Wheat)',\n",
        "       'Gram Dal', 'Tur/Arhar Dal', 'Urad Dal', 'Moong Dal', 'Masoor Dal',\n",
        "       'Sugar', 'Milk @', 'Groundnut Oil (Packed)', 'Mustard Oil (Packed)',\n",
        "       'Vanaspati (Packed)', 'Soya Oil (Packed)', 'Sunflower Oil (Packed)',\n",
        "       'Palm Oil (Packed)', 'Gur', 'Tea Loose', 'Salt Pack (Iodised)',\n",
        "       'Potato', 'Onion', 'Tomato'],\n",
        "      dtype='object')'''"
      ]
    },
    {
      "cell_type": "code",
      "execution_count": 3,
      "metadata": {
        "id": "jKzOr6xKG4Ys"
      },
      "outputs": [],
      "source": [
        "# Load the data from the CSV file\n",
        "df = pd.read_csv(r\"data\\cleansing\\filled\\data_r_mean_filled.csv\")"
      ]
    },
    {
      "cell_type": "code",
      "execution_count": 4,
      "metadata": {},
      "outputs": [
        {
          "name": "stdout",
          "output_type": "stream",
          "text": [
            "(89280, 26)\n"
          ]
        }
      ],
      "source": [
        "print(df.shape)"
      ]
    },
    {
      "cell_type": "code",
      "execution_count": 5,
      "metadata": {},
      "outputs": [
        {
          "name": "stdout",
          "output_type": "stream",
          "text": [
            "(50899, 26)\n"
          ]
        }
      ],
      "source": [
        "df = df[(df[\"Year\"] >=2020)]\n",
        "print(df.shape)"
      ]
    },
    {
      "cell_type": "code",
      "execution_count": 6,
      "metadata": {
        "id": "TmhegmtXG4QW"
      },
      "outputs": [],
      "source": [
        "# Convert date columns to a datetime object\n",
        "df['Date'] = pd.to_datetime(df[['Day', 'Month', 'Year']])\n",
        "df.set_index('Date', inplace=True)"
      ]
    },
    {
      "cell_type": "code",
      "execution_count": 7,
      "metadata": {
        "id": "pqLE05AUG4Jw"
      },
      "outputs": [],
      "source": [
        "# Select the crops for prediction\n",
        "crops = [\"Rice\", \"Wheat\", \"Atta (Wheat)\", \"Gram Dal\", \"Tur/Arhar Dal\", \"Urad Dal\", \"Moong Dal\", \"Masoor Dal\", \"Sugar\", \"Milk @\", \"Groundnut Oil (Packed)\", \"Mustard Oil (Packed)\", \"Vanaspati (Packed)\", \"Soya Oil (Packed)\", \"Sunflower Oil (Packed)\", \"Palm Oil (Packed)\", \"Gur\", \"Tea Loose\", \"Salt Pack (Iodised)\", \"Potato\", \"Onion\", \"Tomato\"]"
      ]
    },
    {
      "cell_type": "code",
      "execution_count": 8,
      "metadata": {},
      "outputs": [
        {
          "name": "stdout",
          "output_type": "stream",
          "text": [
            "22\n"
          ]
        }
      ],
      "source": [
        "print(len(crops))"
      ]
    },
    {
      "cell_type": "code",
      "execution_count": 9,
      "metadata": {
        "id": "jb6B6siNG4Fo"
      },
      "outputs": [],
      "source": [
        "# Create a dictionary to store the last known data for each state\n",
        "last_known_data = {}\n",
        "for state in df['States/UTs'].unique():\n",
        "    last_known_data[state] = df[df['States/UTs'] == state].iloc[-1][crops].values"
      ]
    },
    {
      "cell_type": "code",
      "execution_count": 10,
      "metadata": {
        "id": "K17VZZ5tG4Bh"
      },
      "outputs": [
        {
          "name": "stdout",
          "output_type": "stream",
          "text": [
            "(50899, 22)\n"
          ]
        }
      ],
      "source": [
        "# Prepare data for LSTM\n",
        "data = df[crops].values\n",
        "print(data.shape)"
      ]
    },
    {
      "cell_type": "code",
      "execution_count": 11,
      "metadata": {
        "id": "yqTQqxoVG39I"
      },
      "outputs": [],
      "source": [
        "# Scale the data to be between 0 and 1\n",
        "scaler = MinMaxScaler(feature_range=(0, 1))\n",
        "scaled_data = scaler.fit_transform(data)"
      ]
    },
    {
      "cell_type": "code",
      "execution_count": 12,
      "metadata": {
        "id": "OMsCIA9OG31R"
      },
      "outputs": [],
      "source": [
        "# Split the data into training and testing sets\n",
        "train_data, test_data = train_test_split(scaled_data, test_size=0.2)\n",
        "#print(train_data)"
      ]
    },
    {
      "cell_type": "code",
      "execution_count": 13,
      "metadata": {
        "id": "O4Eh9I7LG3xA"
      },
      "outputs": [],
      "source": [
        "# Create the function to create the dataset\n",
        "def create_dataset(dataset, look_back=1):\n",
        "    X, Y = [], []\n",
        "    for i in range(len(dataset)-look_back-1):\n",
        "        a = dataset[i:(i+look_back), :]\n",
        "        X.append(a)\n",
        "        Y.append(dataset[i + look_back, :])\n",
        "    return np.array(X), np.array(Y)"
      ]
    },
    {
      "cell_type": "code",
      "execution_count": 14,
      "metadata": {
        "id": "WgrgJmkuG3s0"
      },
      "outputs": [],
      "source": [
        "# Set look_back period (number of previous days to consider)\n",
        "look_back = 7\n",
        "X_train, Y_train = create_dataset(train_data, look_back)\n",
        "X_test, Y_test = create_dataset(test_data, look_back)"
      ]
    },
    {
      "cell_type": "code",
      "execution_count": 15,
      "metadata": {
        "id": "lqfpnKrdG3mZ"
      },
      "outputs": [],
      "source": [
        "# Reshape input to be [samples, time steps, features]\n",
        "X_train = np.reshape(X_train, (X_train.shape[0], X_train.shape[1], X_train.shape[2]))\n",
        "X_test = np.reshape(X_test, (X_test.shape[0], X_test.shape[1], X_test.shape[2]))"
      ]
    },
    {
      "cell_type": "code",
      "execution_count": 16,
      "metadata": {
        "colab": {
          "base_uri": "https://localhost:8080/"
        },
        "id": "omUUdym3G3a-",
        "outputId": "240ae506-e6a8-4c69-fca2-a61143b7f1ae"
      },
      "outputs": [
        {
          "name": "stdout",
          "output_type": "stream",
          "text": [
            "Epoch 1/100\n"
          ]
        },
        {
          "name": "stderr",
          "output_type": "stream",
          "text": [
            "c:\\Users\\krish\\AppData\\Local\\Programs\\Python\\Python312\\Lib\\site-packages\\keras\\src\\layers\\rnn\\rnn.py:204: UserWarning: Do not pass an `input_shape`/`input_dim` argument to a layer. When using Sequential models, prefer using an `Input(shape)` object as the first layer in the model instead.\n",
            "  super().__init__(**kwargs)\n"
          ]
        },
        {
          "name": "stdout",
          "output_type": "stream",
          "text": [
            "40711/40711 - 86s - 2ms/step - loss: 0.0200\n",
            "Epoch 2/100\n",
            "40711/40711 - 95s - 2ms/step - loss: 0.0198\n",
            "Epoch 3/100\n",
            "40711/40711 - 91s - 2ms/step - loss: 0.0197\n",
            "Epoch 4/100\n",
            "40711/40711 - 93s - 2ms/step - loss: 0.0197\n",
            "Epoch 5/100\n",
            "40711/40711 - 93s - 2ms/step - loss: 0.0197\n",
            "Epoch 6/100\n",
            "40711/40711 - 100s - 2ms/step - loss: 0.0197\n",
            "Epoch 7/100\n",
            "40711/40711 - 97s - 2ms/step - loss: 0.0197\n",
            "Epoch 8/100\n",
            "40711/40711 - 93s - 2ms/step - loss: 0.0197\n",
            "Epoch 9/100\n",
            "40711/40711 - 95s - 2ms/step - loss: 0.0197\n",
            "Epoch 10/100\n",
            "40711/40711 - 98s - 2ms/step - loss: 0.0197\n",
            "Epoch 11/100\n",
            "40711/40711 - 98s - 2ms/step - loss: 0.0197\n",
            "Epoch 12/100\n",
            "40711/40711 - 96s - 2ms/step - loss: 0.0197\n",
            "Epoch 13/100\n",
            "40711/40711 - 96s - 2ms/step - loss: 0.0197\n",
            "Epoch 14/100\n",
            "40711/40711 - 98s - 2ms/step - loss: 0.0197\n",
            "Epoch 15/100\n",
            "40711/40711 - 97s - 2ms/step - loss: 0.0197\n",
            "Epoch 16/100\n",
            "40711/40711 - 96s - 2ms/step - loss: 0.0197\n",
            "Epoch 17/100\n",
            "40711/40711 - 97s - 2ms/step - loss: 0.0197\n",
            "Epoch 18/100\n",
            "40711/40711 - 96s - 2ms/step - loss: 0.0197\n",
            "Epoch 19/100\n",
            "40711/40711 - 94s - 2ms/step - loss: 0.0197\n",
            "Epoch 20/100\n",
            "40711/40711 - 93s - 2ms/step - loss: 0.0197\n",
            "Epoch 21/100\n",
            "40711/40711 - 89s - 2ms/step - loss: 0.0197\n",
            "Epoch 22/100\n",
            "40711/40711 - 82s - 2ms/step - loss: 0.0197\n",
            "Epoch 23/100\n",
            "40711/40711 - 89s - 2ms/step - loss: 0.0197\n",
            "Epoch 24/100\n",
            "40711/40711 - 92s - 2ms/step - loss: 0.0197\n",
            "Epoch 25/100\n",
            "40711/40711 - 91s - 2ms/step - loss: 0.0197\n",
            "Epoch 26/100\n",
            "40711/40711 - 98s - 2ms/step - loss: 0.0197\n",
            "Epoch 27/100\n",
            "40711/40711 - 96s - 2ms/step - loss: 0.0197\n",
            "Epoch 28/100\n",
            "40711/40711 - 97s - 2ms/step - loss: 0.0197\n",
            "Epoch 29/100\n",
            "40711/40711 - 94s - 2ms/step - loss: 0.0197\n",
            "Epoch 30/100\n",
            "40711/40711 - 99s - 2ms/step - loss: 0.0197\n",
            "Epoch 31/100\n",
            "40711/40711 - 97s - 2ms/step - loss: 0.0197\n",
            "Epoch 32/100\n",
            "40711/40711 - 98s - 2ms/step - loss: 0.0197\n",
            "Epoch 33/100\n",
            "40711/40711 - 98s - 2ms/step - loss: 0.0197\n",
            "Epoch 34/100\n",
            "40711/40711 - 97s - 2ms/step - loss: 0.0197\n",
            "Epoch 35/100\n",
            "40711/40711 - 92s - 2ms/step - loss: 0.0197\n",
            "Epoch 36/100\n",
            "40711/40711 - 93s - 2ms/step - loss: 0.0197\n",
            "Epoch 37/100\n",
            "40711/40711 - 91s - 2ms/step - loss: 0.0197\n",
            "Epoch 38/100\n",
            "40711/40711 - 93s - 2ms/step - loss: 0.0197\n",
            "Epoch 39/100\n",
            "40711/40711 - 93s - 2ms/step - loss: 0.0197\n",
            "Epoch 40/100\n",
            "40711/40711 - 93s - 2ms/step - loss: 0.0197\n",
            "Epoch 41/100\n",
            "40711/40711 - 94s - 2ms/step - loss: 0.0197\n",
            "Epoch 42/100\n",
            "40711/40711 - 93s - 2ms/step - loss: 0.0197\n",
            "Epoch 43/100\n",
            "40711/40711 - 93s - 2ms/step - loss: 0.0197\n",
            "Epoch 44/100\n",
            "40711/40711 - 91s - 2ms/step - loss: 0.0197\n",
            "Epoch 45/100\n",
            "40711/40711 - 93s - 2ms/step - loss: 0.0197\n",
            "Epoch 46/100\n",
            "40711/40711 - 92s - 2ms/step - loss: 0.0197\n",
            "Epoch 47/100\n",
            "40711/40711 - 90s - 2ms/step - loss: 0.0197\n",
            "Epoch 48/100\n",
            "40711/40711 - 94s - 2ms/step - loss: 0.0197\n",
            "Epoch 49/100\n",
            "40711/40711 - 92s - 2ms/step - loss: 0.0197\n",
            "Epoch 50/100\n",
            "40711/40711 - 98s - 2ms/step - loss: 0.0197\n",
            "Epoch 51/100\n",
            "40711/40711 - 103s - 3ms/step - loss: 0.0197\n",
            "Epoch 52/100\n",
            "40711/40711 - 100s - 2ms/step - loss: 0.0197\n",
            "Epoch 53/100\n",
            "40711/40711 - 97s - 2ms/step - loss: 0.0197\n",
            "Epoch 54/100\n",
            "40711/40711 - 102s - 3ms/step - loss: 0.0197\n",
            "Epoch 55/100\n",
            "40711/40711 - 99s - 2ms/step - loss: 0.0197\n",
            "Epoch 56/100\n",
            "40711/40711 - 96s - 2ms/step - loss: 0.0197\n",
            "Epoch 57/100\n",
            "40711/40711 - 94s - 2ms/step - loss: 0.0197\n",
            "Epoch 58/100\n",
            "40711/40711 - 94s - 2ms/step - loss: 0.0197\n",
            "Epoch 59/100\n",
            "40711/40711 - 95s - 2ms/step - loss: 0.0197\n",
            "Epoch 60/100\n",
            "40711/40711 - 92s - 2ms/step - loss: 0.0197\n",
            "Epoch 61/100\n",
            "40711/40711 - 93s - 2ms/step - loss: 0.0197\n",
            "Epoch 62/100\n",
            "40711/40711 - 90s - 2ms/step - loss: 0.0197\n",
            "Epoch 63/100\n",
            "40711/40711 - 93s - 2ms/step - loss: 0.0197\n",
            "Epoch 64/100\n",
            "40711/40711 - 93s - 2ms/step - loss: 0.0197\n",
            "Epoch 65/100\n",
            "40711/40711 - 92s - 2ms/step - loss: 0.0197\n",
            "Epoch 66/100\n",
            "40711/40711 - 92s - 2ms/step - loss: 0.0197\n",
            "Epoch 67/100\n",
            "40711/40711 - 93s - 2ms/step - loss: 0.0197\n",
            "Epoch 68/100\n",
            "40711/40711 - 94s - 2ms/step - loss: 0.0197\n",
            "Epoch 69/100\n",
            "40711/40711 - 94s - 2ms/step - loss: 0.0197\n",
            "Epoch 70/100\n",
            "40711/40711 - 91s - 2ms/step - loss: 0.0197\n",
            "Epoch 71/100\n",
            "40711/40711 - 93s - 2ms/step - loss: 0.0197\n",
            "Epoch 72/100\n",
            "40711/40711 - 94s - 2ms/step - loss: 0.0197\n",
            "Epoch 73/100\n",
            "40711/40711 - 92s - 2ms/step - loss: 0.0197\n",
            "Epoch 74/100\n",
            "40711/40711 - 92s - 2ms/step - loss: 0.0197\n",
            "Epoch 75/100\n",
            "40711/40711 - 92s - 2ms/step - loss: 0.0197\n",
            "Epoch 76/100\n",
            "40711/40711 - 92s - 2ms/step - loss: 0.0197\n",
            "Epoch 77/100\n",
            "40711/40711 - 92s - 2ms/step - loss: 0.0197\n",
            "Epoch 78/100\n",
            "40711/40711 - 98s - 2ms/step - loss: 0.0197\n",
            "Epoch 79/100\n",
            "40711/40711 - 95s - 2ms/step - loss: 0.0197\n",
            "Epoch 80/100\n",
            "40711/40711 - 91s - 2ms/step - loss: 0.0197\n",
            "Epoch 81/100\n",
            "40711/40711 - 92s - 2ms/step - loss: 0.0197\n",
            "Epoch 82/100\n",
            "40711/40711 - 90s - 2ms/step - loss: 0.0197\n",
            "Epoch 83/100\n",
            "40711/40711 - 92s - 2ms/step - loss: 0.0197\n",
            "Epoch 84/100\n",
            "40711/40711 - 94s - 2ms/step - loss: 0.0197\n",
            "Epoch 85/100\n",
            "40711/40711 - 97s - 2ms/step - loss: 0.0197\n",
            "Epoch 86/100\n",
            "40711/40711 - 98s - 2ms/step - loss: 0.0197\n",
            "Epoch 87/100\n",
            "40711/40711 - 102s - 2ms/step - loss: 0.0197\n",
            "Epoch 88/100\n",
            "40711/40711 - 102s - 3ms/step - loss: 0.0197\n",
            "Epoch 89/100\n",
            "40711/40711 - 94s - 2ms/step - loss: 0.0197\n",
            "Epoch 90/100\n",
            "40711/40711 - 96s - 2ms/step - loss: 0.0197\n",
            "Epoch 91/100\n",
            "40711/40711 - 96s - 2ms/step - loss: 0.0197\n",
            "Epoch 92/100\n",
            "40711/40711 - 98s - 2ms/step - loss: 0.0197\n",
            "Epoch 93/100\n",
            "40711/40711 - 96s - 2ms/step - loss: 0.0197\n",
            "Epoch 94/100\n",
            "40711/40711 - 99s - 2ms/step - loss: 0.0197\n",
            "Epoch 95/100\n",
            "40711/40711 - 96s - 2ms/step - loss: 0.0197\n",
            "Epoch 96/100\n",
            "40711/40711 - 95s - 2ms/step - loss: 0.0197\n",
            "Epoch 97/100\n",
            "40711/40711 - 96s - 2ms/step - loss: 0.0197\n",
            "Epoch 98/100\n",
            "40711/40711 - 102s - 3ms/step - loss: 0.0197\n",
            "Epoch 99/100\n",
            "40711/40711 - 101s - 2ms/step - loss: 0.0197\n",
            "Epoch 100/100\n",
            "40711/40711 - 100s - 2ms/step - loss: 0.0197\n"
          ]
        },
        {
          "data": {
            "text/plain": [
              "<keras.src.callbacks.history.History at 0x1407703a630>"
            ]
          },
          "execution_count": 16,
          "metadata": {},
          "output_type": "execute_result"
        }
      ],
      "source": [
        "# Create and fit the LSTM network\n",
        "model = Sequential()\n",
        "model.add(LSTM(units=50, return_sequences=True, input_shape=(X_train.shape[1], X_train.shape[2])))\n",
        "model.add(LSTM(units=50))\n",
        "model.add(Dense(X_train.shape[2]))\n",
        "model.compile(loss='mean_squared_error', optimizer='adam')\n",
        "model.fit(X_train, Y_train, epochs=100, batch_size=1, verbose=2)\n"
      ]
    },
    {
      "cell_type": "code",
      "execution_count": 17,
      "metadata": {},
      "outputs": [],
      "source": [
        "# save the model\n",
        "model.save('model02.keras')"
      ]
    },
    {
      "cell_type": "code",
      "execution_count": null,
      "metadata": {},
      "outputs": [],
      "source": [
        "# Save the scaler\n",
        "import joblib\n",
        "joblib.dump(scaler, 'scaler.pkl')"
      ]
    },
    {
      "cell_type": "code",
      "execution_count": 18,
      "metadata": {
        "id": "01mJ3I_OH_J1"
      },
      "outputs": [],
      "source": [
        "# Scale the data to be between 0 and 1\n",
        "#scaler = MinMaxScaler(feature_range=(0, 1))\n",
        "last_week_data = df[crops].iloc[-7:].values \n",
        "scaled_last_week = scaler.transform(last_week_data) \n",
        "reshaped_last_week = np.reshape(scaled_last_week, (1, look_back, len(crops))) "
      ]
    },
    {
      "cell_type": "code",
      "execution_count": null,
      "metadata": {
        "colab": {
          "base_uri": "https://localhost:8080/"
        },
        "id": "jtcuDTiIH_CS",
        "outputId": "5b216073-93af-43ce-ec81-88f3860e1dfd"
      },
      "outputs": [],
      "source": [
        "# Predict\n",
        "prediction_scaled = model.predict(reshaped_last_week)\n",
        "prediction = scaler.inverse_transform(prediction_scaled)"
      ]
    },
    {
      "cell_type": "code",
      "execution_count": 20,
      "metadata": {
        "id": "-oaFh2_lH-5V"
      },
      "outputs": [],
      "source": [
        "# Create DataFrame for 6/9/2024 predictions\n",
        "predictions_6_9_2024 = pd.DataFrame(data=prediction, columns=crops)"
      ]
    },
    {
      "cell_type": "code",
      "execution_count": null,
      "metadata": {
        "colab": {
          "base_uri": "https://localhost:8080/"
        },
        "id": "ox9rmit_IH4q",
        "outputId": "b9c9d3eb-68c6-4ef1-c17e-5e4ab298798f"
      },
      "outputs": [],
      "source": [
        "# Predict for all states using the last known data\n",
        "for state, state_data in last_known_data.items():\n",
        "    scaled_state_data = scaler.transform(state_data.reshape(1,-1))\n",
        "    reshaped_state_data = np.reshape(scaled_state_data, (1, 1, len(crops)))\n",
        "\n",
        "    state_prediction_scaled = model.predict(reshaped_state_data)\n",
        "    state_prediction = scaler.inverse_transform(state_prediction_scaled)\n",
        "\n",
        "    predictions_6_9_2024.loc[state] = state_prediction[0]"
      ]
    },
    {
      "cell_type": "code",
      "execution_count": null,
      "metadata": {
        "colab": {
          "base_uri": "https://localhost:8080/"
        },
        "id": "Z3lNdgxFIHE-",
        "outputId": "d44ada5e-e011-4b03-82f2-e7f39c93e1b0"
      },
      "outputs": [],
      "source": [
        "# Display the predictions\n",
        "print(predictions_6_9_2024)"
      ]
    },
    {
      "cell_type": "markdown",
      "metadata": {},
      "source": [
        "# --------------------------------------------------"
      ]
    },
    {
      "cell_type": "code",
      "execution_count": null,
      "metadata": {},
      "outputs": [],
      "source": [
        "# Predict for all states using a rolling window of past data\n",
        "predictions_by_state = {}  # Dictionary to store predictions for each state"
      ]
    },
    {
      "cell_type": "code",
      "execution_count": null,
      "metadata": {},
      "outputs": [],
      "source": [
        "for state in df['States/UTs'].unique():\n",
        "    state_data = df[df['States/UTs'] == state][crops].iloc[-look_back:].values # Last 'look_back' days of data\n",
        "    scaled_state_data = scaler.transform(state_data)\n",
        "    reshaped_state_data = np.reshape(scaled_state_data, (1, look_back, len(crops)))\n",
        "\n",
        "    state_prediction_scaled = model.predict(reshaped_state_data)\n",
        "    state_prediction = scaler.inverse_transform(state_prediction_scaled)\n",
        "    predictions_by_state[state] = state_prediction[0] # Store prediction for the state\n"
      ]
    },
    {
      "cell_type": "code",
      "execution_count": null,
      "metadata": {},
      "outputs": [],
      "source": [
        "predictions_df = pd.DataFrame(predictions_by_state).T # Convert to DataFrame for better display\n",
        "predictions_df.columns = crops # Add column names\n",
        "print(predictions_df)"
      ]
    }
  ],
  "metadata": {
    "colab": {
      "provenance": []
    },
    "kernelspec": {
      "display_name": "Python 3",
      "name": "python3"
    },
    "language_info": {
      "codemirror_mode": {
        "name": "ipython",
        "version": 3
      },
      "file_extension": ".py",
      "mimetype": "text/x-python",
      "name": "python",
      "nbconvert_exporter": "python",
      "pygments_lexer": "ipython3",
      "version": "3.12.6"
    }
  },
  "nbformat": 4,
  "nbformat_minor": 0
}

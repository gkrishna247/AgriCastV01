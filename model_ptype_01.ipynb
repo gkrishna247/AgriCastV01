{
  "cells": [
    {
      "cell_type": "code",
      "execution_count": 1,
      "metadata": {
        "id": "5ncTnK8IGcE2"
      },
      "outputs": [],
      "source": [
        "import pandas as pd\n",
        "import numpy as np\n",
        "import tensorflow\n",
        "import matplotlib.pyplot as plt\n",
        "from sklearn.model_selection import train_test_split\n",
        "from sklearn.preprocessing import MinMaxScaler\n",
        "from tensorflow.keras.models import Sequential\n",
        "from tensorflow.keras.layers import LSTM, Dense"
      ]
    },
    {
      "cell_type": "code",
      "execution_count": 2,
      "metadata": {},
      "outputs": [
        {
          "data": {
            "text/plain": [
              "\"data columns are: Index(['Day', 'Month', 'Year', 'States/UTs', 'Rice', 'Wheat', 'Atta (Wheat)',\\n       'Gram Dal', 'Tur/Arhar Dal', 'Urad Dal', 'Moong Dal', 'Masoor Dal',\\n       'Sugar', 'Milk @', 'Groundnut Oil (Packed)', 'Mustard Oil (Packed)',\\n       'Vanaspati (Packed)', 'Soya Oil (Packed)', 'Sunflower Oil (Packed)',\\n       'Palm Oil (Packed)', 'Gur', 'Tea Loose', 'Salt Pack (Iodised)',\\n       'Potato', 'Onion', 'Tomato'],\\n      dtype='object')\""
            ]
          },
          "execution_count": 2,
          "metadata": {},
          "output_type": "execute_result"
        }
      ],
      "source": [
        "'''data columns are: Index(['Day', 'Month', 'Year', 'States/UTs', 'Rice', 'Wheat', 'Atta (Wheat)',\n",
        "       'Gram Dal', 'Tur/Arhar Dal', 'Urad Dal', 'Moong Dal', 'Masoor Dal',\n",
        "       'Sugar', 'Milk @', 'Groundnut Oil (Packed)', 'Mustard Oil (Packed)',\n",
        "       'Vanaspati (Packed)', 'Soya Oil (Packed)', 'Sunflower Oil (Packed)',\n",
        "       'Palm Oil (Packed)', 'Gur', 'Tea Loose', 'Salt Pack (Iodised)',\n",
        "       'Potato', 'Onion', 'Tomato'],\n",
        "      dtype='object')'''"
      ]
    },
    {
      "cell_type": "code",
      "execution_count": 3,
      "metadata": {
        "id": "jKzOr6xKG4Ys"
      },
      "outputs": [],
      "source": [
        "# Load the data from the CSV file\n",
        "df = pd.read_csv(r\"data\\cleansing\\filled\\data.csv\")"
      ]
    },
    {
      "cell_type": "code",
      "execution_count": 4,
      "metadata": {},
      "outputs": [
        {
          "name": "stdout",
          "output_type": "stream",
          "text": [
            "(11666, 9)\n"
          ]
        }
      ],
      "source": [
        "print(df.shape)"
      ]
    },
    {
      "cell_type": "code",
      "execution_count": 5,
      "metadata": {},
      "outputs": [
        {
          "name": "stdout",
          "output_type": "stream",
          "text": [
            "(11666, 9)\n"
          ]
        }
      ],
      "source": [
        "df=df[df['Year']>2022]\n",
        "print(df.shape)"
      ]
    },
    {
      "cell_type": "code",
      "execution_count": null,
      "metadata": {},
      "outputs": [],
      "source": []
    },
    {
      "cell_type": "code",
      "execution_count": 6,
      "metadata": {
        "id": "TmhegmtXG4QW"
      },
      "outputs": [],
      "source": [
        "# Convert date columns to a datetime object\n",
        "df['Date'] = pd.to_datetime(df[['Day', 'Month', 'Year']])\n",
        "df.set_index('Date', inplace=True)"
      ]
    },
    {
      "cell_type": "code",
      "execution_count": 7,
      "metadata": {
        "id": "pqLE05AUG4Jw"
      },
      "outputs": [],
      "source": [
        "# Select the crops for prediction\n",
        "crops = [\"Rice\", \"Wheat\", \"Atta (Wheat)\", \"Gram Dal\", \"Tur/Arhar Dal\"]"
      ]
    },
    {
      "cell_type": "code",
      "execution_count": 8,
      "metadata": {},
      "outputs": [
        {
          "name": "stdout",
          "output_type": "stream",
          "text": [
            "5\n"
          ]
        }
      ],
      "source": [
        "print(len(crops))"
      ]
    },
    {
      "cell_type": "code",
      "execution_count": 9,
      "metadata": {
        "id": "jb6B6siNG4Fo"
      },
      "outputs": [],
      "source": [
        "# Create a dictionary to store the last known data for each state\n",
        "last_known_data = {}\n",
        "for state in df['States/UTs'].unique():\n",
        "    last_known_data[state] = df[df['States/UTs'] == state].iloc[-1][crops].values"
      ]
    },
    {
      "cell_type": "code",
      "execution_count": 10,
      "metadata": {},
      "outputs": [
        {
          "name": "stdout",
          "output_type": "stream",
          "text": [
            "            Day  Month  Year     States/UTs   Rice  Wheat  Atta (Wheat)  \\\n",
            "Date                                                                      \n",
            "2023-01-01    1      1  2023          Assam  35.00  30.86         36.17   \n",
            "2023-01-01    1      1  2023          Bihar  36.39  29.36         35.57   \n",
            "2023-01-01    1      1  2023   Chhattisgarh  31.60  30.60         35.20   \n",
            "2023-01-01    1      1  2023          Delhi  34.00  28.00         32.00   \n",
            "2023-01-01    1      1  2023        Gujarat  38.75  34.00         35.25   \n",
            "...         ...    ...   ...            ...    ...    ...           ...   \n",
            "2023-12-31   31     12  2023      Rajasthan  36.50  28.75         32.25   \n",
            "2023-12-31   31     12  2023     Tamil Nadu  60.00  45.05         53.83   \n",
            "2023-12-31   31     12  2023      Telangana  49.00  38.00         49.33   \n",
            "2023-12-31   31     12  2023  Uttar Pradesh  37.53  26.45         33.02   \n",
            "2023-12-31   31     12  2023    West Bengal  41.54  29.67         37.46   \n",
            "\n",
            "            Gram Dal  Tur/Arhar Dal  \n",
            "Date                                 \n",
            "2023-01-01     69.50         108.50  \n",
            "2023-01-01     67.57         109.32  \n",
            "2023-01-01     72.40         102.00  \n",
            "2023-01-01     72.00         120.00  \n",
            "2023-01-01     70.50         106.75  \n",
            "...              ...            ...  \n",
            "2023-12-31     70.25         122.75  \n",
            "2023-12-31     86.75         172.79  \n",
            "2023-12-31     79.33         164.00  \n",
            "2023-12-31     79.60         151.25  \n",
            "2023-12-31     80.23         150.69  \n",
            "\n",
            "[11666 rows x 9 columns]\n"
          ]
        }
      ],
      "source": [
        "print(df)"
      ]
    },
    {
      "cell_type": "code",
      "execution_count": 11,
      "metadata": {
        "id": "K17VZZ5tG4Bh"
      },
      "outputs": [
        {
          "name": "stdout",
          "output_type": "stream",
          "text": [
            "(11666, 5)\n"
          ]
        },
        {
          "data": {
            "text/plain": [
              "array([[ 35.  ,  30.86,  36.17,  69.5 , 108.5 ],\n",
              "       [ 36.39,  29.36,  35.57,  67.57, 109.32],\n",
              "       [ 31.6 ,  30.6 ,  35.2 ,  72.4 , 102.  ],\n",
              "       ...,\n",
              "       [ 49.  ,  38.  ,  49.33,  79.33, 164.  ],\n",
              "       [ 37.53,  26.45,  33.02,  79.6 , 151.25],\n",
              "       [ 41.54,  29.67,  37.46,  80.23, 150.69]])"
            ]
          },
          "execution_count": 11,
          "metadata": {},
          "output_type": "execute_result"
        }
      ],
      "source": [
        "# Prepare data for LSTM\n",
        "data = df[crops].values\n",
        "print(data.shape)\n",
        "data"
      ]
    },
    {
      "cell_type": "code",
      "execution_count": 12,
      "metadata": {
        "id": "yqTQqxoVG39I"
      },
      "outputs": [
        {
          "name": "stdout",
          "output_type": "stream",
          "text": [
            "[[0.25139814 0.38987742 0.28434109 0.21340698 0.15307858]\n",
            " [0.28841545 0.33056544 0.26573643 0.16495104 0.16237669]\n",
            " [0.1608522  0.37959668 0.25426357 0.28621642 0.07937408]\n",
            " ...\n",
            " [0.62423435 0.67220245 0.6924031  0.46020587 0.78240163]\n",
            " [0.31877497 0.2155002  0.18666667 0.46698468 0.63782742]\n",
            " [0.42556591 0.34282325 0.32434109 0.48280191 0.63147749]]\n"
          ]
        }
      ],
      "source": [
        "# Scale the data to be between 0 and 1\n",
        "scaler = MinMaxScaler(feature_range=(0, 1))\n",
        "scaled_data = scaler.fit_transform(data)\n",
        "print(scaled_data)"
      ]
    },
    {
      "cell_type": "code",
      "execution_count": 13,
      "metadata": {
        "id": "OMsCIA9OG31R"
      },
      "outputs": [],
      "source": [
        "# Split the data into training and testing sets\n",
        "train_data, test_data = train_test_split(scaled_data, test_size=0.2)\n",
        "#print(train_data)"
      ]
    },
    {
      "cell_type": "code",
      "execution_count": 14,
      "metadata": {
        "id": "O4Eh9I7LG3xA"
      },
      "outputs": [],
      "source": [
        "# Create the function to create the dataset\n",
        "def create_dataset(dataset, look_back=1):\n",
        "    X, Y = [], []\n",
        "    for i in range(len(dataset)-look_back-1):\n",
        "        a = dataset[i:(i+look_back), :]\n",
        "        X.append(a)\n",
        "        Y.append(dataset[i + look_back, :])\n",
        "    return np.array(X), np.array(Y)"
      ]
    },
    {
      "cell_type": "code",
      "execution_count": 15,
      "metadata": {
        "id": "WgrgJmkuG3s0"
      },
      "outputs": [],
      "source": [
        "# Set look_back period (number of previous days to consider)\n",
        "look_back = 7\n",
        "X_train, Y_train = create_dataset(train_data, look_back)\n",
        "X_test, Y_test = create_dataset(test_data, look_back)"
      ]
    },
    {
      "cell_type": "code",
      "execution_count": 16,
      "metadata": {},
      "outputs": [
        {
          "data": {
            "text/plain": [
              "array([[[0.58881491, 0.60616845, 0.67193798, 0.42681396, 0.74464225],\n",
              "        [0.42450067, 0.30486358, 0.35224806, 0.32111474, 0.42192992],\n",
              "        [0.38455393, 0.25029656, 0.1448062 , 0.39342204, 0.54802132],\n",
              "        ...,\n",
              "        [0.44207723, 0.4132068 , 0.30511628, 0.57644991, 0.57149337],\n",
              "        [0.43169108, 0.41122974, 0.28744186, 0.60030128, 0.65665041],\n",
              "        [0.27723036, 0.23013049, 0.16682171, 0.29600803, 0.47998639]],\n",
              "\n",
              "       [[0.42450067, 0.30486358, 0.35224806, 0.32111474, 0.42192992],\n",
              "        [0.38455393, 0.25029656, 0.1448062 , 0.39342204, 0.54802132],\n",
              "        [0.29800266, 0.69711348, 0.34511628, 0.41426061, 0.44381449],\n",
              "        ...,\n",
              "        [0.43169108, 0.41122974, 0.28744186, 0.60030128, 0.65665041],\n",
              "        [0.27723036, 0.23013049, 0.16682171, 0.29600803, 0.47998639],\n",
              "        [0.43781625, 0.56662713, 0.22728682, 0.47702737, 0.23812224]],\n",
              "\n",
              "       [[0.38455393, 0.25029656, 0.1448062 , 0.39342204, 0.54802132],\n",
              "        [0.29800266, 0.69711348, 0.34511628, 0.41426061, 0.44381449],\n",
              "        [0.44207723, 0.4132068 , 0.30511628, 0.57644991, 0.57149337],\n",
              "        ...,\n",
              "        [0.27723036, 0.23013049, 0.16682171, 0.29600803, 0.47998639],\n",
              "        [0.43781625, 0.56662713, 0.22728682, 0.47702737, 0.23812224],\n",
              "        [0.28814913, 0.3412416 , 0.17054264, 0.29826764, 0.30479646]],\n",
              "\n",
              "       ...,\n",
              "\n",
              "       [[0.15818908, 0.37564255, 0.20155039, 0.1820236 , 0.11906112],\n",
              "        [0.22023968, 0.17121392, 0.05674419, 0.24278182, 0.34017462],\n",
              "        [0.33129161, 0.38236457, 0.19627907, 0.66959578, 0.61991155],\n",
              "        ...,\n",
              "        [0.65832224, 0.7785686 , 0.53581395, 0.40095405, 0.26578977],\n",
              "        [0.68548602, 0.77896402, 0.53333333, 0.34396184, 0.80167819],\n",
              "        [0.33475366, 0.29102412, 0.19131783, 0.69821742, 0.74214764]],\n",
              "\n",
              "       [[0.22023968, 0.17121392, 0.05674419, 0.24278182, 0.34017462],\n",
              "        [0.33129161, 0.38236457, 0.19627907, 0.66959578, 0.61991155],\n",
              "        [0.73608522, 0.83432187, 0.57984496, 0.43434597, 0.6769475 ],\n",
              "        ...,\n",
              "        [0.68548602, 0.77896402, 0.53333333, 0.34396184, 0.80167819],\n",
              "        [0.33475366, 0.29102412, 0.19131783, 0.69821742, 0.74214764],\n",
              "        [0.36058589, 0.69434559, 0.3255814 , 0.71554105, 0.72411838]],\n",
              "\n",
              "       [[0.33129161, 0.38236457, 0.19627907, 0.66959578, 0.61991155],\n",
              "        [0.73608522, 0.83432187, 0.57984496, 0.43434597, 0.6769475 ],\n",
              "        [0.65832224, 0.7785686 , 0.53581395, 0.40095405, 0.26578977],\n",
              "        ...,\n",
              "        [0.33475366, 0.29102412, 0.19131783, 0.69821742, 0.74214764],\n",
              "        [0.36058589, 0.69434559, 0.3255814 , 0.71554105, 0.72411838],\n",
              "        [0.34993342, 0.69434559, 0.33488372, 0.51895556, 0.49892278]]])"
            ]
          },
          "execution_count": 16,
          "metadata": {},
          "output_type": "execute_result"
        }
      ],
      "source": [
        "X_train"
      ]
    },
    {
      "cell_type": "code",
      "execution_count": 17,
      "metadata": {
        "id": "lqfpnKrdG3mZ"
      },
      "outputs": [],
      "source": [
        "# Reshape input to be [samples, time steps, features]\n",
        "X_train = np.reshape(X_train, (X_train.shape[0], X_train.shape[1], X_train.shape[2]))\n",
        "X_test = np.reshape(X_test, (X_test.shape[0], X_test.shape[1], X_test.shape[2]))"
      ]
    },
    {
      "cell_type": "code",
      "execution_count": 18,
      "metadata": {
        "colab": {
          "base_uri": "https://localhost:8080/"
        },
        "id": "omUUdym3G3a-",
        "outputId": "240ae506-e6a8-4c69-fca2-a61143b7f1ae"
      },
      "outputs": [
        {
          "name": "stdout",
          "output_type": "stream",
          "text": [
            "Epoch 1/100\n"
          ]
        },
        {
          "name": "stderr",
          "output_type": "stream",
          "text": [
            "c:\\Users\\krish\\AppData\\Local\\Programs\\Python\\Python312\\Lib\\site-packages\\keras\\src\\layers\\rnn\\rnn.py:204: UserWarning: Do not pass an `input_shape`/`input_dim` argument to a layer. When using Sequential models, prefer using an `Input(shape)` object as the first layer in the model instead.\n",
            "  super().__init__(**kwargs)\n"
          ]
        },
        {
          "name": "stdout",
          "output_type": "stream",
          "text": [
            "9324/9324 - 24s - 3ms/step - loss: 0.0452\n",
            "Epoch 2/100\n",
            "9324/9324 - 23s - 2ms/step - loss: 0.0442\n",
            "Epoch 3/100\n",
            "9324/9324 - 21s - 2ms/step - loss: 0.0441\n",
            "Epoch 4/100\n",
            "9324/9324 - 22s - 2ms/step - loss: 0.0440\n",
            "Epoch 5/100\n",
            "9324/9324 - 21s - 2ms/step - loss: 0.0440\n",
            "Epoch 6/100\n",
            "9324/9324 - 21s - 2ms/step - loss: 0.0439\n",
            "Epoch 7/100\n",
            "9324/9324 - 21s - 2ms/step - loss: 0.0439\n",
            "Epoch 8/100\n",
            "9324/9324 - 20s - 2ms/step - loss: 0.0439\n",
            "Epoch 9/100\n",
            "9324/9324 - 20s - 2ms/step - loss: 0.0439\n",
            "Epoch 10/100\n",
            "9324/9324 - 21s - 2ms/step - loss: 0.0439\n",
            "Epoch 11/100\n",
            "9324/9324 - 20s - 2ms/step - loss: 0.0439\n",
            "Epoch 12/100\n",
            "9324/9324 - 20s - 2ms/step - loss: 0.0439\n",
            "Epoch 13/100\n",
            "9324/9324 - 19s - 2ms/step - loss: 0.0438\n",
            "Epoch 14/100\n",
            "9324/9324 - 19s - 2ms/step - loss: 0.0439\n",
            "Epoch 15/100\n",
            "9324/9324 - 19s - 2ms/step - loss: 0.0438\n",
            "Epoch 16/100\n",
            "9324/9324 - 18s - 2ms/step - loss: 0.0438\n",
            "Epoch 17/100\n",
            "9324/9324 - 18s - 2ms/step - loss: 0.0439\n",
            "Epoch 18/100\n",
            "9324/9324 - 18s - 2ms/step - loss: 0.0438\n",
            "Epoch 19/100\n",
            "9324/9324 - 18s - 2ms/step - loss: 0.0438\n",
            "Epoch 20/100\n",
            "9324/9324 - 19s - 2ms/step - loss: 0.0438\n",
            "Epoch 21/100\n",
            "9324/9324 - 18s - 2ms/step - loss: 0.0438\n",
            "Epoch 22/100\n",
            "9324/9324 - 19s - 2ms/step - loss: 0.0438\n",
            "Epoch 23/100\n",
            "9324/9324 - 21s - 2ms/step - loss: 0.0438\n",
            "Epoch 24/100\n",
            "9324/9324 - 18s - 2ms/step - loss: 0.0438\n",
            "Epoch 25/100\n",
            "9324/9324 - 20s - 2ms/step - loss: 0.0438\n",
            "Epoch 26/100\n",
            "9324/9324 - 19s - 2ms/step - loss: 0.0438\n",
            "Epoch 27/100\n",
            "9324/9324 - 20s - 2ms/step - loss: 0.0437\n",
            "Epoch 28/100\n",
            "9324/9324 - 19s - 2ms/step - loss: 0.0437\n",
            "Epoch 29/100\n",
            "9324/9324 - 18s - 2ms/step - loss: 0.0438\n",
            "Epoch 30/100\n",
            "9324/9324 - 18s - 2ms/step - loss: 0.0437\n",
            "Epoch 31/100\n",
            "9324/9324 - 20s - 2ms/step - loss: 0.0437\n",
            "Epoch 32/100\n",
            "9324/9324 - 18s - 2ms/step - loss: 0.0437\n",
            "Epoch 33/100\n",
            "9324/9324 - 18s - 2ms/step - loss: 0.0437\n",
            "Epoch 34/100\n",
            "9324/9324 - 18s - 2ms/step - loss: 0.0437\n",
            "Epoch 35/100\n",
            "9324/9324 - 18s - 2ms/step - loss: 0.0437\n",
            "Epoch 36/100\n",
            "9324/9324 - 18s - 2ms/step - loss: 0.0437\n",
            "Epoch 37/100\n",
            "9324/9324 - 18s - 2ms/step - loss: 0.0436\n",
            "Epoch 38/100\n",
            "9324/9324 - 18s - 2ms/step - loss: 0.0436\n",
            "Epoch 39/100\n",
            "9324/9324 - 18s - 2ms/step - loss: 0.0436\n",
            "Epoch 40/100\n",
            "9324/9324 - 21s - 2ms/step - loss: 0.0436\n",
            "Epoch 41/100\n",
            "9324/9324 - 21s - 2ms/step - loss: 0.0436\n",
            "Epoch 42/100\n",
            "9324/9324 - 21s - 2ms/step - loss: 0.0436\n",
            "Epoch 43/100\n",
            "9324/9324 - 22s - 2ms/step - loss: 0.0435\n",
            "Epoch 44/100\n",
            "9324/9324 - 20s - 2ms/step - loss: 0.0435\n",
            "Epoch 45/100\n",
            "9324/9324 - 22s - 2ms/step - loss: 0.0434\n",
            "Epoch 46/100\n",
            "9324/9324 - 23s - 2ms/step - loss: 0.0434\n",
            "Epoch 47/100\n",
            "9324/9324 - 21s - 2ms/step - loss: 0.0433\n",
            "Epoch 48/100\n",
            "9324/9324 - 21s - 2ms/step - loss: 0.0434\n",
            "Epoch 49/100\n",
            "9324/9324 - 20s - 2ms/step - loss: 0.0433\n",
            "Epoch 50/100\n",
            "9324/9324 - 20s - 2ms/step - loss: 0.0432\n",
            "Epoch 51/100\n",
            "9324/9324 - 20s - 2ms/step - loss: 0.0431\n",
            "Epoch 52/100\n",
            "9324/9324 - 22s - 2ms/step - loss: 0.0431\n",
            "Epoch 53/100\n",
            "9324/9324 - 22s - 2ms/step - loss: 0.0430\n",
            "Epoch 54/100\n",
            "9324/9324 - 22s - 2ms/step - loss: 0.0430\n",
            "Epoch 55/100\n",
            "9324/9324 - 22s - 2ms/step - loss: 0.0428\n",
            "Epoch 56/100\n",
            "9324/9324 - 22s - 2ms/step - loss: 0.0428\n",
            "Epoch 57/100\n",
            "9324/9324 - 22s - 2ms/step - loss: 0.0427\n",
            "Epoch 58/100\n",
            "9324/9324 - 24s - 3ms/step - loss: 0.0426\n",
            "Epoch 59/100\n",
            "9324/9324 - 23s - 3ms/step - loss: 0.0425\n",
            "Epoch 60/100\n",
            "9324/9324 - 22s - 2ms/step - loss: 0.0424\n",
            "Epoch 61/100\n",
            "9324/9324 - 23s - 2ms/step - loss: 0.0424\n",
            "Epoch 62/100\n",
            "9324/9324 - 23s - 3ms/step - loss: 0.0422\n",
            "Epoch 63/100\n",
            "9324/9324 - 22s - 2ms/step - loss: 0.0421\n",
            "Epoch 64/100\n",
            "9324/9324 - 22s - 2ms/step - loss: 0.0420\n",
            "Epoch 65/100\n",
            "9324/9324 - 22s - 2ms/step - loss: 0.0420\n",
            "Epoch 66/100\n",
            "9324/9324 - 21s - 2ms/step - loss: 0.0417\n",
            "Epoch 67/100\n",
            "9324/9324 - 20s - 2ms/step - loss: 0.0417\n",
            "Epoch 68/100\n",
            "9324/9324 - 20s - 2ms/step - loss: 0.0415\n",
            "Epoch 69/100\n",
            "9324/9324 - 21s - 2ms/step - loss: 0.0413\n",
            "Epoch 70/100\n",
            "9324/9324 - 20s - 2ms/step - loss: 0.0412\n",
            "Epoch 71/100\n",
            "9324/9324 - 21s - 2ms/step - loss: 0.0411\n",
            "Epoch 72/100\n",
            "9324/9324 - 21s - 2ms/step - loss: 0.0409\n",
            "Epoch 73/100\n",
            "9324/9324 - 21s - 2ms/step - loss: 0.0407\n",
            "Epoch 74/100\n",
            "9324/9324 - 24s - 3ms/step - loss: 0.0406\n",
            "Epoch 75/100\n",
            "9324/9324 - 23s - 3ms/step - loss: 0.0403\n",
            "Epoch 76/100\n",
            "9324/9324 - 21s - 2ms/step - loss: 0.0402\n",
            "Epoch 77/100\n",
            "9324/9324 - 23s - 2ms/step - loss: 0.0399\n",
            "Epoch 78/100\n",
            "9324/9324 - 23s - 3ms/step - loss: 0.0396\n",
            "Epoch 79/100\n",
            "9324/9324 - 22s - 2ms/step - loss: 0.0395\n",
            "Epoch 80/100\n",
            "9324/9324 - 22s - 2ms/step - loss: 0.0394\n",
            "Epoch 81/100\n",
            "9324/9324 - 21s - 2ms/step - loss: 0.0390\n",
            "Epoch 82/100\n",
            "9324/9324 - 20s - 2ms/step - loss: 0.0388\n",
            "Epoch 83/100\n",
            "9324/9324 - 21s - 2ms/step - loss: 0.0386\n",
            "Epoch 84/100\n",
            "9324/9324 - 21s - 2ms/step - loss: 0.0384\n",
            "Epoch 85/100\n",
            "9324/9324 - 21s - 2ms/step - loss: 0.0381\n",
            "Epoch 86/100\n",
            "9324/9324 - 22s - 2ms/step - loss: 0.0379\n",
            "Epoch 87/100\n",
            "9324/9324 - 20s - 2ms/step - loss: 0.0377\n",
            "Epoch 88/100\n",
            "9324/9324 - 20s - 2ms/step - loss: 0.0375\n",
            "Epoch 89/100\n",
            "9324/9324 - 22s - 2ms/step - loss: 0.0371\n",
            "Epoch 90/100\n",
            "9324/9324 - 21s - 2ms/step - loss: 0.0370\n",
            "Epoch 91/100\n",
            "9324/9324 - 22s - 2ms/step - loss: 0.0367\n",
            "Epoch 92/100\n",
            "9324/9324 - 22s - 2ms/step - loss: 0.0364\n",
            "Epoch 93/100\n",
            "9324/9324 - 22s - 2ms/step - loss: 0.0360\n",
            "Epoch 94/100\n",
            "9324/9324 - 22s - 2ms/step - loss: 0.0358\n",
            "Epoch 95/100\n",
            "9324/9324 - 21s - 2ms/step - loss: 0.0356\n",
            "Epoch 96/100\n",
            "9324/9324 - 22s - 2ms/step - loss: 0.0354\n",
            "Epoch 97/100\n",
            "9324/9324 - 22s - 2ms/step - loss: 0.0350\n",
            "Epoch 98/100\n",
            "9324/9324 - 23s - 2ms/step - loss: 0.0348\n",
            "Epoch 99/100\n",
            "9324/9324 - 22s - 2ms/step - loss: 0.0345\n",
            "Epoch 100/100\n",
            "9324/9324 - 20s - 2ms/step - loss: 0.0342\n"
          ]
        },
        {
          "data": {
            "text/plain": [
              "<keras.src.callbacks.history.History at 0x1d3de9672c0>"
            ]
          },
          "execution_count": 18,
          "metadata": {},
          "output_type": "execute_result"
        }
      ],
      "source": [
        "# Create and fit the LSTM network\n",
        "model = Sequential()\n",
        "model.add(LSTM(units=50, return_sequences=True, input_shape=(X_train.shape[1], X_train.shape[2])))\n",
        "model.add(LSTM(units=50))\n",
        "model.add(Dense(X_train.shape[2]))\n",
        "model.compile(loss='mean_squared_error', optimizer='adam')\n",
        "model.fit(X_train, Y_train, epochs=100, batch_size=1, verbose=2)\n"
      ]
    },
    {
      "cell_type": "code",
      "execution_count": 19,
      "metadata": {},
      "outputs": [],
      "source": [
        "# save the model\n",
        "model.save('model03.keras')\n",
        "# load the model\n"
      ]
    },
    {
      "cell_type": "code",
      "execution_count": 20,
      "metadata": {},
      "outputs": [
        {
          "data": {
            "text/plain": [
              "['scaler.pkl']"
            ]
          },
          "execution_count": 20,
          "metadata": {},
          "output_type": "execute_result"
        }
      ],
      "source": [
        "# Save the scaler\n",
        "import joblib\n",
        "joblib.dump(scaler, 'scaler.pkl')"
      ]
    },
    {
      "cell_type": "code",
      "execution_count": 21,
      "metadata": {
        "id": "01mJ3I_OH_J1"
      },
      "outputs": [],
      "source": [
        "# Scale the data to be between 0 and 1\n",
        "#scaler = MinMaxScaler(feature_range=(0, 1))\n",
        "last_week_data = df[crops].iloc[-7:].values \n",
        "scaled_last_week = scaler.transform(last_week_data) \n",
        "reshaped_last_week = np.reshape(scaled_last_week, (1, look_back, len(crops))) "
      ]
    },
    {
      "cell_type": "code",
      "execution_count": 22,
      "metadata": {
        "colab": {
          "base_uri": "https://localhost:8080/"
        },
        "id": "jtcuDTiIH_CS",
        "outputId": "5b216073-93af-43ce-ec81-88f3860e1dfd"
      },
      "outputs": [
        {
          "name": "stdout",
          "output_type": "stream",
          "text": [
            "\u001b[1m1/1\u001b[0m \u001b[32m━━━━━━━━━━━━━━━━━━━━\u001b[0m\u001b[37m\u001b[0m \u001b[1m0s\u001b[0m 335ms/step\n"
          ]
        }
      ],
      "source": [
        "# Predict\n",
        "prediction_scaled = model.predict(reshaped_last_week)\n",
        "prediction = scaler.inverse_transform(prediction_scaled)"
      ]
    },
    {
      "cell_type": "code",
      "execution_count": 23,
      "metadata": {
        "id": "-oaFh2_lH-5V"
      },
      "outputs": [],
      "source": [
        "# Create DataFrame for 6/9/2024 predictions\n",
        "predictions_6_9_2024 = pd.DataFrame(data=prediction, columns=crops)"
      ]
    },
    {
      "cell_type": "code",
      "execution_count": 24,
      "metadata": {
        "colab": {
          "base_uri": "https://localhost:8080/"
        },
        "id": "ox9rmit_IH4q",
        "outputId": "b9c9d3eb-68c6-4ef1-c17e-5e4ab298798f"
      },
      "outputs": [
        {
          "name": "stdout",
          "output_type": "stream",
          "text": [
            "\u001b[1m1/1\u001b[0m \u001b[32m━━━━━━━━━━━━━━━━━━━━\u001b[0m\u001b[37m\u001b[0m \u001b[1m1s\u001b[0m 1s/step\n",
            "\u001b[1m1/1\u001b[0m \u001b[32m━━━━━━━━━━━━━━━━━━━━\u001b[0m\u001b[37m\u001b[0m \u001b[1m0s\u001b[0m 20ms/step\n",
            "\u001b[1m1/1\u001b[0m \u001b[32m━━━━━━━━━━━━━━━━━━━━\u001b[0m\u001b[37m\u001b[0m \u001b[1m0s\u001b[0m 18ms/step\n",
            "\u001b[1m1/1\u001b[0m \u001b[32m━━━━━━━━━━━━━━━━━━━━\u001b[0m\u001b[37m\u001b[0m \u001b[1m0s\u001b[0m 18ms/step\n",
            "\u001b[1m1/1\u001b[0m \u001b[32m━━━━━━━━━━━━━━━━━━━━\u001b[0m\u001b[37m\u001b[0m \u001b[1m0s\u001b[0m 19ms/step\n",
            "\u001b[1m1/1\u001b[0m \u001b[32m━━━━━━━━━━━━━━━━━━━━\u001b[0m\u001b[37m\u001b[0m \u001b[1m0s\u001b[0m 20ms/step\n",
            "\u001b[1m1/1\u001b[0m \u001b[32m━━━━━━━━━━━━━━━━━━━━\u001b[0m\u001b[37m\u001b[0m \u001b[1m0s\u001b[0m 24ms/step\n",
            "\u001b[1m1/1\u001b[0m \u001b[32m━━━━━━━━━━━━━━━━━━━━\u001b[0m\u001b[37m\u001b[0m \u001b[1m0s\u001b[0m 19ms/step\n",
            "\u001b[1m1/1\u001b[0m \u001b[32m━━━━━━━━━━━━━━━━━━━━\u001b[0m\u001b[37m\u001b[0m \u001b[1m0s\u001b[0m 20ms/step\n",
            "\u001b[1m1/1\u001b[0m \u001b[32m━━━━━━━━━━━━━━━━━━━━\u001b[0m\u001b[37m\u001b[0m \u001b[1m0s\u001b[0m 20ms/step\n",
            "\u001b[1m1/1\u001b[0m \u001b[32m━━━━━━━━━━━━━━━━━━━━\u001b[0m\u001b[37m\u001b[0m \u001b[1m0s\u001b[0m 23ms/step\n",
            "\u001b[1m1/1\u001b[0m \u001b[32m━━━━━━━━━━━━━━━━━━━━\u001b[0m\u001b[37m\u001b[0m \u001b[1m0s\u001b[0m 21ms/step\n",
            "\u001b[1m1/1\u001b[0m \u001b[32m━━━━━━━━━━━━━━━━━━━━\u001b[0m\u001b[37m\u001b[0m \u001b[1m0s\u001b[0m 18ms/step\n",
            "\u001b[1m1/1\u001b[0m \u001b[32m━━━━━━━━━━━━━━━━━━━━\u001b[0m\u001b[37m\u001b[0m \u001b[1m0s\u001b[0m 19ms/step\n",
            "\u001b[1m1/1\u001b[0m \u001b[32m━━━━━━━━━━━━━━━━━━━━\u001b[0m\u001b[37m\u001b[0m \u001b[1m0s\u001b[0m 20ms/step\n",
            "\u001b[1m1/1\u001b[0m \u001b[32m━━━━━━━━━━━━━━━━━━━━\u001b[0m\u001b[37m\u001b[0m \u001b[1m0s\u001b[0m 23ms/step\n",
            "\u001b[1m1/1\u001b[0m \u001b[32m━━━━━━━━━━━━━━━━━━━━\u001b[0m\u001b[37m\u001b[0m \u001b[1m0s\u001b[0m 25ms/step\n",
            "\u001b[1m1/1\u001b[0m \u001b[32m━━━━━━━━━━━━━━━━━━━━\u001b[0m\u001b[37m\u001b[0m \u001b[1m0s\u001b[0m 19ms/step\n",
            "\u001b[1m1/1\u001b[0m \u001b[32m━━━━━━━━━━━━━━━━━━━━\u001b[0m\u001b[37m\u001b[0m \u001b[1m0s\u001b[0m 24ms/step\n"
          ]
        }
      ],
      "source": [
        "# Predict for all states using the last known data\n",
        "for state, state_data in last_known_data.items():\n",
        "    scaled_state_data = scaler.transform(state_data.reshape(1,-1))\n",
        "    reshaped_state_data = np.reshape(scaled_state_data, (1, 1, len(crops)))\n",
        "\n",
        "    state_prediction_scaled = model.predict(reshaped_state_data)\n",
        "    state_prediction = scaler.inverse_transform(state_prediction_scaled)\n",
        "\n",
        "    predictions_6_9_2024.loc[state] = state_prediction[0]"
      ]
    },
    {
      "cell_type": "code",
      "execution_count": 25,
      "metadata": {
        "colab": {
          "base_uri": "https://localhost:8080/"
        },
        "id": "Z3lNdgxFIHE-",
        "outputId": "d44ada5e-e011-4b03-82f2-e7f39c93e1b0"
      },
      "outputs": [
        {
          "name": "stdout",
          "output_type": "stream",
          "text": [
            "                       Rice      Wheat  Atta (Wheat)   Gram Dal  Tur/Arhar Dal\n",
            "0                 43.316242  33.794727     38.736542  81.159355     147.276001\n",
            "Assam             42.062222  33.524918     38.695454  79.585724     147.624252\n",
            "Bihar             39.355324  30.807825     37.408260  74.996895     138.386642\n",
            "Chhattisgarh      44.123730  35.298187     40.008839  80.695869     149.605957\n",
            "Delhi             39.961868  31.390638     37.465149  76.736496     139.671646\n",
            "Gujarat           44.092281  35.166843     39.906273  80.524040     149.580444\n",
            "Haryana           40.555340  31.928391     37.571049  77.880318     145.217499\n",
            "Himachal Pradesh  37.656456  29.351982     38.753254  63.584805     114.450760\n",
            "Jharkhand         41.373669  32.997677     38.339325  79.224144     145.362122\n",
            "Karnataka         44.463890  34.962662     40.084515  79.370956     145.493713\n",
            "Madhya Pradesh    40.544147  31.952803     37.775608  78.087639     142.504440\n",
            "Maharashtra       46.799461  37.252972     41.754463  82.332100     156.341995\n",
            "Meghalaya         41.334091  32.801342     37.816399  78.800957     143.756775\n",
            "Odisha            53.036140  41.694229     45.722420  87.547821     175.675079\n",
            "Punjab            39.102871  30.015972     37.661694  71.607590     129.254700\n",
            "Rajasthan         41.512691  31.462038     36.129837  78.008911     142.028854\n",
            "Tamil Nadu        50.172474  39.437706     44.067398  84.216721     160.611023\n",
            "Telangana         56.216084  44.752369     48.588268  89.786942     177.005798\n",
            "Uttar Pradesh     39.347153  30.655571     37.625648  74.226753     135.697250\n",
            "West Bengal       41.827347  33.331768     38.717968  79.324944     146.246078\n"
          ]
        }
      ],
      "source": [
        "# Display the predictions\n",
        "print(predictions_6_9_2024)"
      ]
    },
    {
      "cell_type": "markdown",
      "metadata": {},
      "source": [
        "# --------------------------------------------------"
      ]
    },
    {
      "cell_type": "code",
      "execution_count": 26,
      "metadata": {},
      "outputs": [],
      "source": [
        "# Predict for all states using a rolling window of past data\n",
        "predictions_by_state = {}  # Dictionary to store predictions for each state"
      ]
    },
    {
      "cell_type": "code",
      "execution_count": 27,
      "metadata": {},
      "outputs": [
        {
          "name": "stdout",
          "output_type": "stream",
          "text": [
            "\u001b[1m1/1\u001b[0m \u001b[32m━━━━━━━━━━━━━━━━━━━━\u001b[0m\u001b[37m\u001b[0m \u001b[1m0s\u001b[0m 22ms/step\n",
            "\u001b[1m1/1\u001b[0m \u001b[32m━━━━━━━━━━━━━━━━━━━━\u001b[0m\u001b[37m\u001b[0m \u001b[1m0s\u001b[0m 23ms/step\n",
            "\u001b[1m1/1\u001b[0m \u001b[32m━━━━━━━━━━━━━━━━━━━━\u001b[0m\u001b[37m\u001b[0m \u001b[1m0s\u001b[0m 20ms/step\n",
            "\u001b[1m1/1\u001b[0m \u001b[32m━━━━━━━━━━━━━━━━━━━━\u001b[0m\u001b[37m\u001b[0m \u001b[1m0s\u001b[0m 20ms/step\n",
            "\u001b[1m1/1\u001b[0m \u001b[32m━━━━━━━━━━━━━━━━━━━━\u001b[0m\u001b[37m\u001b[0m \u001b[1m0s\u001b[0m 23ms/step\n",
            "\u001b[1m1/1\u001b[0m \u001b[32m━━━━━━━━━━━━━━━━━━━━\u001b[0m\u001b[37m\u001b[0m \u001b[1m0s\u001b[0m 23ms/step\n",
            "\u001b[1m1/1\u001b[0m \u001b[32m━━━━━━━━━━━━━━━━━━━━\u001b[0m\u001b[37m\u001b[0m \u001b[1m0s\u001b[0m 19ms/step\n",
            "\u001b[1m1/1\u001b[0m \u001b[32m━━━━━━━━━━━━━━━━━━━━\u001b[0m\u001b[37m\u001b[0m \u001b[1m0s\u001b[0m 20ms/step\n",
            "\u001b[1m1/1\u001b[0m \u001b[32m━━━━━━━━━━━━━━━━━━━━\u001b[0m\u001b[37m\u001b[0m \u001b[1m0s\u001b[0m 20ms/step\n",
            "\u001b[1m1/1\u001b[0m \u001b[32m━━━━━━━━━━━━━━━━━━━━\u001b[0m\u001b[37m\u001b[0m \u001b[1m0s\u001b[0m 20ms/step\n",
            "\u001b[1m1/1\u001b[0m \u001b[32m━━━━━━━━━━━━━━━━━━━━\u001b[0m\u001b[37m\u001b[0m \u001b[1m0s\u001b[0m 19ms/step\n",
            "\u001b[1m1/1\u001b[0m \u001b[32m━━━━━━━━━━━━━━━━━━━━\u001b[0m\u001b[37m\u001b[0m \u001b[1m0s\u001b[0m 20ms/step\n",
            "\u001b[1m1/1\u001b[0m \u001b[32m━━━━━━━━━━━━━━━━━━━━\u001b[0m\u001b[37m\u001b[0m \u001b[1m0s\u001b[0m 20ms/step\n",
            "\u001b[1m1/1\u001b[0m \u001b[32m━━━━━━━━━━━━━━━━━━━━\u001b[0m\u001b[37m\u001b[0m \u001b[1m0s\u001b[0m 19ms/step\n",
            "\u001b[1m1/1\u001b[0m \u001b[32m━━━━━━━━━━━━━━━━━━━━\u001b[0m\u001b[37m\u001b[0m \u001b[1m0s\u001b[0m 19ms/step\n",
            "\u001b[1m1/1\u001b[0m \u001b[32m━━━━━━━━━━━━━━━━━━━━\u001b[0m\u001b[37m\u001b[0m \u001b[1m0s\u001b[0m 21ms/step\n",
            "\u001b[1m1/1\u001b[0m \u001b[32m━━━━━━━━━━━━━━━━━━━━\u001b[0m\u001b[37m\u001b[0m \u001b[1m0s\u001b[0m 21ms/step\n",
            "\u001b[1m1/1\u001b[0m \u001b[32m━━━━━━━━━━━━━━━━━━━━\u001b[0m\u001b[37m\u001b[0m \u001b[1m0s\u001b[0m 19ms/step\n",
            "\u001b[1m1/1\u001b[0m \u001b[32m━━━━━━━━━━━━━━━━━━━━\u001b[0m\u001b[37m\u001b[0m \u001b[1m0s\u001b[0m 18ms/step\n"
          ]
        }
      ],
      "source": [
        "for state in df['States/UTs'].unique():\n",
        "    state_data = df[df['States/UTs'] == state][crops].iloc[-look_back:].values # Last 'look_back' days of data\n",
        "    scaled_state_data = scaler.transform(state_data)\n",
        "    reshaped_state_data = np.reshape(scaled_state_data, (1, look_back, len(crops)))\n",
        "\n",
        "    state_prediction_scaled = model.predict(reshaped_state_data)\n",
        "    state_prediction = scaler.inverse_transform(state_prediction_scaled)\n",
        "    predictions_by_state[state] = state_prediction[0] # Store prediction for the state\n"
      ]
    },
    {
      "cell_type": "code",
      "execution_count": 28,
      "metadata": {},
      "outputs": [
        {
          "name": "stdout",
          "output_type": "stream",
          "text": [
            "                       Rice      Wheat  Atta (Wheat)   Gram Dal  Tur/Arhar Dal\n",
            "Assam             40.802727  31.754515     36.860775  78.237541     139.268845\n",
            "Bihar             42.090591  32.865471     37.969440  79.331451     142.238113\n",
            "Chhattisgarh      41.146519  32.057789     37.134720  78.456497     139.878357\n",
            "Delhi             41.837280  32.568020     37.673134  79.275429     142.370178\n",
            "Gujarat           40.562901  31.613672     36.700436  77.840805     138.122147\n",
            "Haryana           41.559498  32.415249     37.532211  78.887413     141.020126\n",
            "Himachal Pradesh  40.957966  32.005600     37.130123  77.608658     138.105820\n",
            "Jharkhand         41.583580  32.412769     37.492733  78.849602     140.931076\n",
            "Karnataka         47.216167  37.208366     42.127743  83.494698     155.841568\n",
            "Madhya Pradesh    41.545918  32.399506     37.488213  78.741776     140.724915\n",
            "Maharashtra       45.204346  35.502224     40.369030  82.593788     152.486023\n",
            "Meghalaya         40.336132  31.389622     36.482998  77.816429     138.083237\n",
            "Odisha            42.583389  33.295204     38.389423  79.492393     142.925751\n",
            "Punjab            41.645905  32.640163     37.762875  78.254539     139.859451\n",
            "Rajasthan         42.102962  32.899334     37.987984  79.109261     141.422150\n",
            "Tamil Nadu        36.589325  27.346392     32.652138  72.909271     133.191025\n",
            "Telangana         44.359852  33.788174     38.748226  83.618584     155.880112\n",
            "Uttar Pradesh     42.050499  32.916962     38.000523  78.975945     141.334183\n",
            "West Bengal       41.320377  32.152000     37.254646  78.720779     140.639328\n"
          ]
        }
      ],
      "source": [
        "predictions_df = pd.DataFrame(predictions_by_state).T # Convert to DataFrame for better display\n",
        "predictions_df.columns = crops # Add column names\n",
        "print(predictions_df)"
      ]
    }
  ],
  "metadata": {
    "colab": {
      "provenance": []
    },
    "kernelspec": {
      "display_name": "Python 3",
      "name": "python3"
    },
    "language_info": {
      "codemirror_mode": {
        "name": "ipython",
        "version": 3
      },
      "file_extension": ".py",
      "mimetype": "text/x-python",
      "name": "python",
      "nbconvert_exporter": "python",
      "pygments_lexer": "ipython3",
      "version": "3.12.6"
    }
  },
  "nbformat": 4,
  "nbformat_minor": 0
}

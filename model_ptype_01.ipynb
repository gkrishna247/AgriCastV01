{
  "cells": [
    {
      "cell_type": "code",
      "execution_count": null,
      "metadata": {
        "id": "5ncTnK8IGcE2"
      },
      "outputs": [],
      "source": [
        "import pandas as pd\n",
        "import numpy as np\n",
        "import tensorflow\n",
        "from sklearn.preprocessing import MinMaxScaler\n",
        "from tensorflow.keras.models import Sequential\n",
        "from tensorflow.keras.layers import LSTM, Dense"
      ]
    },
    {
      "cell_type": "code",
      "execution_count": null,
      "metadata": {
        "id": "jKzOr6xKG4Ys"
      },
      "outputs": [],
      "source": [
        "# Load the data from the CSV file\n",
        "df = pd.read_csv(\"data.csv\")"
      ]
    },
    {
      "cell_type": "code",
      "execution_count": null,
      "metadata": {
        "id": "TmhegmtXG4QW"
      },
      "outputs": [],
      "source": [
        "# Convert date columns to a datetime object\n",
        "df['Date'] = pd.to_datetime(df[['Day', 'Month', 'Year']])\n",
        "df.set_index('Date', inplace=True)"
      ]
    },
    {
      "cell_type": "code",
      "execution_count": null,
      "metadata": {
        "id": "pqLE05AUG4Jw"
      },
      "outputs": [],
      "source": [
        "# Select the crops for prediction\n",
        "crops = [\"Rice\", \"Wheat\", \"Atta (Wheat)\", \"Gram Dal\"]"
      ]
    },
    {
      "cell_type": "code",
      "execution_count": null,
      "metadata": {
        "id": "jb6B6siNG4Fo"
      },
      "outputs": [],
      "source": [
        "# Create a dictionary to store the last known data for each state\n",
        "last_known_data = {}\n",
        "for state in df['States/UTs'].unique():\n",
        "    if state not in ['Average Price', 'Maximum Price', 'Minimum Price', 'Modal Price']:\n",
        "        last_known_data[state] = df[df['States/UTs'] == state].iloc[-1][crops].values"
      ]
    },
    {
      "cell_type": "code",
      "execution_count": null,
      "metadata": {
        "id": "K17VZZ5tG4Bh"
      },
      "outputs": [],
      "source": [
        "# Prepare data for LSTM\n",
        "data = df[crops].values"
      ]
    },
    {
      "cell_type": "code",
      "execution_count": null,
      "metadata": {
        "id": "yqTQqxoVG39I"
      },
      "outputs": [],
      "source": [
        "# Scale the data to be between 0 and 1\n",
        "scaler = MinMaxScaler(feature_range=(0, 1))\n",
        "scaled_data = scaler.fit_transform(data)"
      ]
    },
    {
      "cell_type": "code",
      "execution_count": null,
      "metadata": {
        "id": "OMsCIA9OG31R"
      },
      "outputs": [],
      "source": [
        "# Split the data into training and testing sets\n",
        "train_size = int(len(scaled_data) * 0.8)\n",
        "train_data = scaled_data[0:train_size,:]\n",
        "test_data = scaled_data[train_size:len(scaled_data),:]"
      ]
    },
    {
      "cell_type": "code",
      "execution_count": null,
      "metadata": {
        "id": "O4Eh9I7LG3xA"
      },
      "outputs": [],
      "source": [
        "# Create the function to create the dataset\n",
        "def create_dataset(dataset, look_back=1):\n",
        "    X, Y = [], []\n",
        "    for i in range(len(dataset)-look_back-1):\n",
        "        a = dataset[i:(i+look_back), :]\n",
        "        X.append(a)\n",
        "        Y.append(dataset[i + look_back, :])\n",
        "    return np.array(X), np.array(Y)"
      ]
    },
    {
      "cell_type": "code",
      "execution_count": null,
      "metadata": {
        "id": "WgrgJmkuG3s0"
      },
      "outputs": [],
      "source": [
        "# Set look_back period (number of previous days to consider)\n",
        "look_back = 7\n",
        "X_train, Y_train = create_dataset(train_data, look_back)\n",
        "X_test, Y_test = create_dataset(test_data, look_back)"
      ]
    },
    {
      "cell_type": "code",
      "execution_count": null,
      "metadata": {
        "id": "lqfpnKrdG3mZ"
      },
      "outputs": [],
      "source": [
        "# Reshape input to be [samples, time steps, features]\n",
        "X_train = np.reshape(X_train, (X_train.shape[0], X_train.shape[1], X_train.shape[2]))\n",
        "X_test = np.reshape(X_test, (X_test.shape[0], X_test.shape[1], X_test.shape[2]))"
      ]
    },
    {
      "cell_type": "code",
      "execution_count": null,
      "metadata": {
        "colab": {
          "base_uri": "https://localhost:8080/"
        },
        "id": "omUUdym3G3a-",
        "outputId": "240ae506-e6a8-4c69-fca2-a61143b7f1ae"
      },
      "outputs": [
        {
          "name": "stderr",
          "output_type": "stream",
          "text": [
            "/usr/local/lib/python3.10/dist-packages/keras/src/layers/rnn/rnn.py:204: UserWarning: Do not pass an `input_shape`/`input_dim` argument to a layer. When using Sequential models, prefer using an `Input(shape)` object as the first layer in the model instead.\n",
            "  super().__init__(**kwargs)\n"
          ]
        },
        {
          "name": "stdout",
          "output_type": "stream",
          "text": [
            "Epoch 1/100\n",
            "1048/1048 - 11s - 10ms/step - loss: 0.0228\n",
            "Epoch 2/100\n",
            "1048/1048 - 10s - 9ms/step - loss: 0.0177\n",
            "Epoch 3/100\n",
            "1048/1048 - 8s - 8ms/step - loss: 0.0174\n",
            "Epoch 4/100\n",
            "1048/1048 - 6s - 6ms/step - loss: 0.0168\n",
            "Epoch 5/100\n",
            "1048/1048 - 4s - 4ms/step - loss: 0.0166\n",
            "Epoch 6/100\n",
            "1048/1048 - 4s - 4ms/step - loss: 0.0155\n",
            "Epoch 7/100\n",
            "1048/1048 - 5s - 5ms/step - loss: 0.0133\n",
            "Epoch 8/100\n",
            "1048/1048 - 4s - 4ms/step - loss: 0.0098\n",
            "Epoch 9/100\n",
            "1048/1048 - 6s - 6ms/step - loss: 0.0089\n",
            "Epoch 10/100\n",
            "1048/1048 - 4s - 4ms/step - loss: 0.0081\n",
            "Epoch 11/100\n",
            "1048/1048 - 5s - 4ms/step - loss: 0.0077\n",
            "Epoch 12/100\n",
            "1048/1048 - 5s - 5ms/step - loss: 0.0071\n",
            "Epoch 13/100\n",
            "1048/1048 - 5s - 4ms/step - loss: 0.0069\n",
            "Epoch 14/100\n",
            "1048/1048 - 4s - 4ms/step - loss: 0.0063\n",
            "Epoch 15/100\n",
            "1048/1048 - 6s - 6ms/step - loss: 0.0060\n",
            "Epoch 16/100\n",
            "1048/1048 - 9s - 8ms/step - loss: 0.0058\n",
            "Epoch 17/100\n",
            "1048/1048 - 6s - 6ms/step - loss: 0.0055\n",
            "Epoch 18/100\n",
            "1048/1048 - 4s - 4ms/step - loss: 0.0052\n",
            "Epoch 19/100\n",
            "1048/1048 - 6s - 6ms/step - loss: 0.0050\n",
            "Epoch 20/100\n",
            "1048/1048 - 4s - 4ms/step - loss: 0.0048\n",
            "Epoch 21/100\n",
            "1048/1048 - 5s - 5ms/step - loss: 0.0045\n",
            "Epoch 22/100\n",
            "1048/1048 - 5s - 5ms/step - loss: 0.0044\n",
            "Epoch 23/100\n",
            "1048/1048 - 9s - 8ms/step - loss: 0.0042\n",
            "Epoch 24/100\n",
            "1048/1048 - 5s - 5ms/step - loss: 0.0040\n",
            "Epoch 25/100\n",
            "1048/1048 - 9s - 9ms/step - loss: 0.0037\n",
            "Epoch 26/100\n",
            "1048/1048 - 6s - 5ms/step - loss: 0.0037\n",
            "Epoch 27/100\n",
            "1048/1048 - 4s - 4ms/step - loss: 0.0036\n",
            "Epoch 28/100\n",
            "1048/1048 - 6s - 6ms/step - loss: 0.0035\n",
            "Epoch 29/100\n",
            "1048/1048 - 4s - 4ms/step - loss: 0.0034\n",
            "Epoch 30/100\n",
            "1048/1048 - 4s - 4ms/step - loss: 0.0034\n",
            "Epoch 31/100\n",
            "1048/1048 - 7s - 6ms/step - loss: 0.0032\n",
            "Epoch 32/100\n",
            "1048/1048 - 9s - 8ms/step - loss: 0.0031\n",
            "Epoch 33/100\n",
            "1048/1048 - 5s - 5ms/step - loss: 0.0032\n",
            "Epoch 34/100\n",
            "1048/1048 - 4s - 3ms/step - loss: 0.0031\n",
            "Epoch 35/100\n",
            "1048/1048 - 4s - 4ms/step - loss: 0.0030\n",
            "Epoch 36/100\n",
            "1048/1048 - 5s - 5ms/step - loss: 0.0030\n",
            "Epoch 37/100\n",
            "1048/1048 - 4s - 4ms/step - loss: 0.0029\n",
            "Epoch 38/100\n",
            "1048/1048 - 5s - 5ms/step - loss: 0.0029\n",
            "Epoch 39/100\n",
            "1048/1048 - 5s - 5ms/step - loss: 0.0028\n",
            "Epoch 40/100\n",
            "1048/1048 - 4s - 4ms/step - loss: 0.0027\n",
            "Epoch 41/100\n",
            "1048/1048 - 4s - 4ms/step - loss: 0.0028\n",
            "Epoch 42/100\n",
            "1048/1048 - 5s - 5ms/step - loss: 0.0027\n",
            "Epoch 43/100\n",
            "1048/1048 - 9s - 8ms/step - loss: 0.0028\n",
            "Epoch 44/100\n",
            "1048/1048 - 6s - 6ms/step - loss: 0.0026\n",
            "Epoch 45/100\n",
            "1048/1048 - 4s - 4ms/step - loss: 0.0026\n",
            "Epoch 46/100\n",
            "1048/1048 - 4s - 4ms/step - loss: 0.0025\n",
            "Epoch 47/100\n",
            "1048/1048 - 5s - 5ms/step - loss: 0.0026\n",
            "Epoch 48/100\n",
            "1048/1048 - 4s - 4ms/step - loss: 0.0025\n",
            "Epoch 49/100\n",
            "1048/1048 - 4s - 4ms/step - loss: 0.0024\n",
            "Epoch 50/100\n",
            "1048/1048 - 5s - 5ms/step - loss: 0.0024\n",
            "Epoch 51/100\n",
            "1048/1048 - 9s - 8ms/step - loss: 0.0023\n",
            "Epoch 52/100\n",
            "1048/1048 - 5s - 5ms/step - loss: 0.0024\n",
            "Epoch 53/100\n",
            "1048/1048 - 4s - 4ms/step - loss: 0.0024\n",
            "Epoch 54/100\n",
            "1048/1048 - 6s - 5ms/step - loss: 0.0023\n",
            "Epoch 55/100\n",
            "1048/1048 - 5s - 5ms/step - loss: 0.0023\n",
            "Epoch 56/100\n",
            "1048/1048 - 4s - 4ms/step - loss: 0.0024\n",
            "Epoch 57/100\n",
            "1048/1048 - 4s - 4ms/step - loss: 0.0023\n",
            "Epoch 58/100\n",
            "1048/1048 - 5s - 4ms/step - loss: 0.0022\n",
            "Epoch 59/100\n",
            "1048/1048 - 5s - 5ms/step - loss: 0.0023\n",
            "Epoch 60/100\n",
            "1048/1048 - 7s - 6ms/step - loss: 0.0022\n",
            "Epoch 61/100\n",
            "1048/1048 - 9s - 9ms/step - loss: 0.0022\n",
            "Epoch 62/100\n",
            "1048/1048 - 5s - 5ms/step - loss: 0.0022\n",
            "Epoch 63/100\n",
            "1048/1048 - 4s - 4ms/step - loss: 0.0022\n",
            "Epoch 64/100\n",
            "1048/1048 - 6s - 6ms/step - loss: 0.0021\n",
            "Epoch 65/100\n",
            "1048/1048 - 4s - 4ms/step - loss: 0.0022\n",
            "Epoch 66/100\n",
            "1048/1048 - 4s - 4ms/step - loss: 0.0022\n",
            "Epoch 67/100\n",
            "1048/1048 - 4s - 4ms/step - loss: 0.0021\n",
            "Epoch 68/100\n",
            "1048/1048 - 5s - 5ms/step - loss: 0.0021\n",
            "Epoch 69/100\n",
            "1048/1048 - 4s - 4ms/step - loss: 0.0022\n",
            "Epoch 70/100\n",
            "1048/1048 - 6s - 6ms/step - loss: 0.0021\n",
            "Epoch 71/100\n",
            "1048/1048 - 4s - 4ms/step - loss: 0.0021\n",
            "Epoch 72/100\n",
            "1048/1048 - 5s - 4ms/step - loss: 0.0021\n",
            "Epoch 73/100\n",
            "1048/1048 - 6s - 6ms/step - loss: 0.0020\n",
            "Epoch 74/100\n",
            "1048/1048 - 9s - 8ms/step - loss: 0.0022\n",
            "Epoch 75/100\n",
            "1048/1048 - 6s - 6ms/step - loss: 0.0021\n",
            "Epoch 76/100\n",
            "1048/1048 - 4s - 4ms/step - loss: 0.0020\n",
            "Epoch 77/100\n",
            "1048/1048 - 4s - 4ms/step - loss: 0.0020\n",
            "Epoch 78/100\n",
            "1048/1048 - 5s - 5ms/step - loss: 0.0020\n",
            "Epoch 79/100\n",
            "1048/1048 - 4s - 4ms/step - loss: 0.0021\n",
            "Epoch 80/100\n",
            "1048/1048 - 4s - 4ms/step - loss: 0.0020\n",
            "Epoch 81/100\n",
            "1048/1048 - 6s - 5ms/step - loss: 0.0019\n",
            "Epoch 82/100\n",
            "1048/1048 - 4s - 4ms/step - loss: 0.0020\n",
            "Epoch 83/100\n",
            "1048/1048 - 7s - 6ms/step - loss: 0.0020\n",
            "Epoch 84/100\n",
            "1048/1048 - 9s - 8ms/step - loss: 0.0019\n",
            "Epoch 85/100\n",
            "1048/1048 - 5s - 5ms/step - loss: 0.0019\n",
            "Epoch 86/100\n",
            "1048/1048 - 4s - 4ms/step - loss: 0.0021\n",
            "Epoch 87/100\n",
            "1048/1048 - 4s - 4ms/step - loss: 0.0020\n",
            "Epoch 88/100\n",
            "1048/1048 - 7s - 6ms/step - loss: 0.0019\n",
            "Epoch 89/100\n",
            "1048/1048 - 9s - 8ms/step - loss: 0.0019\n",
            "Epoch 90/100\n",
            "1048/1048 - 5s - 5ms/step - loss: 0.0019\n",
            "Epoch 91/100\n",
            "1048/1048 - 4s - 4ms/step - loss: 0.0019\n",
            "Epoch 92/100\n",
            "1048/1048 - 5s - 5ms/step - loss: 0.0018\n",
            "Epoch 93/100\n",
            "1048/1048 - 5s - 4ms/step - loss: 0.0018\n",
            "Epoch 94/100\n",
            "1048/1048 - 5s - 4ms/step - loss: 0.0019\n",
            "Epoch 95/100\n",
            "1048/1048 - 6s - 6ms/step - loss: 0.0020\n",
            "Epoch 96/100\n",
            "1048/1048 - 8s - 8ms/step - loss: 0.0017\n",
            "Epoch 97/100\n",
            "1048/1048 - 5s - 5ms/step - loss: 0.0019\n",
            "Epoch 98/100\n",
            "1048/1048 - 4s - 4ms/step - loss: 0.0019\n",
            "Epoch 99/100\n",
            "1048/1048 - 4s - 4ms/step - loss: 0.0017\n",
            "Epoch 100/100\n",
            "1048/1048 - 5s - 4ms/step - loss: 0.0019\n"
          ]
        },
        {
          "data": {
            "text/plain": [
              "<keras.src.callbacks.history.History at 0x7a48e125ce20>"
            ]
          },
          "execution_count": 12,
          "metadata": {},
          "output_type": "execute_result"
        }
      ],
      "source": [
        "# Create and fit the LSTM network\n",
        "model = Sequential()\n",
        "model.add(LSTM(units=50, return_sequences=True, input_shape=(X_train.shape[1], X_train.shape[2])))\n",
        "model.add(LSTM(units=50))\n",
        "model.add(Dense(X_train.shape[2]))\n",
        "model.compile(loss='mean_squared_error', optimizer='adam')\n",
        "model.fit(X_train, Y_train, epochs=100, batch_size=1, verbose=2)\n"
      ]
    },
    {
      "cell_type": "code",
      "execution_count": null,
      "metadata": {
        "id": "01mJ3I_OH_J1"
      },
      "outputs": [],
      "source": [
        "# Make prediction for 6/9/2024\n",
        "# First, prepare the input data for 6/9/2024 prediction\n",
        "last_week_data = df[crops].iloc[-look_back:].values\n",
        "scaled_last_week = scaler.transform(last_week_data)\n",
        "reshaped_last_week = np.reshape(scaled_last_week, (1, look_back, len(crops)))\n"
      ]
    },
    {
      "cell_type": "code",
      "execution_count": null,
      "metadata": {
        "colab": {
          "base_uri": "https://localhost:8080/"
        },
        "id": "jtcuDTiIH_CS",
        "outputId": "5b216073-93af-43ce-ec81-88f3860e1dfd"
      },
      "outputs": [
        {
          "name": "stdout",
          "output_type": "stream",
          "text": [
            "\u001b[1m1/1\u001b[0m \u001b[32m━━━━━━━━━━━━━━━━━━━━\u001b[0m\u001b[37m\u001b[0m \u001b[1m0s\u001b[0m 326ms/step\n"
          ]
        }
      ],
      "source": [
        "# Predict\n",
        "prediction_scaled = model.predict(reshaped_last_week)\n",
        "prediction = scaler.inverse_transform(prediction_scaled)"
      ]
    },
    {
      "cell_type": "code",
      "execution_count": null,
      "metadata": {
        "id": "-oaFh2_lH-5V"
      },
      "outputs": [],
      "source": [
        "# Create DataFrame for 6/9/2024 predictions\n",
        "predictions_6_9_2024 = pd.DataFrame(data=prediction, columns=crops, index=['Average Price'])"
      ]
    },
    {
      "cell_type": "code",
      "execution_count": null,
      "metadata": {
        "colab": {
          "base_uri": "https://localhost:8080/"
        },
        "id": "ox9rmit_IH4q",
        "outputId": "b9c9d3eb-68c6-4ef1-c17e-5e4ab298798f"
      },
      "outputs": [
        {
          "name": "stdout",
          "output_type": "stream",
          "text": [
            "\u001b[1m1/1\u001b[0m \u001b[32m━━━━━━━━━━━━━━━━━━━━\u001b[0m\u001b[37m\u001b[0m \u001b[1m0s\u001b[0m 425ms/step\n",
            "\u001b[1m1/1\u001b[0m \u001b[32m━━━━━━━━━━━━━━━━━━━━\u001b[0m\u001b[37m\u001b[0m \u001b[1m0s\u001b[0m 42ms/step\n",
            "\u001b[1m1/1\u001b[0m \u001b[32m━━━━━━━━━━━━━━━━━━━━\u001b[0m\u001b[37m\u001b[0m \u001b[1m0s\u001b[0m 35ms/step\n",
            "\u001b[1m1/1\u001b[0m \u001b[32m━━━━━━━━━━━━━━━━━━━━\u001b[0m\u001b[37m\u001b[0m \u001b[1m0s\u001b[0m 27ms/step\n",
            "\u001b[1m1/1\u001b[0m \u001b[32m━━━━━━━━━━━━━━━━━━━━\u001b[0m\u001b[37m\u001b[0m \u001b[1m0s\u001b[0m 28ms/step\n",
            "\u001b[1m1/1\u001b[0m \u001b[32m━━━━━━━━━━━━━━━━━━━━\u001b[0m\u001b[37m\u001b[0m \u001b[1m0s\u001b[0m 29ms/step\n",
            "\u001b[1m1/1\u001b[0m \u001b[32m━━━━━━━━━━━━━━━━━━━━\u001b[0m\u001b[37m\u001b[0m \u001b[1m0s\u001b[0m 27ms/step\n",
            "\u001b[1m1/1\u001b[0m \u001b[32m━━━━━━━━━━━━━━━━━━━━\u001b[0m\u001b[37m\u001b[0m \u001b[1m0s\u001b[0m 31ms/step\n",
            "\u001b[1m1/1\u001b[0m \u001b[32m━━━━━━━━━━━━━━━━━━━━\u001b[0m\u001b[37m\u001b[0m \u001b[1m0s\u001b[0m 33ms/step\n",
            "\u001b[1m1/1\u001b[0m \u001b[32m━━━━━━━━━━━━━━━━━━━━\u001b[0m\u001b[37m\u001b[0m \u001b[1m0s\u001b[0m 32ms/step\n",
            "\u001b[1m1/1\u001b[0m \u001b[32m━━━━━━━━━━━━━━━━━━━━\u001b[0m\u001b[37m\u001b[0m \u001b[1m0s\u001b[0m 29ms/step\n",
            "\u001b[1m1/1\u001b[0m \u001b[32m━━━━━━━━━━━━━━━━━━━━\u001b[0m\u001b[37m\u001b[0m \u001b[1m0s\u001b[0m 33ms/step\n",
            "\u001b[1m1/1\u001b[0m \u001b[32m━━━━━━━━━━━━━━━━━━━━\u001b[0m\u001b[37m\u001b[0m \u001b[1m0s\u001b[0m 28ms/step\n",
            "\u001b[1m1/1\u001b[0m \u001b[32m━━━━━━━━━━━━━━━━━━━━\u001b[0m\u001b[37m\u001b[0m \u001b[1m0s\u001b[0m 32ms/step\n",
            "\u001b[1m1/1\u001b[0m \u001b[32m━━━━━━━━━━━━━━━━━━━━\u001b[0m\u001b[37m\u001b[0m \u001b[1m0s\u001b[0m 30ms/step\n",
            "\u001b[1m1/1\u001b[0m \u001b[32m━━━━━━━━━━━━━━━━━━━━\u001b[0m\u001b[37m\u001b[0m \u001b[1m0s\u001b[0m 31ms/step\n",
            "\u001b[1m1/1\u001b[0m \u001b[32m━━━━━━━━━━━━━━━━━━━━\u001b[0m\u001b[37m\u001b[0m \u001b[1m0s\u001b[0m 30ms/step\n",
            "\u001b[1m1/1\u001b[0m \u001b[32m━━━━━━━━━━━━━━━━━━━━\u001b[0m\u001b[37m\u001b[0m \u001b[1m0s\u001b[0m 71ms/step\n",
            "\u001b[1m1/1\u001b[0m \u001b[32m━━━━━━━━━━━━━━━━━━━━\u001b[0m\u001b[37m\u001b[0m \u001b[1m0s\u001b[0m 30ms/step\n",
            "\u001b[1m1/1\u001b[0m \u001b[32m━━━━━━━━━━━━━━━━━━━━\u001b[0m\u001b[37m\u001b[0m \u001b[1m0s\u001b[0m 42ms/step\n",
            "\u001b[1m1/1\u001b[0m \u001b[32m━━━━━━━━━━━━━━━━━━━━\u001b[0m\u001b[37m\u001b[0m \u001b[1m0s\u001b[0m 19ms/step\n",
            "\u001b[1m1/1\u001b[0m \u001b[32m━━━━━━━━━━━━━━━━━━━━\u001b[0m\u001b[37m\u001b[0m \u001b[1m0s\u001b[0m 19ms/step\n",
            "\u001b[1m1/1\u001b[0m \u001b[32m━━━━━━━━━━━━━━━━━━━━\u001b[0m\u001b[37m\u001b[0m \u001b[1m0s\u001b[0m 21ms/step\n",
            "\u001b[1m1/1\u001b[0m \u001b[32m━━━━━━━━━━━━━━━━━━━━\u001b[0m\u001b[37m\u001b[0m \u001b[1m0s\u001b[0m 18ms/step\n",
            "\u001b[1m1/1\u001b[0m \u001b[32m━━━━━━━━━━━━━━━━━━━━\u001b[0m\u001b[37m\u001b[0m \u001b[1m0s\u001b[0m 20ms/step\n",
            "\u001b[1m1/1\u001b[0m \u001b[32m━━━━━━━━━━━━━━━━━━━━\u001b[0m\u001b[37m\u001b[0m \u001b[1m0s\u001b[0m 20ms/step\n",
            "\u001b[1m1/1\u001b[0m \u001b[32m━━━━━━━━━━━━━━━━━━━━\u001b[0m\u001b[37m\u001b[0m \u001b[1m0s\u001b[0m 20ms/step\n",
            "\u001b[1m1/1\u001b[0m \u001b[32m━━━━━━━━━━━━━━━━━━━━\u001b[0m\u001b[37m\u001b[0m \u001b[1m0s\u001b[0m 19ms/step\n",
            "\u001b[1m1/1\u001b[0m \u001b[32m━━━━━━━━━━━━━━━━━━━━\u001b[0m\u001b[37m\u001b[0m \u001b[1m0s\u001b[0m 26ms/step\n",
            "\u001b[1m1/1\u001b[0m \u001b[32m━━━━━━━━━━━━━━━━━━━━\u001b[0m\u001b[37m\u001b[0m \u001b[1m0s\u001b[0m 26ms/step\n",
            "\u001b[1m1/1\u001b[0m \u001b[32m━━━━━━━━━━━━━━━━━━━━\u001b[0m\u001b[37m\u001b[0m \u001b[1m0s\u001b[0m 23ms/step\n",
            "\u001b[1m1/1\u001b[0m \u001b[32m━━━━━━━━━━━━━━━━━━━━\u001b[0m\u001b[37m\u001b[0m \u001b[1m0s\u001b[0m 19ms/step\n",
            "\u001b[1m1/1\u001b[0m \u001b[32m━━━━━━━━━━━━━━━━━━━━\u001b[0m\u001b[37m\u001b[0m \u001b[1m0s\u001b[0m 35ms/step\n",
            "\u001b[1m1/1\u001b[0m \u001b[32m━━━━━━━━━━━━━━━━━━━━\u001b[0m\u001b[37m\u001b[0m \u001b[1m0s\u001b[0m 19ms/step\n"
          ]
        }
      ],
      "source": [
        "# Predict for all states using the last known data\n",
        "for state, state_data in last_known_data.items():\n",
        "    scaled_state_data = scaler.transform(state_data.reshape(1,-1))\n",
        "    reshaped_state_data = np.reshape(scaled_state_data, (1, 1, len(crops)))\n",
        "\n",
        "    state_prediction_scaled = model.predict(reshaped_state_data)\n",
        "    state_prediction = scaler.inverse_transform(state_prediction_scaled)\n",
        "\n",
        "    predictions_6_9_2024.loc[state] = state_prediction[0]"
      ]
    },
    {
      "cell_type": "code",
      "execution_count": null,
      "metadata": {
        "id": "RAqoM27aIHyq"
      },
      "outputs": [],
      "source": [
        "# Add other metrics (Minimum, Maximum, Modal) based on 6/9/2024 'Average Price' prediction\n",
        "# Note: Modal price prediction is simplistic and could be improved with a more robust method\n",
        "predictions_6_9_2024.loc['Maximum Price'] = predictions_6_9_2024.loc['Average Price'] * 1.1\n",
        "predictions_6_9_2024.loc['Minimum Price'] = predictions_6_9_2024.loc['Average Price'] * 0.9\n",
        "predictions_6_9_2024.loc['Modal Price']  = predictions_6_9_2024.loc['Average Price'].round()\n"
      ]
    },
    {
      "cell_type": "code",
      "execution_count": null,
      "metadata": {
        "colab": {
          "base_uri": "https://localhost:8080/"
        },
        "id": "Z3lNdgxFIHE-",
        "outputId": "d44ada5e-e011-4b03-82f2-e7f39c93e1b0"
      },
      "outputs": [
        {
          "name": "stdout",
          "output_type": "stream",
          "text": [
            "                          Rice      Wheat  Atta (Wheat)   Gram Dal\n",
            "Average Price        42.070450  30.300486     36.331097  89.694756\n",
            "Andaman and Nicobar   2.884440  -0.228601      0.208588   7.942561\n",
            "Andhra Pradesh       -2.836508  -0.052003      3.957927  17.775030\n",
            "Arunachal pradesh     2.117340   6.298947      9.317301  26.494530\n",
            "Assam                 9.241463  13.769223     16.490360  33.264790\n",
            "Bihar                13.237404  16.284227     19.961292  36.120132\n",
            "Chandigarh           11.239964  14.437267     17.722742  34.635422\n",
            "Chhattisgarh         10.253281  15.333385     17.676966  33.529385\n",
            "Delhi                13.657010  16.634432     21.279308  38.063431\n",
            "DNH and DD            1.486624   5.082497      8.166783  23.483097\n",
            "Goa                  -2.624865  -2.530104      1.694121  18.687302\n",
            "Gujarat              10.874998  15.337489     18.080055  34.714699\n",
            "Haryana              12.517679  15.924286     19.315996  35.260696\n",
            "Himachal Pradesh     13.845942  14.788275     21.217209  35.033936\n",
            "Jammu and Kashmir     9.194657  12.746031     15.547852  32.170998\n",
            "Jharkhand            12.357533  16.052145     19.441679  35.678288\n",
            "Karnataka             0.833738   1.257812      4.715310  23.160078\n",
            "Kerala                0.254055   2.272333      5.590413  23.521376\n",
            "Madhya Pradesh       13.566089  16.505495     20.755222  36.819092\n",
            "Maharashtra           2.873940   6.621409      9.501344  25.498520\n",
            "Manipur               4.519382   4.596173      7.575594  30.248936\n",
            "Meghalaya             7.185419  10.304436     13.354361  32.200768\n",
            "Mizoram              -1.367298   2.507385      6.094103  20.087297\n",
            "Nagaland             -4.280435   2.768306      6.815024  15.822508\n",
            "Odisha                5.923303  12.170323     14.321525  29.084307\n",
            "Puducherry            0.573121  -4.124036     -0.475795  22.796871\n",
            "Punjab               14.763247  16.593950     24.113062  38.588886\n",
            "Rajasthan            13.000734  16.226830     19.780388  36.749172\n",
            "Sikkim                7.542423   9.831346     12.961895  32.331455\n",
            "Tamil Nadu           -6.799003  -4.765252      0.694494  10.758931\n",
            "Telangana             0.150077   0.831841      4.571692  21.646862\n",
            "Tripura              11.995387   6.633483     13.540943  24.864889\n",
            "Uttar Pradesh        13.779106  16.266134     20.791431  37.012653\n",
            "Uttarakhand          12.835358  16.052643     19.553410  35.142857\n",
            "West Bengal          10.974174  14.297041     17.066708  33.140656\n",
            "Maximum Price        46.277496  33.330536     39.964207  98.664230\n",
            "Minimum Price        37.863403  27.270437     32.697987  80.725281\n",
            "Modal Price          42.000000  30.000000     36.000000  90.000000\n"
          ]
        }
      ],
      "source": [
        "# Display the predictions\n",
        "print(predictions_6_9_2024)\n"
      ]
    },
    {
      "cell_type": "code",
      "execution_count": null,
      "metadata": {
        "colab": {
          "base_uri": "https://localhost:8080/"
        },
        "id": "JpvE-oC1IHA2",
        "outputId": "6298fe3f-a17f-430e-8d9b-61ef55179483"
      },
      "outputs": [
        {
          "name": "stderr",
          "output_type": "stream",
          "text": [
            "WARNING:absl:You are saving your model as an HDF5 file via `model.save()` or `keras.saving.save_model(model)`. This file format is considered legacy. We recommend using instead the native Keras format, e.g. `model.save('my_model.keras')` or `keras.saving.save_model(model, 'my_model.keras')`. \n"
          ]
        }
      ],
      "source": [
        "model.save('crop_price_lstm_model.h5')"
      ]
    },
    {
      "cell_type": "code",
      "execution_count": null,
      "metadata": {
        "colab": {
          "base_uri": "https://localhost:8080/"
        },
        "id": "LPlo_ls5IG8K",
        "outputId": "e17a402a-892d-40d5-bb6d-abf4edc3f383"
      },
      "outputs": [
        {
          "name": "stderr",
          "output_type": "stream",
          "text": [
            "WARNING:absl:Compiled the loaded model, but the compiled metrics have yet to be built. `model.compile_metrics` will be empty until you train or evaluate the model.\n"
          ]
        }
      ],
      "source": [
        "model = tensorflow.keras.models.load_model('crop_price_lstm_model.h5')"
      ]
    },
    {
      "cell_type": "code",
      "execution_count": null,
      "metadata": {
        "id": "eb-nbvCiIG26"
      },
      "outputs": [],
      "source": []
    }
  ],
  "metadata": {
    "colab": {
      "provenance": []
    },
    "kernelspec": {
      "display_name": "Python 3",
      "name": "python3"
    },
    "language_info": {
      "name": "python",
      "version": "3.12.5"
    }
  },
  "nbformat": 4,
  "nbformat_minor": 0
}

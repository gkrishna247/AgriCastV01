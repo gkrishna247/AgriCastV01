{
 "cells": [
  {
   "cell_type": "code",
   "execution_count": 1,
   "metadata": {},
   "outputs": [],
   "source": [
    "import pandas as pd"
   ]
  },
  {
   "cell_type": "code",
   "execution_count": 2,
   "metadata": {},
   "outputs": [],
   "source": [
    "# function to work with csv\n",
    "def csv_extract(file):\n",
    "    # read csv file\n",
    "    df = pd.read_csv(file)\n",
    "    # filter out the columns state\n",
    "    df = df[df['States/UTs'] == 'Tamil Nadu']\n",
    "    # remove the columns state\n",
    "    df = df.drop(columns=['States/UTs'])\n",
    "    # merge the columns day and month and year to form a single date column\n",
    "    df['Date'] = pd.to_datetime(df[['Day', 'Month', 'Year']])\n",
    "    # drop the columns day, month and year\n",
    "    df = df.drop(columns=['Day', 'Month', 'Year'])\n",
    "    # convert to csv and save\n",
    "    nw_path = file.split('.')[0] + '_tn.csv'\n",
    "    df.to_csv(nw_path, index=False)\n",
    "    return nw_path\n",
    "\n"
   ]
  },
  {
   "cell_type": "code",
   "execution_count": 8,
   "metadata": {},
   "outputs": [],
   "source": [
    "# sort the csv file by date\n",
    "def sort_csv(file):\n",
    "    # read the csv file\n",
    "    df = pd.read_csv(file)\n",
    "    # sort the csv file by date\n",
    "    df = df.sort_values(by='Date')\n",
    "    # convert to csv and save to same file\n",
    "    df.to_csv(file, index=False)\n",
    "    return"
   ]
  },
  {
   "cell_type": "code",
   "execution_count": 24,
   "metadata": {},
   "outputs": [],
   "source": [
    "# check for missing dates\n",
    "def missing_dates(file):\n",
    "    # read the csv file\n",
    "    df = pd.read_csv(file)\n",
    "    # ensure the 'Date' column is in datetime format\n",
    "    df['Date'] = pd.to_datetime(df['Date'])\n",
    "    # get the first and last date\n",
    "    start_date = df['Date'].iloc[0]\n",
    "    end_date = df['Date'].iloc[-1]\n",
    "    # create a date range from the first to the last date\n",
    "    date_range = pd.date_range(start=start_date, end=end_date)\n",
    "    # get the missing dates\n",
    "    missing_dates = date_range[~date_range.isin(df['Date'])]\n",
    "    return missing_dates"
   ]
  },
  {
   "cell_type": "code",
   "execution_count": 12,
   "metadata": {},
   "outputs": [],
   "source": [
    "# define the file paths\n",
    "#file_list = ['data/cleansing/filled/data_r_mean_filled.csv', 'data/cleansing/filled/data_r_median_filled.csv', 'data/cleansing/filled/data_r_mode_filled.csv']\n",
    "# add _tn to the file name\n",
    "file_list = ['data/cleansing/filled/data_r_mean_filled_tn.csv', 'data/cleansing/filled/data_r_median_filled_tn.csv', 'data/cleansing/filled/data_r_mode_filled_tn.csv']\n",
    "\n"
   ]
  },
  {
   "cell_type": "code",
   "execution_count": 27,
   "metadata": {},
   "outputs": [
    {
     "name": "stdout",
     "output_type": "stream",
     "text": [
      "Missing dates in data/cleansing/filled/data_r_mean_filled_tn.csv: DatetimeIndex(['2016-09-16', '2016-12-06', '2017-01-20', '2017-04-25',\n",
      "               '2017-12-26', '2018-08-08', '2020-08-09', '2020-08-16',\n",
      "               '2020-08-23', '2020-08-30', '2021-05-06', '2021-05-24',\n",
      "               '2021-05-25', '2021-05-26', '2021-05-27', '2021-05-28',\n",
      "               '2021-05-29', '2021-05-30', '2021-05-31', '2021-06-01',\n",
      "               '2021-06-02', '2021-06-03', '2021-06-04', '2021-06-05',\n",
      "               '2021-06-06'],\n",
      "              dtype='datetime64[ns]', freq=None)\n",
      "Count of missing dates in data/cleansing/filled/data_r_mean_filled_tn.csv: 25\n",
      "Missing dates in data/cleansing/filled/data_r_median_filled_tn.csv: DatetimeIndex(['2016-09-16', '2016-12-06', '2017-01-20', '2017-04-25',\n",
      "               '2017-12-26', '2018-08-08', '2020-08-09', '2020-08-16',\n",
      "               '2020-08-23', '2020-08-30', '2021-05-06', '2021-05-24',\n",
      "               '2021-05-25', '2021-05-26', '2021-05-27', '2021-05-28',\n",
      "               '2021-05-29', '2021-05-30', '2021-05-31', '2021-06-01',\n",
      "               '2021-06-02', '2021-06-03', '2021-06-04', '2021-06-05',\n",
      "               '2021-06-06'],\n",
      "              dtype='datetime64[ns]', freq=None)\n",
      "Count of missing dates in data/cleansing/filled/data_r_median_filled_tn.csv: 25\n",
      "Missing dates in data/cleansing/filled/data_r_mode_filled_tn.csv: DatetimeIndex(['2016-09-16', '2016-12-06', '2017-01-20', '2017-04-25',\n",
      "               '2017-12-26', '2018-08-08', '2020-08-09', '2020-08-16',\n",
      "               '2020-08-23', '2020-08-30', '2021-05-06', '2021-05-24',\n",
      "               '2021-05-25', '2021-05-26', '2021-05-27', '2021-05-28',\n",
      "               '2021-05-29', '2021-05-30', '2021-05-31', '2021-06-01',\n",
      "               '2021-06-02', '2021-06-03', '2021-06-04', '2021-06-05',\n",
      "               '2021-06-06'],\n",
      "              dtype='datetime64[ns]', freq=None)\n",
      "Count of missing dates in data/cleansing/filled/data_r_mode_filled_tn.csv: 25\n"
     ]
    }
   ],
   "source": [
    "# print the missing dates in each file\n",
    "for file in file_list:\n",
    "    # save to list \n"
   ]
  },
  {
   "cell_type": "code",
   "execution_count": 26,
   "metadata": {},
   "outputs": [
    {
     "name": "stdout",
     "output_type": "stream",
     "text": [
      "DatetimeIndex(['2016-09-16', '2016-12-06', '2017-01-20', '2017-04-25',\n",
      "               '2017-12-26', '2018-08-08', '2020-08-09', '2020-08-16',\n",
      "               '2020-08-23', '2020-08-30', '2021-05-06', '2021-05-24',\n",
      "               '2021-05-25', '2021-05-26', '2021-05-27', '2021-05-28',\n",
      "               '2021-05-29', '2021-05-30', '2021-05-31', '2021-06-01',\n",
      "               '2021-06-02', '2021-06-03', '2021-06-04', '2021-06-05',\n",
      "               '2021-06-06'],\n",
      "              dtype='datetime64[ns]', freq=None)\n"
     ]
    }
   ],
   "source": [
    "print(resul)"
   ]
  },
  {
   "cell_type": "code",
   "execution_count": 11,
   "metadata": {},
   "outputs": [],
   "source": [
    "# loop through the file paths\n",
    "for file in file_list:\n",
    "    sort_csv(file)"
   ]
  },
  {
   "cell_type": "code",
   "execution_count": 22,
   "metadata": {},
   "outputs": [
    {
     "ename": "TypeError",
     "evalue": "'DatetimeIndex' object is not callable",
     "output_type": "error",
     "traceback": [
      "\u001b[1;31m---------------------------------------------------------------------------\u001b[0m",
      "\u001b[1;31mTypeError\u001b[0m                                 Traceback (most recent call last)",
      "Cell \u001b[1;32mIn[22], line 3\u001b[0m\n\u001b[0;32m      1\u001b[0m \u001b[38;5;66;03m# loop through the file paths\u001b[39;00m\n\u001b[0;32m      2\u001b[0m \u001b[38;5;28;01mfor\u001b[39;00m file \u001b[38;5;129;01min\u001b[39;00m file_list:\n\u001b[1;32m----> 3\u001b[0m     missing_date_list \u001b[38;5;241m=\u001b[39m \u001b[43mmissing_dates\u001b[49m\u001b[43m(\u001b[49m\u001b[43mfile\u001b[49m\u001b[43m)\u001b[49m\n",
      "\u001b[1;31mTypeError\u001b[0m: 'DatetimeIndex' object is not callable"
     ]
    }
   ],
   "source": [
    "# loop through the file paths\n",
    "for file in file_list:\n",
    "    missing_date_list = missing_dates(file)\n"
   ]
  },
  {
   "cell_type": "code",
   "execution_count": 5,
   "metadata": {},
   "outputs": [
    {
     "name": "stdout",
     "output_type": "stream",
     "text": [
      "d:\\WorkBench\\github\\Project\\AgriCastV01\n"
     ]
    }
   ],
   "source": [
    "# print cwd\n",
    "import os\n",
    "print(os.getcwd())"
   ]
  }
 ],
 "metadata": {
  "kernelspec": {
   "display_name": "Python 3",
   "language": "python",
   "name": "python3"
  },
  "language_info": {
   "codemirror_mode": {
    "name": "ipython",
    "version": 3
   },
   "file_extension": ".py",
   "mimetype": "text/x-python",
   "name": "python",
   "nbconvert_exporter": "python",
   "pygments_lexer": "ipython3",
   "version": "3.12.6"
  }
 },
 "nbformat": 4,
 "nbformat_minor": 2
}

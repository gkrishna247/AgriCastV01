{
 "cells": [
  {
   "cell_type": "code",
   "execution_count": 1,
   "metadata": {},
   "outputs": [],
   "source": [
    "import pandas as pd\n",
    "import numpy as np\n"
   ]
  },
  {
   "cell_type": "code",
   "execution_count": 2,
   "metadata": {},
   "outputs": [],
   "source": [
    "# function to work with csv\n",
    "def csv_extract(file):\n",
    "    # read csv file\n",
    "    df = pd.read_csv(file)\n",
    "    # filter out the columns state\n",
    "    df = df[df['States/UTs'] == 'Tamil Nadu']\n",
    "    # remove the columns state\n",
    "    df = df.drop(columns=['States/UTs'])\n",
    "    # merge the columns day and month and year to form a single date column\n",
    "    df['Date'] = pd.to_datetime(df[['Day', 'Month', 'Year']])\n",
    "    # drop the columns day, month and year\n",
    "    #df = df.drop(columns=['Day', 'Month', 'Year'])\n",
    "    # convert to csv and save\n",
    "    nw_path = file.split('.')[0] + '_tn.csv'\n",
    "    df.to_csv(nw_path, index=False)\n",
    "    return nw_path\n",
    "\n"
   ]
  },
  {
   "cell_type": "code",
   "execution_count": 114,
   "metadata": {},
   "outputs": [],
   "source": [
    "# sort the csv file by date\n",
    "def sort_csv(file):\n",
    "    # read the csv file\n",
    "    df = pd.read_csv(file)\n",
    "    # sort the csv file by date\n",
    "    df = df.sort_values(by='Date')\n",
    "    # convert to csv and save to same file\n",
    "    df.to_csv(file, index=False)\n",
    "    return"
   ]
  },
  {
   "cell_type": "code",
   "execution_count": 4,
   "metadata": {},
   "outputs": [],
   "source": [
    "# check for missing dates\n",
    "def missing_dates(file):\n",
    "    # read the csv file\n",
    "    df = pd.read_csv(file)\n",
    "    # ensure the 'Date' column is in datetime format\n",
    "    df['Date'] = pd.to_datetime(df['Date'])\n",
    "    # get the first and last date\n",
    "    start_date = df['Date'].iloc[0]\n",
    "    end_date = df['Date'].iloc[-1]\n",
    "    # create a date range from the first to the last date\n",
    "    date_range = pd.date_range(start=start_date, end=end_date)\n",
    "    # get the missing dates\n",
    "    missing_dates = date_range[~date_range.isin(df['Date'])]\n",
    "    return missing_dates"
   ]
  },
  {
   "cell_type": "code",
   "execution_count": 5,
   "metadata": {},
   "outputs": [],
   "source": [
    "# define the file paths\n",
    "file_list0 = ['data/cleansing/filled/data_r_mean_filled.csv', 'data/cleansing/filled/data_r_median_filled.csv', 'data/cleansing/filled/data_r_mode_filled.csv']\n",
    "# add _tn to the file name\n",
    "file_list = ['data/cleansing/filled/data_r_mean_filled_tn.csv', 'data/cleansing/filled/data_r_median_filled_tn.csv', 'data/cleansing/filled/data_r_mode_filled_tn.csv']\n",
    "file_list2 = ['data/cleansing/filled/data_r_mean_filled_tn_filled.csv', 'data/cleansing/filled/data_r_median_filled_tn_filled.csv', 'data/cleansing/filled/data_r_mode_filled_tn_filled.csv']\n"
   ]
  },
  {
   "cell_type": "code",
   "execution_count": 116,
   "metadata": {},
   "outputs": [],
   "source": [
    "# print the missing dates in each file\n",
    "for file in file_list0:\n",
    "    csv_extract(file)"
   ]
  },
  {
   "cell_type": "code",
   "execution_count": null,
   "metadata": {},
   "outputs": [],
   "source": [
    "print(resul)"
   ]
  },
  {
   "cell_type": "code",
   "execution_count": 117,
   "metadata": {},
   "outputs": [],
   "source": [
    "# loop through the file paths\n",
    "for file in file_list:\n",
    "    sort_csv(file)"
   ]
  },
  {
   "cell_type": "code",
   "execution_count": 118,
   "metadata": {},
   "outputs": [],
   "source": [
    "# loop through the file paths\n",
    "missing_date_list=[]\n",
    "for file in file_list:\n",
    "    missing_date_list.append(missing_dates(file))\n"
   ]
  },
  {
   "cell_type": "code",
   "execution_count": 119,
   "metadata": {},
   "outputs": [],
   "source": [
    "# loop through the file paths\n",
    "missing_date_list2=[]\n",
    "for file in file_list2:\n",
    "    missing_date_list2.append(missing_dates(file))"
   ]
  },
  {
   "cell_type": "code",
   "execution_count": 120,
   "metadata": {},
   "outputs": [
    {
     "name": "stdout",
     "output_type": "stream",
     "text": [
      "[DatetimeIndex(['2016-09-16', '2016-12-06', '2017-01-20', '2017-04-25',\n",
      "               '2017-12-26', '2018-08-08', '2020-08-09', '2020-08-16',\n",
      "               '2020-08-23', '2020-08-30', '2021-05-06', '2021-05-24',\n",
      "               '2021-05-25', '2021-05-26', '2021-05-27', '2021-05-28',\n",
      "               '2021-05-29', '2021-05-30', '2021-05-31', '2021-06-01',\n",
      "               '2021-06-02', '2021-06-03', '2021-06-04', '2021-06-05',\n",
      "               '2021-06-06'],\n",
      "              dtype='datetime64[ns]', freq=None), DatetimeIndex(['2016-09-16', '2016-12-06', '2017-01-20', '2017-04-25',\n",
      "               '2017-12-26', '2018-08-08', '2020-08-09', '2020-08-16',\n",
      "               '2020-08-23', '2020-08-30', '2021-05-06', '2021-05-24',\n",
      "               '2021-05-25', '2021-05-26', '2021-05-27', '2021-05-28',\n",
      "               '2021-05-29', '2021-05-30', '2021-05-31', '2021-06-01',\n",
      "               '2021-06-02', '2021-06-03', '2021-06-04', '2021-06-05',\n",
      "               '2021-06-06'],\n",
      "              dtype='datetime64[ns]', freq=None), DatetimeIndex(['2016-09-16', '2016-12-06', '2017-01-20', '2017-04-25',\n",
      "               '2017-12-26', '2018-08-08', '2020-08-09', '2020-08-16',\n",
      "               '2020-08-23', '2020-08-30', '2021-05-06', '2021-05-24',\n",
      "               '2021-05-25', '2021-05-26', '2021-05-27', '2021-05-28',\n",
      "               '2021-05-29', '2021-05-30', '2021-05-31', '2021-06-01',\n",
      "               '2021-06-02', '2021-06-03', '2021-06-04', '2021-06-05',\n",
      "               '2021-06-06'],\n",
      "              dtype='datetime64[ns]', freq=None)]\n"
     ]
    }
   ],
   "source": [
    "print(missing_date_list)"
   ]
  },
  {
   "cell_type": "code",
   "execution_count": 121,
   "metadata": {},
   "outputs": [
    {
     "name": "stdout",
     "output_type": "stream",
     "text": [
      "[DatetimeIndex([], dtype='datetime64[ns]', freq='D'), DatetimeIndex([], dtype='datetime64[ns]', freq='D'), DatetimeIndex([], dtype='datetime64[ns]', freq='D')]\n"
     ]
    }
   ],
   "source": [
    "print(missing_date_list2)"
   ]
  },
  {
   "cell_type": "code",
   "execution_count": 126,
   "metadata": {},
   "outputs": [],
   "source": [
    "# code to fill the missing dates\n",
    "def fill_missing(file):\n",
    "    # read the csv file\n",
    "    data = pd.read_csv(file)\n",
    "    res_df = pd.DataFrame()\n",
    "    m_dates= missing_dates(file)\n",
    "    for m_date in m_dates:\n",
    "        temp = data[(data[\"Month\"] == m_date.month) &\n",
    "                    (data[\"Year\"] == m_date.year)]\n",
    "        fdata = {}\n",
    "        for c in temp.columns:\n",
    "            if ((temp[c].dtype == 'int64' or temp[c].dtype == 'float64') and (c!='Day')):\n",
    "                fdata[c] = temp[c].mean()\n",
    "            elif (c=='Day'):\n",
    "                fdata[c]=m_date.day\n",
    "            elif (c=='Date'):\n",
    "                fdata[c]=np.datetime64(m_date.__format__('%Y-%m-%d'))\n",
    "            else:\n",
    "                fdata[c]= temp[c].mean()\n",
    "        temp_df = pd.DataFrame(fdata.values())\n",
    "        # change dimension of temp_df\n",
    "        temp_df = temp_df.T\n",
    "        res_df=pd.concat([res_df,temp_df],ignore_index=True)\n",
    "    # print the shape of 2 dataframes\n",
    "    print(\"Original data shape: \",data.shape)\n",
    "    print(\"Filled data shape: \",res_df.shape)\n",
    "    # contvert to list of rows in 2 dataframes and concatenate and convert to dataframe\n",
    "    res_df.columns = data.columns\n",
    "    data = pd.concat([data,res_df],ignore_index=True)\n",
    "    # convert to csv and save to new file\n",
    "    nw_path = file.split('.')[0] + '_filled.csv'\n",
    "    data.to_csv(nw_path, index=False)\n",
    "    \n",
    "    return\n",
    "        \n",
    "    "
   ]
  },
  {
   "cell_type": "code",
   "execution_count": 104,
   "metadata": {},
   "outputs": [
    {
     "ename": "NameError",
     "evalue": "name 'temp' is not defined",
     "output_type": "error",
     "traceback": [
      "\u001b[1;31m---------------------------------------------------------------------------\u001b[0m",
      "\u001b[1;31mNameError\u001b[0m                                 Traceback (most recent call last)",
      "Cell \u001b[1;32mIn[104], line 1\u001b[0m\n\u001b[1;32m----> 1\u001b[0m \u001b[38;5;28mprint\u001b[39m(\u001b[43mtemp\u001b[49m)\n",
      "\u001b[1;31mNameError\u001b[0m: name 'temp' is not defined"
     ]
    }
   ],
   "source": []
  },
  {
   "cell_type": "code",
   "execution_count": 127,
   "metadata": {},
   "outputs": [
    {
     "name": "stdout",
     "output_type": "stream",
     "text": [
      "Original data shape:  (3146, 26)\n",
      "Filled data shape:  (25, 26)\n",
      "Original data shape:  (3146, 26)\n",
      "Filled data shape:  (25, 26)\n",
      "Original data shape:  (3146, 26)\n",
      "Filled data shape:  (25, 26)\n"
     ]
    }
   ],
   "source": [
    "# loop through the file paths\n",
    "for file in file_list:\n",
    "    fill_missing(file)"
   ]
  },
  {
   "cell_type": "code",
   "execution_count": 128,
   "metadata": {},
   "outputs": [
    {
     "name": "stdout",
     "output_type": "stream",
     "text": [
      "(3171, 26)\n",
      "(3171, 26)\n",
      "(3171, 26)\n"
     ]
    }
   ],
   "source": [
    "for file in file_list2:\n",
    "    # display shape of the data\n",
    "    data = pd.read_csv(file)\n",
    "    print(data.shape)"
   ]
  },
  {
   "cell_type": "code",
   "execution_count": 129,
   "metadata": {},
   "outputs": [],
   "source": [
    "# loop through the file paths\n",
    "for file in file_list2:\n",
    "    sort_csv(file)"
   ]
  },
  {
   "cell_type": "code",
   "execution_count": 131,
   "metadata": {},
   "outputs": [],
   "source": [
    "# rename the files in file_list2\n",
    "import os\n",
    "for i in file_list2:\n",
    "    # if file name contain the name mean then rename to mean_filled.csv\n",
    "    if 'mean' in i:\n",
    "        os.rename(i, 'data/cleansing/filled/mean_filled.csv')\n",
    "    # if file name contain the name median then rename to median_filled.csv\n",
    "    elif 'median' in i:\n",
    "        os.rename(i, 'data/cleansing/filled/median_filled.csv')\n",
    "    # if file name contain the name mode then rename to mode_filled.csv\n",
    "    elif 'mode' in i:\n",
    "        os.rename(i, 'data/cleansing/filled/mode_filled.csv')"
   ]
  },
  {
   "cell_type": "code",
   "execution_count": null,
   "metadata": {},
   "outputs": [],
   "source": [
    "# print cwd\n",
    "import os\n",
    "print(os.getcwd())\n",
    "print(res_df)"
   ]
  }
 ],
 "metadata": {
  "kernelspec": {
   "display_name": "Python 3",
   "language": "python",
   "name": "python3"
  },
  "language_info": {
   "codemirror_mode": {
    "name": "ipython",
    "version": 3
   },
   "file_extension": ".py",
   "mimetype": "text/x-python",
   "name": "python",
   "nbconvert_exporter": "python",
   "pygments_lexer": "ipython3",
   "version": "3.12.6"
  }
 },
 "nbformat": 4,
 "nbformat_minor": 2
}

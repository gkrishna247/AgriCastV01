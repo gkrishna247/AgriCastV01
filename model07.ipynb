{
 "cells": [
  {
   "cell_type": "code",
   "execution_count": null,
   "metadata": {},
   "outputs": [],
   "source": []
  },
  {
   "cell_type": "code",
   "execution_count": null,
   "metadata": {},
   "outputs": [],
   "source": [
    "import numpy as np\n",
    "import pandas as pd\n",
    "from sklearn.preprocessing import MinMaxScaler\n",
    "from keras.models import Sequential\n",
    "from keras.layers import LSTM, Dense\n"
   ]
  },
  {
   "cell_type": "code",
   "execution_count": 8,
   "metadata": {},
   "outputs": [],
   "source": [
    "# select the data\n",
    "def select_data(data, start=2016, end=2024, columns=None):\n",
    "    # convert the data to a pandas dataframe\n",
    "    data['Date'] = pd.to_datetime(data['Date'])\n",
    "    # create a mask for the data\n",
    "    mask = (data['Date'].dt.year >= start) & (data['Date'].dt.year <= end)\n",
    "    # select the data\n",
    "    data = data.loc[mask]\n",
    "    if columns is not None:\n",
    "        data = data[columns]\n",
    "    else:\n",
    "        # drop the date column\n",
    "        data = data.drop(columns='Date')\n",
    "    return data"
   ]
  },
  {
   "cell_type": "code",
   "execution_count": null,
   "metadata": {},
   "outputs": [],
   "source": [
    "def prepare_dataset(dataset, look_back=1):\n",
    "    X, Y = [], []\n",
    "    for i in range(len(dataset) - look_back):\n",
    "        a = dataset[i:(i + look_back), :]\n",
    "        X.append(a)\n",
    "        Y.append(dataset[i + look_back, :])\n",
    "    return np.array(X), np.array(Y)"
   ]
  },
  {
   "cell_type": "code",
   "execution_count": null,
   "metadata": {},
   "outputs": [],
   "source": [
    "def create_scaler(dataset):\n",
    "    scaler = MinMaxScaler(feature_range=(0, 1))\n",
    "    dataset = scaler.fit_transform(dataset)\n",
    "    return scaler, dataset \n",
    "def to_scalar(scaler, data):\n",
    "    return scaler.transform(data)"
   ]
  },
  {
   "cell_type": "code",
   "execution_count": null,
   "metadata": {},
   "outputs": [],
   "source": [
    "def create_model(dataset, look_back=1, epochs=100, batch_size=1, verbose=1):\n",
    "    X, Y = prepare_dataset(dataset, look_back)\n",
    "    X = np.reshape(X, (X.shape[0], X.shape[1], X.shape[2]))\n",
    "    Y = np.reshape(Y, (Y.shape[0], Y.shape[1]))\n",
    "    \n",
    "    model = Sequential()\n",
    "    model.add(LSTM(units=50, return_sequences=True, input_shape=(X.shape[1], X.shape[2])))\n",
    "    #model.add(Dropout(0.2))\n",
    "    model.add(LSTM(units=50))\n",
    "    model.add(Dense(X.shape[2]))  # Assuming single feature for simplicity\n",
    "    model.compile(optimizer='adam', loss='mean_squared_error')\n",
    "    model.fit(X, Y, epochs=epochs, batch_size=batch_size, verbose=verbose)\n",
    "    \n",
    "    return model"
   ]
  },
  {
   "cell_type": "code",
   "execution_count": 9,
   "metadata": {},
   "outputs": [],
   "source": [
    "# declare the path of the data\n",
    "path_to_data = r\"data\\cleansing\\filled\\mean_filled.csv\"\n",
    "\n",
    "# load the data\n",
    "# import pandas as pd\n",
    "data = pd.read_csv(path_to_data)\n",
    "\n",
    "col=['Rice', 'Wheat', 'Atta (Wheat)', 'Gram Dal', 'Tur/Arhar Dal']\n",
    "\n",
    "# select the desired data\n",
    "req_data = select_data(data=data, start=2023, end=2024, columns=col)"
   ]
  },
  {
   "cell_type": "code",
   "execution_count": null,
   "metadata": {},
   "outputs": [],
   "source": [
    "# split the data into training and testing\n",
    "train_size = int(len(req_data) * 0.80)\n",
    "test_size = len(req_data) - train_size\n",
    "train, test = req_data[0:train_size], req_data[train_size:len(req_data)]"
   ]
  },
  {
   "cell_type": "code",
   "execution_count": null,
   "metadata": {},
   "outputs": [],
   "source": [
    "# scale the data\n",
    "scaler, train_scaler = create_scaler(train) # scaled_data is a numpy array"
   ]
  },
  {
   "cell_type": "code",
   "execution_count": null,
   "metadata": {},
   "outputs": [],
   "source": [
    "# create the model\n",
    "myModel = create_model(train_scaler, look_back=1, epochs=100, batch_size=1, verbose=0)"
   ]
  },
  {
   "cell_type": "code",
   "execution_count": null,
   "metadata": {},
   "outputs": [],
   "source": [
    "# prepare test data\n",
    "# convert to scaler\n",
    "test_scalar = scaler.transform(test)\n",
    "# split features and outcome\n",
    "x_test, y_test = prepare_dataset(test)"
   ]
  },
  {
   "cell_type": "code",
   "execution_count": null,
   "metadata": {},
   "outputs": [],
   "source": [
    "# predict the results\n",
    "x_pred_scaler = myModel.predict\n",
    "y_pred_scaler = myModel.predict(x_test)\n",
    "# inverse the scaler\n",
    "x_pred = scaler.inverse_transform(x_pred_scaler)\n",
    "y_pred = scaler.inverse_transform(y_pred_scaler)"
   ]
  },
  {
   "cell_type": "code",
   "execution_count": null,
   "metadata": {},
   "outputs": [],
   "source": [
    "def create_input_data(model, scaler, dataset, date, look_back=1):\n",
    "    # date format: 'yyyy-mm-dd'\n",
    "    scaled_data = scaler.transform(dataset)\n",
    "\n",
    "    dataset['Date'] = pd.to_datetime(dataset['Date'])\n",
    "\n",
    "    # find the start and end date of dataset\n",
    "    start_date = dataset['Date'].min()\n",
    "    end_date = dataset['Date'].max()\n",
    "\n",
    "    # chect if the date is in the dataset\n",
    "\n",
    "    # chect if the date is within the range of the dataset\n",
    "    if pd.to_datetime(date) <= end_date:\n",
    "        # take the last look_back days\n",
    "        to_date = pd.to_datetime(date)\n",
    "        from_date = to_date - pd.DateOffset(days=look_back-1)\n",
    "        mask = (dataset['Date'] >= from_date) & (dataset['Date'] <= to_date)\n",
    "        input_data = dataset.loc[mask]\n",
    "        input_data = input_data.drop(columns='Date')\n",
    "        input_data = scaler.transform(input_data)\n",
    "        X = []\n",
    "        for i in range(len(input_data) - look_back):\n",
    "            a = input_data[i:(i + look_back), :]\n",
    "            X.append(a)\n",
    "        X = np.array(X)\n",
    "        return X\n",
    "    else:\n",
    "        # take the last look_back days\n",
    "        req_to_date = pd.to_datetime(date)\n",
    "        #req_from_date = req_to_date - pd.DateOffset(days=look_back-1)\n",
    "        to_date = end_date\n",
    "        from_date = to_date - pd.DateOffset(days=look_back-1)\n",
    "        mask = (dataset['Date'] >= from_date) & (dataset['Date'] <= to_date)\n",
    "        input_data = dataset.loc[mask]\n",
    "        input_data = input_data.drop(columns='Date')\n",
    "        input_data = scaler.transform(input_data)\n",
    "        # calculate the number of days to predict\n",
    "        days_to_predict = (req_to_date - to_date).days\n",
    "        for i in range(days_to_predict):\n",
    "            X = []\n",
    "            for i in range(len(input_data) - look_back):\n",
    "                a = input_data[i:(i + look_back), :]\n",
    "                X.append(a)\n",
    "            X = np.array(X)\n",
    "            y_pred = model.predict(X)\n",
    "            input_data = np.append(input_data, y_pred, axis=0)\n",
    "            input_data = input_data[1:]\n",
    "        return input_data"
   ]
  },
  {
   "cell_type": "code",
   "execution_count": null,
   "metadata": {},
   "outputs": [],
   "source": [
    "'''    X = []\n",
    "    for i in range(len(dataset)-look_back):\n",
    "        a = dataset[i:(i+look_back), :]\n",
    "        X.append(a)\n",
    "    return np.array(X) '''"
   ]
  },
  {
   "cell_type": "code",
   "execution_count": 7,
   "metadata": {},
   "outputs": [
    {
     "name": "stdout",
     "output_type": "stream",
     "text": [
      "Index(['Date', 'Rice', 'Wheat', 'Atta (Wheat)', 'Gram Dal', 'Tur/Arhar Dal',\n",
      "       'Urad Dal', 'Moong Dal', 'Masoor Dal', 'Sugar', 'Milk @',\n",
      "       'Groundnut Oil (Packed)', 'Mustard Oil (Packed)', 'Vanaspati (Packed)',\n",
      "       'Soya Oil (Packed)', 'Sunflower Oil (Packed)', 'Palm Oil (Packed)',\n",
      "       'Gur', 'Tea Loose', 'Salt Pack (Iodised)', 'Potato', 'Onion', 'Tomato'],\n",
      "      dtype='object')\n"
     ]
    }
   ],
   "source": [
    "d = pd.read_csv(path_to_data)\n",
    "print(d.columns)"
   ]
  },
  {
   "cell_type": "code",
   "execution_count": 13,
   "metadata": {},
   "outputs": [
    {
     "name": "stdout",
     "output_type": "stream",
     "text": [
      "0       2016-01-01\n",
      "1       2016-01-02\n",
      "2       2016-01-03\n",
      "3       2016-01-04\n",
      "4       2016-01-05\n",
      "           ...    \n",
      "3166    2024-09-01\n",
      "3167    2024-09-02\n",
      "3168    2024-09-03\n",
      "3169    2024-09-04\n",
      "3170    2024-09-05\n",
      "Name: Date, Length: 3171, dtype: object\n"
     ]
    }
   ],
   "source": [
    "print(d['Date'])"
   ]
  },
  {
   "cell_type": "code",
   "execution_count": null,
   "metadata": {},
   "outputs": [],
   "source": []
  }
 ],
 "metadata": {
  "kernelspec": {
   "display_name": "Python 3",
   "language": "python",
   "name": "python3"
  },
  "language_info": {
   "codemirror_mode": {
    "name": "ipython",
    "version": 3
   },
   "file_extension": ".py",
   "mimetype": "text/x-python",
   "name": "python",
   "nbconvert_exporter": "python",
   "pygments_lexer": "ipython3",
   "version": "3.12.6"
  }
 },
 "nbformat": 4,
 "nbformat_minor": 2
}

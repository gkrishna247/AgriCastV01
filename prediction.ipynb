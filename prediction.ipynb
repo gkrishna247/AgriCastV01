{
 "cells": [
  {
   "cell_type": "code",
   "execution_count": null,
   "metadata": {},
   "outputs": [],
   "source": [
    "# File for print the prediction from the model"
   ]
  },
  {
   "cell_type": "code",
   "execution_count": 5,
   "metadata": {},
   "outputs": [],
   "source": [
    "# importing libraries\n",
    "import pandas as pd\n",
    "import tensorflow as tf\n",
    "from sklearn.preprocessing import MinMaxScaler\n",
    "import numpy as np"
   ]
  },
  {
   "cell_type": "code",
   "execution_count": 2,
   "metadata": {},
   "outputs": [],
   "source": [
    "# Load the model\n",
    "model = tf.keras.models.load_model('model.keras')"
   ]
  },
  {
   "cell_type": "code",
   "execution_count": 3,
   "metadata": {},
   "outputs": [],
   "source": [
    "# Load the data from the CSV file\n",
    "df = pd.read_csv(r\"data\\cleansing\\filled\\data.csv\")"
   ]
  },
  {
   "cell_type": "code",
   "execution_count": 4,
   "metadata": {},
   "outputs": [],
   "source": [
    "# Select the crops for prediction\n",
    "crops = [\"Rice\", \"Wheat\", \"Atta (Wheat)\", \"Gram Dal\", \"Tur/Arhar Dal\", \"Urad Dal\", \"Moong Dal\", \"Masoor Dal\", \"Sugar\", \"Milk @\", \"Groundnut Oil (Packed)\", \"Mustard Oil (Packed)\", \"Vanaspati (Packed)\", \"Soya Oil (Packed)\", \"Sunflower Oil (Packed)\", \"Palm Oil (Packed)\", \"Gur\", \"Tea Loose\", \"Salt Pack (Iodised)\", \"Potato\", \"Onion\", \"Tomato\"]"
   ]
  },
  {
   "cell_type": "code",
   "execution_count": 8,
   "metadata": {},
   "outputs": [],
   "source": [
    "look_back=7\n",
    "# Scale the data to be between 0 and 1\n",
    "scaler = MinMaxScaler(feature_range=(0, 1))\n",
    "\n",
    "data = df[crops].values\n",
    "scaled_data = scaler.fit_transform(data)\n",
    "last_week_data = df[crops].iloc[-7:].values \n",
    "scaled_last_week = scaler.transform(last_week_data) \n",
    "reshaped_last_week = np.reshape(scaled_last_week, (1, look_back, len(crops))) "
   ]
  },
  {
   "cell_type": "code",
   "execution_count": 9,
   "metadata": {},
   "outputs": [
    {
     "name": "stdout",
     "output_type": "stream",
     "text": [
      "\u001b[1m1/1\u001b[0m \u001b[32m━━━━━━━━━━━━━━━━━━━━\u001b[0m\u001b[37m\u001b[0m \u001b[1m0s\u001b[0m 253ms/step\n"
     ]
    }
   ],
   "source": [
    "# Predict\n",
    "prediction_scaled = model.predict(reshaped_last_week)\n",
    "prediction = scaler.inverse_transform(prediction_scaled)"
   ]
  },
  {
   "cell_type": "code",
   "execution_count": 10,
   "metadata": {},
   "outputs": [],
   "source": [
    "# Create DataFrame for 6/9/2024 predictions\n",
    "predictions_6_9_2024 = pd.DataFrame(data=prediction, columns=crops)"
   ]
  },
  {
   "cell_type": "code",
   "execution_count": null,
   "metadata": {},
   "outputs": [],
   "source": [
    "predictions_6_9_2024"
   ]
  },
  {
   "cell_type": "code",
   "execution_count": null,
   "metadata": {},
   "outputs": [],
   "source": [
    "# Create a dictionary to store the last known data for each state\n",
    "last_known_data = {}\n",
    "for state in df['States/UTs'].unique():\n",
    "    last_known_data[state] = df[df['States/UTs'] == state].iloc[-1][crops].values"
   ]
  },
  {
   "cell_type": "code",
   "execution_count": null,
   "metadata": {},
   "outputs": [],
   "source": [
    "# Predict for all states using the last known data\n",
    "for state, state_data in last_known_data.items():\n",
    "    scaled_state_data = scaler.transform(state_data.reshape(1,-1))\n",
    "    reshaped_state_data = np.reshape(scaled_state_data, (1, 1, len(crops)))\n",
    "\n",
    "    state_prediction_scaled = model.predict(reshaped_state_data)\n",
    "    state_prediction = scaler.inverse_transform(state_prediction_scaled)\n",
    "\n",
    "    predictions_6_9_2024.loc[state] = state_prediction[0]"
   ]
  }
 ],
 "metadata": {
  "kernelspec": {
   "display_name": "Python 3",
   "language": "python",
   "name": "python3"
  },
  "language_info": {
   "codemirror_mode": {
    "name": "ipython",
    "version": 3
   },
   "file_extension": ".py",
   "mimetype": "text/x-python",
   "name": "python",
   "nbconvert_exporter": "python",
   "pygments_lexer": "ipython3",
   "version": "3.12.6"
  }
 },
 "nbformat": 4,
 "nbformat_minor": 2
}

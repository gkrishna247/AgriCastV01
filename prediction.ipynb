{
 "cells": [
  {
   "cell_type": "code",
   "execution_count": null,
   "metadata": {},
   "outputs": [],
   "source": [
    "import "
   ]
  },
  {
   "cell_type": "code",
   "execution_count": null,
   "metadata": {},
   "outputs": [],
   "source": [
    "# Load the data from the CSV file\n",
    "df = pd.read_csv(r\"data\\cleansing\\filled\\data_r_mean_filled.csv\")\n",
    "\n",
    "# Filter the data for dates after 2023\n",
    "df = df[df[\"Year\"] >2023]\n",
    "\n",
    "crops = [\"Rice\", \"Wheat\", \"Atta (Wheat)\", \"Gram Dal\", \"Tur/Arhar Dal\", \"Urad Dal\", \"Moong Dal\", \"Masoor Dal\", \"Sugar\", \"Milk @\", \"Groundnut Oil (Packed)\", \"Mustard Oil (Packed)\", \"Vanaspati (Packed)\", \"Soya Oil (Packed)\", \"Sunflower Oil (Packed)\", \"Palm Oil (Packed)\", \"Gur\", \"Tea Loose\", \"Salt Pack (Iodised)\", \"Potato\", \"Onion\", \"Tomato\"]\n"
   ]
  },
  {
   "cell_type": "code",
   "execution_count": null,
   "metadata": {},
   "outputs": [],
   "source": [
    "# Create a dictionary to store the last known data for each state\n",
    "last_known_data = {}\n",
    "for state in df['States/UTs'].unique():\n",
    "    last_known_data[state] = df[df['States/UTs'] == state].iloc[-1][crops].values"
   ]
  },
  {
   "cell_type": "code",
   "execution_count": null,
   "metadata": {},
   "outputs": [],
   "source": [
    "# Set look_back period (number of previous days to consider)\n",
    "look_back = 7"
   ]
  },
  {
   "cell_type": "code",
   "execution_count": null,
   "metadata": {},
   "outputs": [],
   "source": [
    "# Convert date columns to a datetime object\n",
    "df['Date'] = pd.to_datetime(df[['Day', 'Month', 'Year']])\n",
    "df.set_index('Date', inplace=True)"
   ]
  },
  {
   "cell_type": "code",
   "execution_count": null,
   "metadata": {},
   "outputs": [],
   "source": [
    "# Load the scaler\n",
    "scaler = joblib.load('scaler.pkl')"
   ]
  },
  {
   "cell_type": "code",
   "execution_count": null,
   "metadata": {},
   "outputs": [],
   "source": [
    "# Make prediction for 6/9/2024\n",
    "# First, prepare the input data for 6/9/2024 prediction\n",
    "last_week_data = df[crops].iloc[-look_back:].values\n",
    "scaled_last_week = scaler.transform(last_week_data)\n",
    "reshaped_last_week = np.reshape(scaled_last_week, (1, look_back, len(crops)))"
   ]
  },
  {
   "cell_type": "code",
   "execution_count": null,
   "metadata": {},
   "outputs": [],
   "source": [
    "# Load the model\n",
    "model = tensorflow.keras.models.load_model('model.keras')"
   ]
  },
  {
   "cell_type": "code",
   "execution_count": null,
   "metadata": {},
   "outputs": [],
   "source": [
    "# Predict\n",
    "prediction_scaled = model.predict(reshaped_last_week)\n",
    "prediction = scaler.inverse_transform(prediction_scaled)"
   ]
  },
  {
   "cell_type": "code",
   "execution_count": null,
   "metadata": {},
   "outputs": [],
   "source": [
    "# Create DataFrame for 6/9/2024 predictions\n",
    "predictions_6_9_2024 = pd.DataFrame(data=prediction, columns=crops, index=['Average Price'])"
   ]
  },
  {
   "cell_type": "code",
   "execution_count": null,
   "metadata": {},
   "outputs": [],
   "source": [
    "# Predict for all states using the last known data\n",
    "for state, state_data in last_known_data.items():\n",
    "    scaled_state_data = scaler.transform(state_data.reshape(1,-1))\n",
    "    reshaped_state_data = np.reshape(scaled_state_data, (1, 1, len(crops)))\n",
    "\n",
    "    state_prediction_scaled = model.predict(reshaped_state_data)\n",
    "    state_prediction = scaler.inverse_transform(state_prediction_scaled)\n",
    "\n",
    "    predictions_6_9_2024.loc[state] = state_prediction[0]"
   ]
  },
  {
   "cell_type": "code",
   "execution_count": null,
   "metadata": {},
   "outputs": [],
   "source": [
    "# Add other metrics (Minimum, Maximum, Modal) based on 6/9/2024 'Average Price' prediction\n",
    "# Note: Modal price prediction is simplistic and could be improved with a more robust method\n",
    "predictions_6_9_2024.loc['Maximum Price'] = predictions_6_9_2024.loc['Average Price'] * 1.1\n",
    "predictions_6_9_2024.loc['Minimum Price'] = predictions_6_9_2024.loc['Average Price'] * 0.9\n",
    "predictions_6_9_2024.loc['Modal Price']  = predictions_6_9_2024.loc['Average Price'].round()"
   ]
  },
  {
   "cell_type": "code",
   "execution_count": null,
   "metadata": {},
   "outputs": [],
   "source": [
    "# save the predictions to a CSV file\n",
    "predictions_6_9_2024.to_csv('predictions_6_9_2024.csv')"
   ]
  }
 ],
 "metadata": {
  "kernelspec": {
   "display_name": "Python 3",
   "language": "python",
   "name": "python3"
  },
  "language_info": {
   "codemirror_mode": {
    "name": "ipython",
    "version": 3
   },
   "file_extension": ".py",
   "mimetype": "text/x-python",
   "name": "python",
   "nbconvert_exporter": "python",
   "pygments_lexer": "ipython3",
   "version": "3.12.6"
  }
 },
 "nbformat": 4,
 "nbformat_minor": 2
}

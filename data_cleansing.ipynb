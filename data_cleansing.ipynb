{
 "cells": [
  {
   "cell_type": "code",
   "execution_count": null,
   "metadata": {},
   "outputs": [],
   "source": [
    "#The program for perform data cleaning and data preprocessing\n",
    "'''data columns are: Index(['Day', 'Month', 'Year', 'States/UTs', 'Rice', 'Wheat', 'Atta (Wheat)',\n",
    "       'Gram Dal', 'Tur/Arhar Dal', 'Urad Dal', 'Moong Dal', 'Masoor Dal',\n",
    "       'Sugar', 'Milk @', 'Groundnut Oil (Packed)', 'Mustard Oil (Packed)',\n",
    "       'Vanaspati (Packed)', 'Soya Oil (Packed)', 'Sunflower Oil (Packed)',\n",
    "       'Palm Oil (Packed)', 'Gur', 'Tea Loose', 'Salt Pack (Iodised)',\n",
    "       'Potato', 'Onion', 'Tomato'],\n",
    "      dtype='object')'''"
   ]
  },
  {
   "cell_type": "code",
   "execution_count": 2,
   "metadata": {},
   "outputs": [],
   "source": [
    "#first check for missing values\n",
    "import pandas as pd\n",
    "import numpy as np\n"
   ]
  },
  {
   "cell_type": "code",
   "execution_count": 3,
   "metadata": {},
   "outputs": [],
   "source": [
    "\n",
    "def fill_missing_with_stat(data_path, stat_path, dtf):\n",
    "    data = pd.read_csv(data_path)\n",
    "    stat = pd.read_csv(stat_path)\n",
    "    dest_path = data_path.split('.')[0] + '_' + dtf + '_filled.csv'\n",
    "    dest_df = pd.DataFrame()  # Initialize an empty DataFrame\n",
    "    days = data[['Day', 'Month', 'Year']].drop_duplicates().reset_index(drop=True)\n",
    "\n",
    "    for i in range(days.shape[0]):\n",
    "        temp = data[(data['Day'] == days['Day'][i]) &\n",
    "                    (data['Month'] == days['Month'][i]) &\n",
    "                    (data['Year'] == days['Year'][i])]\n",
    "        stat_temp = stat[(stat['Day'] == days['Day'][i]) &\n",
    "                        (stat['Month'] == days['Month'][i]) &\n",
    "                        (stat['Year'] == days['Year'][i]) &\n",
    "                        (stat['States/UTs'] == dtf)]\n",
    "        \n",
    "        for j in temp.columns:\n",
    "            # Fill the missing values\n",
    "            temp[j] = temp[j].fillna(stat_temp[j].values[0])\n",
    "\n",
    "        # Append the filled data for the current day to dest_df\n",
    "        dest_df = pd.concat([dest_df, temp], ignore_index=True)\n",
    "\n",
    "    # Save the filled DataFrame to the CSV file\n",
    "    dest_df.to_csv(dest_path, index=False) "
   ]
  },
  {
   "cell_type": "code",
   "execution_count": 4,
   "metadata": {},
   "outputs": [],
   "source": [
    "# defining the path of the csv files\n",
    "path_r='data/cleansing/data_r.csv'\n",
    "path_w='data/cleansing/data_w.csv'\n",
    "stat_path_r='data/cleansing/stat_r.csv'\n",
    "stat_path_w='data/cleansing/stat_w.csv'\n"
   ]
  },
  {
   "cell_type": "code",
   "execution_count": null,
   "metadata": {},
   "outputs": [],
   "source": [
    "# print the count of missing values\n",
    "data_r = pd.read_csv(path_r)\n",
    "data_w = pd.read_csv(path_w)\n",
    "\n",
    "print('Missing values in data_r.csv:')\n",
    "print(data_r.isnull().sum())\n",
    "print('\\nMissing values in data_w.csv:')\n",
    "print(data_w.isnull().sum())"
   ]
  },
  {
   "cell_type": "code",
   "execution_count": null,
   "metadata": {},
   "outputs": [],
   "source": [
    "# function call to fill the missing values\n",
    "stats=['mean','median','mode']\n",
    "for i in stats:\n",
    "    fill_missing_with_stat(path_r, stat_path_r, i)\n",
    "    fill_missing_with_stat(path_w, stat_path_w, i)\n",
    "    print(f'Missing values filled with {i} statistics')\n"
   ]
  },
  {
   "cell_type": "code",
   "execution_count": 11,
   "metadata": {},
   "outputs": [],
   "source": [
    "#check for missing values with the filled data write output in text file\n",
    "for i in stats:\n",
    "    data_r = pd.read_csv(path_r.split('.')[0] + '_' + i + '_filled.csv')\n",
    "    data_w = pd.read_csv(path_w.split('.')[0] + '_' + i + '_filled.csv')\n",
    "\n",
    "    with open('data/cleansing/missing_values.txt', 'a') as f:\n",
    "        # Write the number of rows and columns in the each csv file\n",
    "        f.write(f\"Number of rows and columns in data_r_{i}_filled.csv:\\n\")\n",
    "        f.write(f\"{data_r.shape}\\n\\n\")\n",
    "        f.write(f\"Missing values in data_r_{i}_filled.csv:\\n\")\n",
    "        f.write(f\"{data_r.isnull().sum()}\\n\\n\")\n",
    "\n",
    "        f.write(f\"Number of rows and columns in data_w_{i}_filled.csv:\\n\")\n",
    "        f.write(f\"{data_w.shape}\\n\\n\")\n",
    "        f.write(f\"Missing values in data_w_{i}_filled.csv:\\n\")\n",
    "        f.write(f\"{data_w.isnull().sum()}\\n\\n\")\n",
    "        f.write('\\n\\n')"
   ]
  }
 ],
 "metadata": {
  "kernelspec": {
   "display_name": "Python 3",
   "language": "python",
   "name": "python3"
  },
  "language_info": {
   "codemirror_mode": {
    "name": "ipython",
    "version": 3
   },
   "file_extension": ".py",
   "mimetype": "text/x-python",
   "name": "python",
   "nbconvert_exporter": "python",
   "pygments_lexer": "ipython3",
   "version": "3.12.5"
  }
 },
 "nbformat": 4,
 "nbformat_minor": 2
}

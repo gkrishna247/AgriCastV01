{
 "cells": [
  {
   "cell_type": "code",
   "execution_count": 1,
   "metadata": {},
   "outputs": [],
   "source": [
    "#The program for perform data cleaning and data preprocessing"
   ]
  },
  {
   "cell_type": "code",
   "execution_count": 3,
   "metadata": {},
   "outputs": [],
   "source": [
    "#first check for missing values\n",
    "import pandas as pd\n",
    "import numpy as np\n",
    "import matplotlib.pyplot as plt\n",
    "import seaborn as sns\n",
    "from sklearn.impute import SimpleImputer\n",
    "from sklearn.preprocessing import LabelEncoder\n",
    "from sklearn.preprocessing import OneHotEncoder\n",
    "from sklearn.preprocessing import StandardScaler"
   ]
  },
  {
   "cell_type": "code",
   "execution_count": 4,
   "metadata": {},
   "outputs": [],
   "source": [
    "#load the dataset\n",
    "path_to_data_r = 'data/cleansing/data_r.csv'\n",
    "path_to_data_W = 'data/cleansing/data_W.csv'\n",
    "data_r = pd.read_csv(path_to_data_r)\n",
    "data_W = pd.read_csv(path_to_data_W)"
   ]
  },
  {
   "cell_type": "code",
   "execution_count": 6,
   "metadata": {},
   "outputs": [
    {
     "name": "stdout",
     "output_type": "stream",
     "text": [
      "Missing values in data_r\n",
      "Day                           0\n",
      "Month                         0\n",
      "Year                          0\n",
      "States/UTs                    0\n",
      "Rice                         92\n",
      "Wheat                      8386\n",
      "Atta (Wheat)                137\n",
      "Gram Dal                    878\n",
      "Tur/Arhar Dal              1869\n",
      "Urad Dal                   1066\n",
      "Moong Dal                   432\n",
      "Masoor Dal                  194\n",
      "Sugar                       539\n",
      "Milk @                     1233\n",
      "Groundnut Oil (Packed)    17953\n",
      "Mustard Oil (Packed)       1313\n",
      "Vanaspati (Packed)         2260\n",
      "Soya Oil (Packed)         10529\n",
      "Sunflower Oil (Packed)     4229\n",
      "Palm Oil (Packed)         14698\n",
      "Gur                        1911\n",
      "Tea Loose                  1377\n",
      "Salt Pack (Iodised)         543\n",
      "Potato                      456\n",
      "Onion                       512\n",
      "Tomato                      848\n",
      "dtype: int64\n"
     ]
    }
   ],
   "source": [
    "#check for missing values\n",
    "print(\"Missing values in data_r\")\n",
    "print(data_r.isnull().sum())"
   ]
  },
  {
   "cell_type": "code",
   "execution_count": 7,
   "metadata": {},
   "outputs": [
    {
     "name": "stdout",
     "output_type": "stream",
     "text": [
      "Missing values in data_W\n",
      "Day                           0\n",
      "Month                         0\n",
      "Year                          0\n",
      "States/UTs                    0\n",
      "Rice                        148\n",
      "Wheat                      8324\n",
      "Atta (Wheat)                142\n",
      "Gram Dal                    977\n",
      "Tur/Arhar Dal              1980\n",
      "Urad Dal                   1280\n",
      "Moong Dal                   545\n",
      "Masoor Dal                  341\n",
      "Sugar                       172\n",
      "Milk @                    18684\n",
      "Groundnut Oil (Packed)    19717\n",
      "Mustard Oil (Packed)       5253\n",
      "Vanaspati (Packed)         2330\n",
      "Soya Oil (Packed)         14583\n",
      "Sunflower Oil (Packed)     6933\n",
      "Palm Oil (Packed)         14745\n",
      "Gur                        2029\n",
      "Tea Loose                  9528\n",
      "Salt Pack (Iodised)         624\n",
      "Potato                      310\n",
      "Onion                       386\n",
      "Tomato                     1370\n",
      "dtype: int64\n"
     ]
    }
   ],
   "source": [
    "print(\"Missing values in data_W\")\n",
    "print(data_W.isnull().sum())"
   ]
  },
  {
   "cell_type": "code",
   "execution_count": 13,
   "metadata": {},
   "outputs": [
    {
     "name": "stdout",
     "output_type": "stream",
     "text": [
      "90.0\n"
     ]
    }
   ],
   "source": [
    "np.set_printoptions(threshold=np.inf) \n",
    "np_array_r = data_r.values\n",
    "print(np_array_r[2][9])"
   ]
  },
  {
   "cell_type": "code",
   "execution_count": 10,
   "metadata": {},
   "outputs": [
    {
     "name": "stdout",
     "output_type": "stream",
     "text": [
      "nan\n"
     ]
    }
   ],
   "source": [
    "#filling missing values as the mean of the rate at particular day\n"
   ]
  },
  {
   "cell_type": "code",
   "execution_count": null,
   "metadata": {},
   "outputs": [],
   "source": []
  }
 ],
 "metadata": {
  "kernelspec": {
   "display_name": "Python 3",
   "language": "python",
   "name": "python3"
  },
  "language_info": {
   "codemirror_mode": {
    "name": "ipython",
    "version": 3
   },
   "file_extension": ".py",
   "mimetype": "text/x-python",
   "name": "python",
   "nbconvert_exporter": "python",
   "pygments_lexer": "ipython3",
   "version": "3.12.5"
  }
 },
 "nbformat": 4,
 "nbformat_minor": 2
}

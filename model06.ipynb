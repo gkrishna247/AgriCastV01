{
 "cells": [
  {
   "cell_type": "code",
   "execution_count": null,
   "metadata": {},
   "outputs": [],
   "source": []
  },
  {
   "cell_type": "code",
   "execution_count": 1,
   "metadata": {},
   "outputs": [],
   "source": [
    "import numpy as np\n",
    "def create_sequence(dataset, look_back=1):\n",
    "    X, Y = [], []\n",
    "    for i in range(len(dataset) - look_back):\n",
    "        a = dataset[i:(i + look_back), :]\n",
    "        X.append(a)\n",
    "        Y.append(dataset[i + look_back, :])\n",
    "    return np.array(X), np.array(Y)"
   ]
  },
  {
   "cell_type": "code",
   "execution_count": 2,
   "metadata": {},
   "outputs": [],
   "source": [
    "import numpy as np\n",
    "import pandas as pd\n",
    "# select the data\n",
    "def select_data(data, start=2016, end=2024, columns=None):\n",
    "    # convert the data to a pandas dataframe\n",
    "    data['Date'] = pd.to_datetime(data['Date'])\n",
    "    # create a mask for the data\n",
    "    if columns is None:\n",
    "        mask = (data['Date'].dt.year >= start) & (data['Date'].dt.year<= end)\n",
    "    else:\n",
    "        mask = (data['Date'].dt.year >= start) & (data['Date'].dt.year<= end) & (data.columns.isin(columns))\n",
    "    # select the data\n",
    "    data = data.loc[mask]\n",
    "    # drop the date column\n",
    "    data = data.drop(columns='Date')\n",
    "    return data"
   ]
  },
  {
   "cell_type": "code",
   "execution_count": 3,
   "metadata": {},
   "outputs": [],
   "source": [
    "from sklearn.preprocessing import MinMaxScaler\n",
    "def create_scaler(dataset):\n",
    "    scaler = MinMaxScaler(feature_range=(0, 1))\n",
    "    dataset = scaler.fit_transform(dataset)\n",
    "    return scaler, dataset "
   ]
  },
  {
   "cell_type": "code",
   "execution_count": 4,
   "metadata": {},
   "outputs": [],
   "source": [
    "from keras.models import Sequential\n",
    "from keras.layers import LSTM, Dense, Dropout\n",
    "\n",
    "def create_model(dataset, look_back=1, epochs=100, batch_size=1, verbose=1):\n",
    "    X, Y = create_sequence(dataset, look_back)\n",
    "    X = np.reshape(X, (X.shape[0], X.shape[1], X.shape[2]))\n",
    "    Y = np.reshape(Y, (Y.shape[0], Y.shape[1]))\n",
    "    \n",
    "    model = Sequential()\n",
    "    model.add(LSTM(units=50, return_sequences=True, input_shape=(X.shape[1], X.shape[2])))\n",
    "    #model.add(Dropout(0.2))\n",
    "    model.add(LSTM(units=50))\n",
    "    model.add(Dense(X.shape[2]))  # Assuming single feature for simplicity\n",
    "    model.compile(optimizer='adam', loss='mean_squared_error')\n",
    "    model.fit(X, Y, epochs=epochs, batch_size=batch_size, verbose=verbose)\n",
    "    \n",
    "    return model"
   ]
  },
  {
   "cell_type": "code",
   "execution_count": 13,
   "metadata": {},
   "outputs": [],
   "source": [
    "def create_input_data(dataset, look_back=1):\n",
    "    X = []\n",
    "    for i in range(len(dataset)-look_back):\n",
    "        a = dataset[i:(i+look_back), :]\n",
    "        X.append(a)\n",
    "    return np.array(X)"
   ]
  },
  {
   "cell_type": "code",
   "execution_count": null,
   "metadata": {},
   "outputs": [],
   "source": [
    "# declare the path of the data\n",
    "path_to_data = r\"data\\cleansing\\filled\\mean_filled.csv\"\n",
    "\n",
    "# load the data\n",
    "# import pandas as pd\n",
    "data = pd.read_csv(path_to_data)\n",
    "\n",
    "col=['Rice', 'Wheat', 'Atta (Wheat)', 'Gram Dal', 'Tur/Arhar Dal']\n",
    "\n",
    "# select the desired data\n",
    "req_data = select_data(data=data, start=2023, end=2024, columns=col)"
   ]
  },
  {
   "cell_type": "code",
   "execution_count": 18,
   "metadata": {},
   "outputs": [],
   "source": [
    "# scale the data\n",
    "scaler, scaled_data = create_scaler(req_data) # scaled_data is a numpy array"
   ]
  },
  {
   "cell_type": "code",
   "execution_count": 19,
   "metadata": {},
   "outputs": [],
   "source": [
    "# split the data into training and testing\n",
    "train_size = int(len(scaled_data) * 0.80)\n",
    "test_size = len(scaled_data) - train_size\n",
    "train, test = scaled_data[0:train_size], scaled_data[train_size:len(scaled_data)]"
   ]
  },
  {
   "cell_type": "code",
   "execution_count": 46,
   "metadata": {},
   "outputs": [
    {
     "name": "stdout",
     "output_type": "stream",
     "text": [
      "Train data:  [[0.1095994  0.         0.16772655 0.07953773 0.082198   0.24369017\n",
      "  0.10357328 0.79029605 0.11842105 0.05114401 0.86484137 0.84504897\n",
      "  0.79324604 0.91534991 0.98012471 0.94967287 0.57212318 0.07519313\n",
      "  0.78494624 0.5524101  0.21608247 0.03897331]\n",
      " [0.1095994  0.         0.16772655 0.08701564 0.08552831 0.25645489\n",
      "  0.1325738  0.79029605 0.11842105 0.05114401 0.86484137 0.84504897\n",
      "  0.79324604 1.         0.98012471 0.96074484 0.55429498 0.07519313\n",
      "  0.78494624 0.59908187 0.22969072 0.04511456]\n",
      " [0.1095994  0.05601318 0.15023847 0.08701564 0.082198   0.26283725\n",
      "  0.12066287 0.79029605 0.11842105 0.05114401 0.89873968 0.85854189\n",
      "  0.78566506 0.92179034 0.99532346 0.96074484 0.51863857 0.07519313\n",
      "  0.78494624 0.60788064 0.22969072 0.0591292 ]\n",
      " [0.1095994  0.05601318 0.15023847 0.09109449 0.07372086 0.24688135\n",
      "  0.10926981 0.74424342 0.11842105 0.05114401 0.89873968 0.85854189\n",
      "  0.78566506 0.9887673  0.99103663 0.96074484 0.49918963 0.07519313\n",
      "  0.78494624 0.54820199 0.2228866  0.06345957]\n",
      " [0.1095994  0.07413509 0.16772655 0.11352821 0.07705117 0.25326371\n",
      "  0.10357328 0.74424342 0.11842105 0.05114401 0.81660148 0.8531012\n",
      "  0.79324604 0.98259991 0.98655495 0.97232008 0.55429498 0.07519313\n",
      "  0.78494624 0.53557766 0.21608247 0.0625935 ]]\n"
     ]
    }
   ],
   "source": [
    "# print with index\n",
    "print(\"Train data: \", train[:5])"
   ]
  },
  {
   "cell_type": "code",
   "execution_count": 20,
   "metadata": {},
   "outputs": [
    {
     "name": "stderr",
     "output_type": "stream",
     "text": [
      "c:\\Users\\krish\\AppData\\Local\\Programs\\Python\\Python312\\Lib\\site-packages\\keras\\src\\layers\\rnn\\rnn.py:204: UserWarning: Do not pass an `input_shape`/`input_dim` argument to a layer. When using Sequential models, prefer using an `Input(shape)` object as the first layer in the model instead.\n",
      "  super().__init__(**kwargs)\n"
     ]
    }
   ],
   "source": [
    "# create the model\n",
    "model = create_model(train, look_back=1, epochs=100, batch_size=1, verbose=0)"
   ]
  },
  {
   "cell_type": "code",
   "execution_count": 7,
   "metadata": {},
   "outputs": [
    {
     "name": "stdout",
     "output_type": "stream",
     "text": [
      "       Rice  Wheat  Atta (Wheat)  Gram Dal  Tur/Arhar Dal  Urad Dal  \\\n",
      "2557  51.33  40.22         48.78     73.22         122.56    122.78   \n",
      "2558  51.33  40.22         48.78     73.44         122.78    123.22   \n",
      "2559  51.33  40.56         48.56     73.44         122.56    123.44   \n",
      "2560  51.33  40.56         48.56     73.56         122.00    122.89   \n",
      "2561  51.33  40.67         48.78     74.22         122.22    123.11   \n",
      "...     ...    ...           ...       ...            ...       ...   \n",
      "3166  56.12  44.88         52.88     99.76         172.82    137.65   \n",
      "3167  57.31  45.73         54.06     99.75         173.53    139.00   \n",
      "3168  57.53  45.80         54.75     99.88         172.23    138.19   \n",
      "3169  57.29  45.79         55.19     99.48         172.30    138.90   \n",
      "3170  57.47  45.64         53.77    100.30         173.54    139.57   \n",
      "\n",
      "      Moong Dal  Masoor Dal  Sugar  Milk @  ...  Vanaspati (Packed)  \\\n",
      "2557     109.00       97.67  39.22   42.00  ...              132.11   \n",
      "2558     109.56       97.67  39.22   42.00  ...              132.11   \n",
      "2559     109.33       97.67  39.22   42.00  ...              132.00   \n",
      "2560     109.11       97.11  39.22   42.00  ...              132.00   \n",
      "2561     109.00       97.11  39.22   42.00  ...              132.11   \n",
      "...         ...         ...    ...     ...  ...                 ...   \n",
      "3166     120.76       89.47  44.18   48.29  ...              126.29   \n",
      "3167     122.47       92.17  44.28   47.31  ...              126.69   \n",
      "3168     121.97       91.96  44.22   47.53  ...              126.38   \n",
      "3169     122.03       92.26  44.19   47.16  ...              127.16   \n",
      "3170     122.27       92.41  44.20   47.30  ...              127.37   \n",
      "\n",
      "      Soya Oil (Packed)  Sunflower Oil (Packed)  Palm Oil (Packed)    Gur  \\\n",
      "2557         158.189565                  162.11             107.11  54.89   \n",
      "2558         162.183667                  162.11             107.33  54.78   \n",
      "2559         158.493448                  162.89             107.33  54.56   \n",
      "2560         161.653667                  162.67             107.33  54.44   \n",
      "2561         161.362667                  162.44             107.56  54.78   \n",
      "...                 ...                     ...                ...    ...   \n",
      "3166         120.706538                  115.82              95.59  57.53   \n",
      "3167         125.605161                  116.00              95.78  57.19   \n",
      "3168         125.397419                  116.06              95.91  57.34   \n",
      "3169         125.459032                  116.16              95.97  56.84   \n",
      "3170         125.307419                  116.40              96.73  57.53   \n",
      "\n",
      "      Tea Loose  Salt Pack (Iodised)  Potato  Onion  Tomato  \n",
      "2557     276.13                25.11   39.11  31.78   19.33  \n",
      "2558     276.13                25.11   40.33  32.44   20.11  \n",
      "2559     276.13                25.11   40.56  32.44   21.89  \n",
      "2560     276.13                25.11   39.00  32.11   22.44  \n",
      "2561     276.13                25.11   38.67  31.78   22.33  \n",
      "...         ...                  ...     ...    ...     ...  \n",
      "3166     286.23                24.41   49.00  53.47   23.76  \n",
      "3167     283.88                24.16   48.97  53.84   23.94  \n",
      "3168     283.96                24.19   48.88  54.41   24.53  \n",
      "3169     287.13                24.07   49.32  55.45   26.58  \n",
      "3170     284.17                24.55   49.90  56.00   27.13  \n",
      "\n",
      "[614 rows x 22 columns]\n"
     ]
    }
   ],
   "source": [
    "print(req_data)"
   ]
  },
  {
   "cell_type": "code",
   "execution_count": 8,
   "metadata": {},
   "outputs": [
    {
     "name": "stdout",
     "output_type": "stream",
     "text": [
      "[['Day1_Prod1' 'Day1_Prod2' 'Day1_Prod3' 'Day1_Prod4']\n",
      " ['Day2_Prod1' 'Day2_Prod2' 'Day2_Prod3' 'Day2_Prod4']\n",
      " ['Day3_Prod1' 'Day3_Prod2' 'Day3_Prod3' 'Day3_Prod4']\n",
      " ['Day4_Prod1' 'Day4_Prod2' 'Day4_Prod3' 'Day4_Prod4']\n",
      " ['Day5_Prod1' 'Day5_Prod2' 'Day5_Prod3' 'Day5_Prod4']\n",
      " ['Day6_Prod1' 'Day6_Prod2' 'Day6_Prod3' 'Day6_Prod4']\n",
      " ['Day7_Prod1' 'Day7_Prod2' 'Day7_Prod3' 'Day7_Prod4']\n",
      " ['Day8_Prod1' 'Day8_Prod2' 'Day8_Prod3' 'Day8_Prod4']\n",
      " ['Day9_Prod1' 'Day9_Prod2' 'Day9_Prod3' 'Day9_Prod4']\n",
      " ['Day10_Prod1' 'Day10_Prod2' 'Day10_Prod3' 'Day10_Prod4']\n",
      " ['Day11_Prod1' 'Day11_Prod2' 'Day11_Prod3' 'Day11_Prod4']\n",
      " ['Day12_Prod1' 'Day12_Prod2' 'Day12_Prod3' 'Day12_Prod4']\n",
      " ['Day13_Prod1' 'Day13_Prod2' 'Day13_Prod3' 'Day13_Prod4']\n",
      " ['Day14_Prod1' 'Day14_Prod2' 'Day14_Prod3' 'Day14_Prod4']\n",
      " ['Day15_Prod1' 'Day15_Prod2' 'Day15_Prod3' 'Day15_Prod4']\n",
      " ['Day16_Prod1' 'Day16_Prod2' 'Day16_Prod3' 'Day16_Prod4']\n",
      " ['Day17_Prod1' 'Day17_Prod2' 'Day17_Prod3' 'Day17_Prod4']\n",
      " ['Day18_Prod1' 'Day18_Prod2' 'Day18_Prod3' 'Day18_Prod4']\n",
      " ['Day19_Prod1' 'Day19_Prod2' 'Day19_Prod3' 'Day19_Prod4']\n",
      " ['Day20_Prod1' 'Day20_Prod2' 'Day20_Prod3' 'Day20_Prod4']\n",
      " ['Day21_Prod1' 'Day21_Prod2' 'Day21_Prod3' 'Day21_Prod4']\n",
      " ['Day22_Prod1' 'Day22_Prod2' 'Day22_Prod3' 'Day22_Prod4']\n",
      " ['Day23_Prod1' 'Day23_Prod2' 'Day23_Prod3' 'Day23_Prod4']\n",
      " ['Day24_Prod1' 'Day24_Prod2' 'Day24_Prod3' 'Day24_Prod4']\n",
      " ['Day25_Prod1' 'Day25_Prod2' 'Day25_Prod3' 'Day25_Prod4']]\n"
     ]
    }
   ],
   "source": [
    "# create tthe matrix 15x4 values are in format (c+1)_(r+1)\n",
    "data = np.array([['Day'+str(j+1)+'_Prod'+str(i+1) for i in range(4)] for j in range(25)])\n",
    "print(data)"
   ]
  },
  {
   "cell_type": "code",
   "execution_count": 23,
   "metadata": {},
   "outputs": [],
   "source": [
    "# prepare the input data from the matrix\n",
    "input_data = create_input_data(data, look_back=1)"
   ]
  },
  {
   "cell_type": "code",
   "execution_count": 15,
   "metadata": {},
   "outputs": [
    {
     "name": "stdout",
     "output_type": "stream",
     "text": [
      "[[['Day1_Prod1' 'Day1_Prod2' 'Day1_Prod3' 'Day1_Prod4']]\n",
      "\n",
      " [['Day2_Prod1' 'Day2_Prod2' 'Day2_Prod3' 'Day2_Prod4']]\n",
      "\n",
      " [['Day3_Prod1' 'Day3_Prod2' 'Day3_Prod3' 'Day3_Prod4']]\n",
      "\n",
      " [['Day4_Prod1' 'Day4_Prod2' 'Day4_Prod3' 'Day4_Prod4']]\n",
      "\n",
      " [['Day5_Prod1' 'Day5_Prod2' 'Day5_Prod3' 'Day5_Prod4']]\n",
      "\n",
      " [['Day6_Prod1' 'Day6_Prod2' 'Day6_Prod3' 'Day6_Prod4']]\n",
      "\n",
      " [['Day7_Prod1' 'Day7_Prod2' 'Day7_Prod3' 'Day7_Prod4']]\n",
      "\n",
      " [['Day8_Prod1' 'Day8_Prod2' 'Day8_Prod3' 'Day8_Prod4']]\n",
      "\n",
      " [['Day9_Prod1' 'Day9_Prod2' 'Day9_Prod3' 'Day9_Prod4']]\n",
      "\n",
      " [['Day10_Prod1' 'Day10_Prod2' 'Day10_Prod3' 'Day10_Prod4']]\n",
      "\n",
      " [['Day11_Prod1' 'Day11_Prod2' 'Day11_Prod3' 'Day11_Prod4']]\n",
      "\n",
      " [['Day12_Prod1' 'Day12_Prod2' 'Day12_Prod3' 'Day12_Prod4']]\n",
      "\n",
      " [['Day13_Prod1' 'Day13_Prod2' 'Day13_Prod3' 'Day13_Prod4']]\n",
      "\n",
      " [['Day14_Prod1' 'Day14_Prod2' 'Day14_Prod3' 'Day14_Prod4']]\n",
      "\n",
      " [['Day15_Prod1' 'Day15_Prod2' 'Day15_Prod3' 'Day15_Prod4']]\n",
      "\n",
      " [['Day16_Prod1' 'Day16_Prod2' 'Day16_Prod3' 'Day16_Prod4']]\n",
      "\n",
      " [['Day17_Prod1' 'Day17_Prod2' 'Day17_Prod3' 'Day17_Prod4']]\n",
      "\n",
      " [['Day18_Prod1' 'Day18_Prod2' 'Day18_Prod3' 'Day18_Prod4']]\n",
      "\n",
      " [['Day19_Prod1' 'Day19_Prod2' 'Day19_Prod3' 'Day19_Prod4']]\n",
      "\n",
      " [['Day20_Prod1' 'Day20_Prod2' 'Day20_Prod3' 'Day20_Prod4']]\n",
      "\n",
      " [['Day21_Prod1' 'Day21_Prod2' 'Day21_Prod3' 'Day21_Prod4']]\n",
      "\n",
      " [['Day22_Prod1' 'Day22_Prod2' 'Day22_Prod3' 'Day22_Prod4']]\n",
      "\n",
      " [['Day23_Prod1' 'Day23_Prod2' 'Day23_Prod3' 'Day23_Prod4']]\n",
      "\n",
      " [['Day24_Prod1' 'Day24_Prod2' 'Day24_Prod3' 'Day24_Prod4']]]\n"
     ]
    }
   ],
   "source": [
    "print(input_data)"
   ]
  },
  {
   "cell_type": "code",
   "execution_count": 16,
   "metadata": {},
   "outputs": [
    {
     "name": "stdout",
     "output_type": "stream",
     "text": [
      "(24, 1, 4)\n"
     ]
    }
   ],
   "source": [
    "print(input_data.shape)"
   ]
  },
  {
   "cell_type": "code",
   "execution_count": 17,
   "metadata": {},
   "outputs": [
    {
     "name": "stdout",
     "output_type": "stream",
     "text": [
      "[['Day24_Prod1' 'Day24_Prod2' 'Day24_Prod3' 'Day24_Prod4']]\n"
     ]
    }
   ],
   "source": [
    "print(input_data[-1])"
   ]
  },
  {
   "cell_type": "code",
   "execution_count": 21,
   "metadata": {},
   "outputs": [
    {
     "name": "stdout",
     "output_type": "stream",
     "text": [
      "       Rice  Wheat  Atta (Wheat)  Gram Dal  Tur/Arhar Dal  Urad Dal  \\\n",
      "2557  51.33  40.22         48.78     73.22         122.56    122.78   \n",
      "2558  51.33  40.22         48.78     73.44         122.78    123.22   \n",
      "2559  51.33  40.56         48.56     73.44         122.56    123.44   \n",
      "2560  51.33  40.56         48.56     73.56         122.00    122.89   \n",
      "2561  51.33  40.67         48.78     74.22         122.22    123.11   \n",
      "...     ...    ...           ...       ...            ...       ...   \n",
      "3166  56.12  44.88         52.88     99.76         172.82    137.65   \n",
      "3167  57.31  45.73         54.06     99.75         173.53    139.00   \n",
      "3168  57.53  45.80         54.75     99.88         172.23    138.19   \n",
      "3169  57.29  45.79         55.19     99.48         172.30    138.90   \n",
      "3170  57.47  45.64         53.77    100.30         173.54    139.57   \n",
      "\n",
      "      Moong Dal  Masoor Dal  Sugar  Milk @  ...  Vanaspati (Packed)  \\\n",
      "2557     109.00       97.67  39.22   42.00  ...              132.11   \n",
      "2558     109.56       97.67  39.22   42.00  ...              132.11   \n",
      "2559     109.33       97.67  39.22   42.00  ...              132.00   \n",
      "2560     109.11       97.11  39.22   42.00  ...              132.00   \n",
      "2561     109.00       97.11  39.22   42.00  ...              132.11   \n",
      "...         ...         ...    ...     ...  ...                 ...   \n",
      "3166     120.76       89.47  44.18   48.29  ...              126.29   \n",
      "3167     122.47       92.17  44.28   47.31  ...              126.69   \n",
      "3168     121.97       91.96  44.22   47.53  ...              126.38   \n",
      "3169     122.03       92.26  44.19   47.16  ...              127.16   \n",
      "3170     122.27       92.41  44.20   47.30  ...              127.37   \n",
      "\n",
      "      Soya Oil (Packed)  Sunflower Oil (Packed)  Palm Oil (Packed)    Gur  \\\n",
      "2557         158.189565                  162.11             107.11  54.89   \n",
      "2558         162.183667                  162.11             107.33  54.78   \n",
      "2559         158.493448                  162.89             107.33  54.56   \n",
      "2560         161.653667                  162.67             107.33  54.44   \n",
      "2561         161.362667                  162.44             107.56  54.78   \n",
      "...                 ...                     ...                ...    ...   \n",
      "3166         120.706538                  115.82              95.59  57.53   \n",
      "3167         125.605161                  116.00              95.78  57.19   \n",
      "3168         125.397419                  116.06              95.91  57.34   \n",
      "3169         125.459032                  116.16              95.97  56.84   \n",
      "3170         125.307419                  116.40              96.73  57.53   \n",
      "\n",
      "      Tea Loose  Salt Pack (Iodised)  Potato  Onion  Tomato  \n",
      "2557     276.13                25.11   39.11  31.78   19.33  \n",
      "2558     276.13                25.11   40.33  32.44   20.11  \n",
      "2559     276.13                25.11   40.56  32.44   21.89  \n",
      "2560     276.13                25.11   39.00  32.11   22.44  \n",
      "2561     276.13                25.11   38.67  31.78   22.33  \n",
      "...         ...                  ...     ...    ...     ...  \n",
      "3166     286.23                24.41   49.00  53.47   23.76  \n",
      "3167     283.88                24.16   48.97  53.84   23.94  \n",
      "3168     283.96                24.19   48.88  54.41   24.53  \n",
      "3169     287.13                24.07   49.32  55.45   26.58  \n",
      "3170     284.17                24.55   49.90  56.00   27.13  \n",
      "\n",
      "[614 rows x 22 columns]\n"
     ]
    }
   ],
   "source": [
    "print(req_data)"
   ]
  },
  {
   "cell_type": "code",
   "execution_count": 30,
   "metadata": {},
   "outputs": [
    {
     "name": "stdout",
     "output_type": "stream",
     "text": [
      "(614, 22)\n"
     ]
    }
   ],
   "source": [
    "print(req_data.shape)"
   ]
  },
  {
   "cell_type": "code",
   "execution_count": 40,
   "metadata": {},
   "outputs": [],
   "source": [
    "scaled_ip_data = scaler.transform(req_data)"
   ]
  },
  {
   "cell_type": "code",
   "execution_count": 41,
   "metadata": {},
   "outputs": [],
   "source": [
    "input_data = create_input_data(scaled_ip_data, look_back=7)"
   ]
  },
  {
   "cell_type": "code",
   "execution_count": 42,
   "metadata": {},
   "outputs": [
    {
     "name": "stdout",
     "output_type": "stream",
     "text": [
      "(607, 7, 22)\n"
     ]
    }
   ],
   "source": [
    "print(input_data.shape)"
   ]
  },
  {
   "cell_type": "code",
   "execution_count": 43,
   "metadata": {},
   "outputs": [
    {
     "name": "stdout",
     "output_type": "stream",
     "text": [
      "\u001b[1m19/19\u001b[0m \u001b[32m━━━━━━━━━━━━━━━━━━━━\u001b[0m\u001b[37m\u001b[0m \u001b[1m0s\u001b[0m 2ms/step  \n",
      "(607, 22)\n",
      "[[ 0.21919188 -0.53827083  0.03508896 ...  1.6033721   0.7826519\n",
      "  -0.22738485]\n",
      " [ 0.20783804 -0.53578055  0.03879111 ...  1.6075978   0.78898066\n",
      "  -0.24597494]\n",
      " [ 0.19769655 -0.5330399   0.03630382 ...  1.6101698   0.7849747\n",
      "  -0.24017982]\n",
      " ...\n",
      " [ 1.319038    0.9217061   1.2518442  ...  2.186325    1.1293279\n",
      "   1.1522313 ]\n",
      " [ 1.3270621   0.92843     1.2591865  ...  2.1863961   1.1384778\n",
      "   1.1329012 ]\n",
      " [ 1.3345884   0.9418945   1.2605067  ...  2.1845975   1.1286178\n",
      "   1.1075441 ]]\n"
     ]
    }
   ],
   "source": [
    "pred=model.predict(input_data) \n",
    "print(pred.shape)\n",
    "print(pred)"
   ]
  },
  {
   "cell_type": "code",
   "execution_count": 44,
   "metadata": {},
   "outputs": [
    {
     "name": "stdout",
     "output_type": "stream",
     "text": [
      "[[ 52.779907  36.952698  47.111416 ...  66.582146  59.258617 -14.50015 ]\n",
      " [ 52.629696  36.96781   47.15799  ...  66.69261   59.565563 -16.861279]\n",
      " [ 52.495525  36.984447  47.1267   ...  66.759834  59.371273 -16.12524 ]\n",
      " ...\n",
      " [ 67.33087   45.814754  62.418198 ...  81.82054   76.0724   160.7249  ]\n",
      " [ 67.437035  45.855568  62.510563 ...  81.822395  76.516174 158.26978 ]\n",
      " [ 67.5366    45.937298  62.527176 ...  81.77538   76.037964 155.04916 ]]\n"
     ]
    }
   ],
   "source": [
    "# inverse the scaling\n",
    "res = scaler.inverse_transform(pred)\n",
    "\n",
    "print(res)"
   ]
  },
  {
   "cell_type": "code",
   "execution_count": 39,
   "metadata": {},
   "outputs": [
    {
     "name": "stdout",
     "output_type": "stream",
     "text": [
      "Rice                       57.470000\n",
      "Wheat                      45.640000\n",
      "Atta (Wheat)               53.770000\n",
      "Gram Dal                  100.300000\n",
      "Tur/Arhar Dal             173.540000\n",
      "Urad Dal                  139.570000\n",
      "Moong Dal                 122.270000\n",
      "Masoor Dal                 92.410000\n",
      "Sugar                      44.200000\n",
      "Milk @                     47.300000\n",
      "Groundnut Oil (Packed)    204.170000\n",
      "Mustard Oil (Packed)      171.500000\n",
      "Vanaspati (Packed)        127.370000\n",
      "Soya Oil (Packed)         125.307419\n",
      "Sunflower Oil (Packed)    116.400000\n",
      "Palm Oil (Packed)          96.730000\n",
      "Gur                        57.530000\n",
      "Tea Loose                 284.170000\n",
      "Salt Pack (Iodised)        24.550000\n",
      "Potato                     49.900000\n",
      "Onion                      56.000000\n",
      "Tomato                     27.130000\n",
      "Name: 3170, dtype: float64\n"
     ]
    }
   ],
   "source": [
    "print(req_data.iloc[-1])"
   ]
  }
 ],
 "metadata": {
  "kernelspec": {
   "display_name": "Python 3",
   "language": "python",
   "name": "python3"
  },
  "language_info": {
   "codemirror_mode": {
    "name": "ipython",
    "version": 3
   },
   "file_extension": ".py",
   "mimetype": "text/x-python",
   "name": "python",
   "nbconvert_exporter": "python",
   "pygments_lexer": "ipython3",
   "version": "3.12.6"
  }
 },
 "nbformat": 4,
 "nbformat_minor": 2
}
